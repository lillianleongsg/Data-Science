{
 "cells": [
  {
   "cell_type": "markdown",
   "id": "38b4ffac",
   "metadata": {},
   "source": [
    "# Business Problem"
   ]
  },
  {
   "cell_type": "markdown",
   "id": "d3f9fb3a",
   "metadata": {},
   "source": [
    "A property investment firm would like to know which kind of property to invest in Melbourne, Australia so that they can better advice their potential customers. <br>\n",
    "\n",
    "We attempt to answer the following questions: <br>\n",
    "\n",
    "Which part of Melbourne is the most expensive? <br>\n",
    "How is the price distribution in different parts of Melbourne? <br>\n",
    "Other than location, what other property feature will affect the price? <br>\n",
    "Example – number of rooms, bathrooms, housing type or year of build?\n"
   ]
  },
  {
   "cell_type": "markdown",
   "id": "8db27eb6",
   "metadata": {},
   "source": [
    "## Importing Libraries & Loading Datasets"
   ]
  },
  {
   "cell_type": "code",
   "execution_count": 1,
   "id": "130e1b4f",
   "metadata": {},
   "outputs": [],
   "source": [
    "# Dataset: https://www.kaggle.com/datasets/anthonypino/melbourne-housing-market\n",
    "\n",
    "import pandas as pd\n",
    "import numpy as np\n",
    "import seaborn as sns\n",
    "import matplotlib.pyplot as plt\n",
    "import seaborn as sns\n",
    "%matplotlib inline\n",
    "\n",
    "# Set pandas to show all columns of data\n",
    "pd.set_option('display.max_columns', None)\n",
    "\n",
    "# save filepath to variable for easier access\n",
    "file_path = 'data/melb_data.csv'\n",
    "\n",
    "# read the data and store data in DataFrame titled melbourne_data\n",
    "melbourne_data_df = pd.read_csv(file_path) "
   ]
  },
  {
   "cell_type": "code",
   "execution_count": 2,
   "id": "49e1d28d",
   "metadata": {},
   "outputs": [
    {
     "data": {
      "text/html": [
       "<div>\n",
       "<style scoped>\n",
       "    .dataframe tbody tr th:only-of-type {\n",
       "        vertical-align: middle;\n",
       "    }\n",
       "\n",
       "    .dataframe tbody tr th {\n",
       "        vertical-align: top;\n",
       "    }\n",
       "\n",
       "    .dataframe thead th {\n",
       "        text-align: right;\n",
       "    }\n",
       "</style>\n",
       "<table border=\"1\" class=\"dataframe\">\n",
       "  <thead>\n",
       "    <tr style=\"text-align: right;\">\n",
       "      <th></th>\n",
       "      <th>Suburb</th>\n",
       "      <th>Address</th>\n",
       "      <th>Rooms</th>\n",
       "      <th>Type</th>\n",
       "      <th>Price</th>\n",
       "      <th>Method</th>\n",
       "      <th>SellerG</th>\n",
       "      <th>Date</th>\n",
       "      <th>Distance</th>\n",
       "      <th>Postcode</th>\n",
       "      <th>Bathroom</th>\n",
       "      <th>Car</th>\n",
       "      <th>Landsize</th>\n",
       "      <th>BuildingArea</th>\n",
       "      <th>YearBuilt</th>\n",
       "      <th>CouncilArea</th>\n",
       "      <th>Lattitude</th>\n",
       "      <th>Longtitude</th>\n",
       "      <th>Regionname</th>\n",
       "      <th>Propertycount</th>\n",
       "    </tr>\n",
       "  </thead>\n",
       "  <tbody>\n",
       "    <tr>\n",
       "      <th>0</th>\n",
       "      <td>Abbotsford</td>\n",
       "      <td>85 Turner St</td>\n",
       "      <td>2</td>\n",
       "      <td>h</td>\n",
       "      <td>1480000</td>\n",
       "      <td>S</td>\n",
       "      <td>NaN</td>\n",
       "      <td>3/12/2016</td>\n",
       "      <td>2.5</td>\n",
       "      <td>3067</td>\n",
       "      <td>1</td>\n",
       "      <td>1.0</td>\n",
       "      <td>202</td>\n",
       "      <td>NaN</td>\n",
       "      <td>NaN</td>\n",
       "      <td>Yarra</td>\n",
       "      <td>-37.7996</td>\n",
       "      <td>144.9984</td>\n",
       "      <td>Northern Metropolitan</td>\n",
       "      <td>4019</td>\n",
       "    </tr>\n",
       "    <tr>\n",
       "      <th>1</th>\n",
       "      <td>Abbotsford</td>\n",
       "      <td>25 Bloomburg St</td>\n",
       "      <td>2</td>\n",
       "      <td>h</td>\n",
       "      <td>1035000</td>\n",
       "      <td>S</td>\n",
       "      <td>Biggin</td>\n",
       "      <td>4/2/2016</td>\n",
       "      <td>2.5</td>\n",
       "      <td>3067</td>\n",
       "      <td>1</td>\n",
       "      <td>0.0</td>\n",
       "      <td>156</td>\n",
       "      <td>79.0</td>\n",
       "      <td>1900.0</td>\n",
       "      <td>Yarra</td>\n",
       "      <td>-37.8079</td>\n",
       "      <td>144.9934</td>\n",
       "      <td>Northern Metropolitan</td>\n",
       "      <td>4019</td>\n",
       "    </tr>\n",
       "    <tr>\n",
       "      <th>2</th>\n",
       "      <td>Abbotsford</td>\n",
       "      <td>5 Charles St</td>\n",
       "      <td>3</td>\n",
       "      <td>h</td>\n",
       "      <td>1465000</td>\n",
       "      <td>SP</td>\n",
       "      <td>Biggin</td>\n",
       "      <td>4/3/2017</td>\n",
       "      <td>2.5</td>\n",
       "      <td>3067</td>\n",
       "      <td>2</td>\n",
       "      <td>0.0</td>\n",
       "      <td>134</td>\n",
       "      <td>150.0</td>\n",
       "      <td>1900.0</td>\n",
       "      <td>Yarra</td>\n",
       "      <td>-37.8093</td>\n",
       "      <td>144.9944</td>\n",
       "      <td>Northern Metropolitan</td>\n",
       "      <td>4019</td>\n",
       "    </tr>\n",
       "    <tr>\n",
       "      <th>3</th>\n",
       "      <td>Abbotsford</td>\n",
       "      <td>40 Federation La</td>\n",
       "      <td>3</td>\n",
       "      <td>h</td>\n",
       "      <td>850000</td>\n",
       "      <td>PI</td>\n",
       "      <td>Biggin</td>\n",
       "      <td>4/3/2017</td>\n",
       "      <td>2.5</td>\n",
       "      <td>3067</td>\n",
       "      <td>2</td>\n",
       "      <td>1.0</td>\n",
       "      <td>94</td>\n",
       "      <td>NaN</td>\n",
       "      <td>NaN</td>\n",
       "      <td>Yarra</td>\n",
       "      <td>-37.7969</td>\n",
       "      <td>144.9969</td>\n",
       "      <td>Northern Metropolitan</td>\n",
       "      <td>4019</td>\n",
       "    </tr>\n",
       "    <tr>\n",
       "      <th>4</th>\n",
       "      <td>Abbotsford</td>\n",
       "      <td>55a Park St</td>\n",
       "      <td>4</td>\n",
       "      <td>h</td>\n",
       "      <td>1600000</td>\n",
       "      <td>VB</td>\n",
       "      <td>Nelson</td>\n",
       "      <td>4/6/2016</td>\n",
       "      <td>2.5</td>\n",
       "      <td>3067</td>\n",
       "      <td>1</td>\n",
       "      <td>2.0</td>\n",
       "      <td>120</td>\n",
       "      <td>142.0</td>\n",
       "      <td>2014.0</td>\n",
       "      <td>Yarra</td>\n",
       "      <td>-37.8072</td>\n",
       "      <td>144.9941</td>\n",
       "      <td>Northern Metropolitan</td>\n",
       "      <td>4019</td>\n",
       "    </tr>\n",
       "  </tbody>\n",
       "</table>\n",
       "</div>"
      ],
      "text/plain": [
       "       Suburb           Address  Rooms Type    Price Method SellerG  \\\n",
       "0  Abbotsford      85 Turner St      2    h  1480000      S     NaN   \n",
       "1  Abbotsford   25 Bloomburg St      2    h  1035000      S  Biggin   \n",
       "2  Abbotsford      5 Charles St      3    h  1465000     SP  Biggin   \n",
       "3  Abbotsford  40 Federation La      3    h   850000     PI  Biggin   \n",
       "4  Abbotsford       55a Park St      4    h  1600000     VB  Nelson   \n",
       "\n",
       "        Date  Distance  Postcode  Bathroom  Car  Landsize  BuildingArea  \\\n",
       "0  3/12/2016       2.5      3067         1  1.0       202           NaN   \n",
       "1   4/2/2016       2.5      3067         1  0.0       156          79.0   \n",
       "2   4/3/2017       2.5      3067         2  0.0       134         150.0   \n",
       "3   4/3/2017       2.5      3067         2  1.0        94           NaN   \n",
       "4   4/6/2016       2.5      3067         1  2.0       120         142.0   \n",
       "\n",
       "   YearBuilt CouncilArea  Lattitude  Longtitude             Regionname  \\\n",
       "0        NaN       Yarra   -37.7996    144.9984  Northern Metropolitan   \n",
       "1     1900.0       Yarra   -37.8079    144.9934  Northern Metropolitan   \n",
       "2     1900.0       Yarra   -37.8093    144.9944  Northern Metropolitan   \n",
       "3        NaN       Yarra   -37.7969    144.9969  Northern Metropolitan   \n",
       "4     2014.0       Yarra   -37.8072    144.9941  Northern Metropolitan   \n",
       "\n",
       "   Propertycount  \n",
       "0           4019  \n",
       "1           4019  \n",
       "2           4019  \n",
       "3           4019  \n",
       "4           4019  "
      ]
     },
     "execution_count": 2,
     "metadata": {},
     "output_type": "execute_result"
    }
   ],
   "source": [
    "melbourne_data_df.head()"
   ]
  },
  {
   "cell_type": "code",
   "execution_count": 3,
   "id": "69043041",
   "metadata": {},
   "outputs": [
    {
     "data": {
      "text/plain": [
       "(13580, 20)"
      ]
     },
     "execution_count": 3,
     "metadata": {},
     "output_type": "execute_result"
    }
   ],
   "source": [
    "melbourne_data_df.shape"
   ]
  },
  {
   "cell_type": "code",
   "execution_count": 4,
   "id": "ace422de",
   "metadata": {},
   "outputs": [
    {
     "data": {
      "text/plain": [
       "Index(['Suburb', 'Address', 'Rooms', 'Type', 'Price', 'Method', 'SellerG',\n",
       "       'Date', 'Distance', 'Postcode', 'Bathroom', 'Car', 'Landsize',\n",
       "       'BuildingArea', 'YearBuilt', 'CouncilArea', 'Lattitude', 'Longtitude',\n",
       "       'Regionname', 'Propertycount'],\n",
       "      dtype='object')"
      ]
     },
     "execution_count": 4,
     "metadata": {},
     "output_type": "execute_result"
    }
   ],
   "source": [
    "melbourne_data_df.columns"
   ]
  },
  {
   "cell_type": "code",
   "execution_count": 5,
   "id": "396bed42",
   "metadata": {},
   "outputs": [
    {
     "name": "stdout",
     "output_type": "stream",
     "text": [
      "<class 'pandas.core.frame.DataFrame'>\n",
      "RangeIndex: 13580 entries, 0 to 13579\n",
      "Data columns (total 20 columns):\n",
      " #   Column         Non-Null Count  Dtype  \n",
      "---  ------         --------------  -----  \n",
      " 0   Suburb         13580 non-null  object \n",
      " 1   Address        13580 non-null  object \n",
      " 2   Rooms          13580 non-null  int64  \n",
      " 3   Type           13580 non-null  object \n",
      " 4   Price          13580 non-null  int64  \n",
      " 5   Method         13580 non-null  object \n",
      " 6   SellerG        13579 non-null  object \n",
      " 7   Date           13580 non-null  object \n",
      " 8   Distance       13580 non-null  float64\n",
      " 9   Postcode       13580 non-null  int64  \n",
      " 10  Bathroom       13580 non-null  int64  \n",
      " 11  Car            13518 non-null  float64\n",
      " 12  Landsize       13580 non-null  int64  \n",
      " 13  BuildingArea   7130 non-null   float64\n",
      " 14  YearBuilt      8205 non-null   float64\n",
      " 15  CouncilArea    12211 non-null  object \n",
      " 16  Lattitude      13580 non-null  float64\n",
      " 17  Longtitude     13580 non-null  float64\n",
      " 18  Regionname     13580 non-null  object \n",
      " 19  Propertycount  13580 non-null  int64  \n",
      "dtypes: float64(6), int64(6), object(8)\n",
      "memory usage: 2.1+ MB\n"
     ]
    }
   ],
   "source": [
    "melbourne_data_df.info()"
   ]
  },
  {
   "cell_type": "code",
   "execution_count": 6,
   "id": "29e610e0",
   "metadata": {
    "scrolled": true
   },
   "outputs": [
    {
     "data": {
      "text/html": [
       "<div>\n",
       "<style scoped>\n",
       "    .dataframe tbody tr th:only-of-type {\n",
       "        vertical-align: middle;\n",
       "    }\n",
       "\n",
       "    .dataframe tbody tr th {\n",
       "        vertical-align: top;\n",
       "    }\n",
       "\n",
       "    .dataframe thead th {\n",
       "        text-align: right;\n",
       "    }\n",
       "</style>\n",
       "<table border=\"1\" class=\"dataframe\">\n",
       "  <thead>\n",
       "    <tr style=\"text-align: right;\">\n",
       "      <th></th>\n",
       "      <th>count</th>\n",
       "      <th>mean</th>\n",
       "      <th>std</th>\n",
       "      <th>min</th>\n",
       "      <th>25%</th>\n",
       "      <th>50%</th>\n",
       "      <th>75%</th>\n",
       "      <th>max</th>\n",
       "    </tr>\n",
       "  </thead>\n",
       "  <tbody>\n",
       "    <tr>\n",
       "      <th>Rooms</th>\n",
       "      <td>13580.0</td>\n",
       "      <td>2.937997e+00</td>\n",
       "      <td>0.955748</td>\n",
       "      <td>1.00000</td>\n",
       "      <td>2.000000</td>\n",
       "      <td>3.000000</td>\n",
       "      <td>3.000000e+00</td>\n",
       "      <td>1.000000e+01</td>\n",
       "    </tr>\n",
       "    <tr>\n",
       "      <th>Price</th>\n",
       "      <td>13580.0</td>\n",
       "      <td>1.075684e+06</td>\n",
       "      <td>639310.724296</td>\n",
       "      <td>85000.00000</td>\n",
       "      <td>650000.000000</td>\n",
       "      <td>903000.000000</td>\n",
       "      <td>1.330000e+06</td>\n",
       "      <td>9.000000e+06</td>\n",
       "    </tr>\n",
       "    <tr>\n",
       "      <th>Distance</th>\n",
       "      <td>13580.0</td>\n",
       "      <td>1.013778e+01</td>\n",
       "      <td>5.868725</td>\n",
       "      <td>0.00000</td>\n",
       "      <td>6.100000</td>\n",
       "      <td>9.200000</td>\n",
       "      <td>1.300000e+01</td>\n",
       "      <td>4.810000e+01</td>\n",
       "    </tr>\n",
       "    <tr>\n",
       "      <th>Postcode</th>\n",
       "      <td>13580.0</td>\n",
       "      <td>3.105302e+03</td>\n",
       "      <td>90.676964</td>\n",
       "      <td>3000.00000</td>\n",
       "      <td>3044.000000</td>\n",
       "      <td>3084.000000</td>\n",
       "      <td>3.148000e+03</td>\n",
       "      <td>3.977000e+03</td>\n",
       "    </tr>\n",
       "    <tr>\n",
       "      <th>Bathroom</th>\n",
       "      <td>13580.0</td>\n",
       "      <td>1.534242e+00</td>\n",
       "      <td>0.691712</td>\n",
       "      <td>0.00000</td>\n",
       "      <td>1.000000</td>\n",
       "      <td>1.000000</td>\n",
       "      <td>2.000000e+00</td>\n",
       "      <td>8.000000e+00</td>\n",
       "    </tr>\n",
       "    <tr>\n",
       "      <th>Car</th>\n",
       "      <td>13518.0</td>\n",
       "      <td>1.610075e+00</td>\n",
       "      <td>0.962634</td>\n",
       "      <td>0.00000</td>\n",
       "      <td>1.000000</td>\n",
       "      <td>2.000000</td>\n",
       "      <td>2.000000e+00</td>\n",
       "      <td>1.000000e+01</td>\n",
       "    </tr>\n",
       "    <tr>\n",
       "      <th>Landsize</th>\n",
       "      <td>13580.0</td>\n",
       "      <td>5.584161e+02</td>\n",
       "      <td>3990.669241</td>\n",
       "      <td>0.00000</td>\n",
       "      <td>177.000000</td>\n",
       "      <td>440.000000</td>\n",
       "      <td>6.510000e+02</td>\n",
       "      <td>4.330140e+05</td>\n",
       "    </tr>\n",
       "    <tr>\n",
       "      <th>BuildingArea</th>\n",
       "      <td>7130.0</td>\n",
       "      <td>1.519676e+02</td>\n",
       "      <td>541.014538</td>\n",
       "      <td>0.00000</td>\n",
       "      <td>93.000000</td>\n",
       "      <td>126.000000</td>\n",
       "      <td>1.740000e+02</td>\n",
       "      <td>4.451500e+04</td>\n",
       "    </tr>\n",
       "    <tr>\n",
       "      <th>YearBuilt</th>\n",
       "      <td>8205.0</td>\n",
       "      <td>1.964684e+03</td>\n",
       "      <td>37.273762</td>\n",
       "      <td>1196.00000</td>\n",
       "      <td>1940.000000</td>\n",
       "      <td>1970.000000</td>\n",
       "      <td>1.999000e+03</td>\n",
       "      <td>2.018000e+03</td>\n",
       "    </tr>\n",
       "    <tr>\n",
       "      <th>Lattitude</th>\n",
       "      <td>13580.0</td>\n",
       "      <td>-3.780920e+01</td>\n",
       "      <td>0.079260</td>\n",
       "      <td>-38.18255</td>\n",
       "      <td>-37.856822</td>\n",
       "      <td>-37.802355</td>\n",
       "      <td>-3.775640e+01</td>\n",
       "      <td>-3.740853e+01</td>\n",
       "    </tr>\n",
       "    <tr>\n",
       "      <th>Longtitude</th>\n",
       "      <td>13580.0</td>\n",
       "      <td>1.449952e+02</td>\n",
       "      <td>0.103916</td>\n",
       "      <td>144.43181</td>\n",
       "      <td>144.929600</td>\n",
       "      <td>145.000100</td>\n",
       "      <td>1.450583e+02</td>\n",
       "      <td>1.455264e+02</td>\n",
       "    </tr>\n",
       "    <tr>\n",
       "      <th>Propertycount</th>\n",
       "      <td>13580.0</td>\n",
       "      <td>7.454417e+03</td>\n",
       "      <td>4378.581772</td>\n",
       "      <td>249.00000</td>\n",
       "      <td>4380.000000</td>\n",
       "      <td>6555.000000</td>\n",
       "      <td>1.033100e+04</td>\n",
       "      <td>2.165000e+04</td>\n",
       "    </tr>\n",
       "  </tbody>\n",
       "</table>\n",
       "</div>"
      ],
      "text/plain": [
       "                 count          mean            std          min  \\\n",
       "Rooms          13580.0  2.937997e+00       0.955748      1.00000   \n",
       "Price          13580.0  1.075684e+06  639310.724296  85000.00000   \n",
       "Distance       13580.0  1.013778e+01       5.868725      0.00000   \n",
       "Postcode       13580.0  3.105302e+03      90.676964   3000.00000   \n",
       "Bathroom       13580.0  1.534242e+00       0.691712      0.00000   \n",
       "Car            13518.0  1.610075e+00       0.962634      0.00000   \n",
       "Landsize       13580.0  5.584161e+02    3990.669241      0.00000   \n",
       "BuildingArea    7130.0  1.519676e+02     541.014538      0.00000   \n",
       "YearBuilt       8205.0  1.964684e+03      37.273762   1196.00000   \n",
       "Lattitude      13580.0 -3.780920e+01       0.079260    -38.18255   \n",
       "Longtitude     13580.0  1.449952e+02       0.103916    144.43181   \n",
       "Propertycount  13580.0  7.454417e+03    4378.581772    249.00000   \n",
       "\n",
       "                         25%            50%           75%           max  \n",
       "Rooms               2.000000       3.000000  3.000000e+00  1.000000e+01  \n",
       "Price          650000.000000  903000.000000  1.330000e+06  9.000000e+06  \n",
       "Distance            6.100000       9.200000  1.300000e+01  4.810000e+01  \n",
       "Postcode         3044.000000    3084.000000  3.148000e+03  3.977000e+03  \n",
       "Bathroom            1.000000       1.000000  2.000000e+00  8.000000e+00  \n",
       "Car                 1.000000       2.000000  2.000000e+00  1.000000e+01  \n",
       "Landsize          177.000000     440.000000  6.510000e+02  4.330140e+05  \n",
       "BuildingArea       93.000000     126.000000  1.740000e+02  4.451500e+04  \n",
       "YearBuilt        1940.000000    1970.000000  1.999000e+03  2.018000e+03  \n",
       "Lattitude         -37.856822     -37.802355 -3.775640e+01 -3.740853e+01  \n",
       "Longtitude        144.929600     145.000100  1.450583e+02  1.455264e+02  \n",
       "Propertycount    4380.000000    6555.000000  1.033100e+04  2.165000e+04  "
      ]
     },
     "execution_count": 6,
     "metadata": {},
     "output_type": "execute_result"
    }
   ],
   "source": [
    "melbourne_data_df.describe().T"
   ]
  },
  {
   "cell_type": "markdown",
   "id": "8b160b51",
   "metadata": {},
   "source": [
    "### Preliminary EDA on Dataset"
   ]
  },
  {
   "cell_type": "markdown",
   "id": "feaf7fef",
   "metadata": {},
   "source": [
    "The above information tells us that our dataset features consists of three datatypes. <br>\n",
    "(float64, integer64, object). <br> There is a total of 13 numerical features, and 8 categorical features."
   ]
  },
  {
   "cell_type": "markdown",
   "id": "2095574a",
   "metadata": {},
   "source": [
    "After I identified that there are indeed msissing values, the next step is to identify which rows specifically has missing values, starting with missing numerical features!"
   ]
  },
  {
   "cell_type": "code",
   "execution_count": 7,
   "id": "2678c10d",
   "metadata": {},
   "outputs": [
    {
     "data": {
      "text/plain": [
       "Rooms               0\n",
       "Price               0\n",
       "Distance            0\n",
       "Postcode            0\n",
       "Bathroom            0\n",
       "Car                62\n",
       "Landsize            0\n",
       "BuildingArea     6450\n",
       "YearBuilt        5375\n",
       "Lattitude           0\n",
       "Longtitude          0\n",
       "Propertycount       0\n",
       "dtype: int64"
      ]
     },
     "execution_count": 7,
     "metadata": {},
     "output_type": "execute_result"
    }
   ],
   "source": [
    "#Select all numerical data (By excluding object, we telling pandas we want all numerical data)\n",
    "num_col = melbourne_data_df.select_dtypes(exclude='object')\n",
    "\n",
    "# let's try to visualize the number of missing values in each numerical feature\n",
    "num_col.isnull().sum()"
   ]
  },
  {
   "cell_type": "markdown",
   "id": "38eac08a",
   "metadata": {},
   "source": [
    "And these are the missing categorical features!"
   ]
  },
  {
   "cell_type": "code",
   "execution_count": 8,
   "id": "b84b49b7",
   "metadata": {},
   "outputs": [
    {
     "data": {
      "text/plain": [
       "Suburb            0\n",
       "Address           0\n",
       "Type              0\n",
       "Method            0\n",
       "SellerG           1\n",
       "Date              0\n",
       "CouncilArea    1369\n",
       "Regionname        0\n",
       "dtype: int64"
      ]
     },
     "execution_count": 8,
     "metadata": {},
     "output_type": "execute_result"
    }
   ],
   "source": [
    "# Select all categorical data (By excluding int64 and float64, we telling pandas we want all categorical data)\n",
    "cat_col = melbourne_data_df.select_dtypes(exclude=['int64','float64'])\n",
    "\n",
    "# let's try to visualize the number of missing values in each numerical feature\n",
    "cat_col.isnull().sum()"
   ]
  },
  {
   "cell_type": "markdown",
   "id": "6cced204",
   "metadata": {},
   "source": [
    "I print a snippet of the rows of data which have missing fields to get an idea"
   ]
  },
  {
   "cell_type": "code",
   "execution_count": 9,
   "id": "2414849d",
   "metadata": {
    "scrolled": true
   },
   "outputs": [
    {
     "data": {
      "text/html": [
       "<div>\n",
       "<style scoped>\n",
       "    .dataframe tbody tr th:only-of-type {\n",
       "        vertical-align: middle;\n",
       "    }\n",
       "\n",
       "    .dataframe tbody tr th {\n",
       "        vertical-align: top;\n",
       "    }\n",
       "\n",
       "    .dataframe thead th {\n",
       "        text-align: right;\n",
       "    }\n",
       "</style>\n",
       "<table border=\"1\" class=\"dataframe\">\n",
       "  <thead>\n",
       "    <tr style=\"text-align: right;\">\n",
       "      <th></th>\n",
       "      <th>Rooms</th>\n",
       "      <th>Price</th>\n",
       "      <th>Distance</th>\n",
       "      <th>Postcode</th>\n",
       "      <th>Bathroom</th>\n",
       "      <th>Car</th>\n",
       "      <th>Landsize</th>\n",
       "      <th>BuildingArea</th>\n",
       "      <th>YearBuilt</th>\n",
       "      <th>Lattitude</th>\n",
       "      <th>Longtitude</th>\n",
       "      <th>Propertycount</th>\n",
       "    </tr>\n",
       "  </thead>\n",
       "  <tbody>\n",
       "    <tr>\n",
       "      <th>0</th>\n",
       "      <td>2</td>\n",
       "      <td>1480000</td>\n",
       "      <td>2.5</td>\n",
       "      <td>3067</td>\n",
       "      <td>1</td>\n",
       "      <td>1.0</td>\n",
       "      <td>202</td>\n",
       "      <td>NaN</td>\n",
       "      <td>NaN</td>\n",
       "      <td>-37.7996</td>\n",
       "      <td>144.9984</td>\n",
       "      <td>4019</td>\n",
       "    </tr>\n",
       "    <tr>\n",
       "      <th>1</th>\n",
       "      <td>2</td>\n",
       "      <td>1035000</td>\n",
       "      <td>2.5</td>\n",
       "      <td>3067</td>\n",
       "      <td>1</td>\n",
       "      <td>0.0</td>\n",
       "      <td>156</td>\n",
       "      <td>79.0</td>\n",
       "      <td>1900.0</td>\n",
       "      <td>-37.8079</td>\n",
       "      <td>144.9934</td>\n",
       "      <td>4019</td>\n",
       "    </tr>\n",
       "    <tr>\n",
       "      <th>2</th>\n",
       "      <td>3</td>\n",
       "      <td>1465000</td>\n",
       "      <td>2.5</td>\n",
       "      <td>3067</td>\n",
       "      <td>2</td>\n",
       "      <td>0.0</td>\n",
       "      <td>134</td>\n",
       "      <td>150.0</td>\n",
       "      <td>1900.0</td>\n",
       "      <td>-37.8093</td>\n",
       "      <td>144.9944</td>\n",
       "      <td>4019</td>\n",
       "    </tr>\n",
       "    <tr>\n",
       "      <th>3</th>\n",
       "      <td>3</td>\n",
       "      <td>850000</td>\n",
       "      <td>2.5</td>\n",
       "      <td>3067</td>\n",
       "      <td>2</td>\n",
       "      <td>1.0</td>\n",
       "      <td>94</td>\n",
       "      <td>NaN</td>\n",
       "      <td>NaN</td>\n",
       "      <td>-37.7969</td>\n",
       "      <td>144.9969</td>\n",
       "      <td>4019</td>\n",
       "    </tr>\n",
       "    <tr>\n",
       "      <th>4</th>\n",
       "      <td>4</td>\n",
       "      <td>1600000</td>\n",
       "      <td>2.5</td>\n",
       "      <td>3067</td>\n",
       "      <td>1</td>\n",
       "      <td>2.0</td>\n",
       "      <td>120</td>\n",
       "      <td>142.0</td>\n",
       "      <td>2014.0</td>\n",
       "      <td>-37.8072</td>\n",
       "      <td>144.9941</td>\n",
       "      <td>4019</td>\n",
       "    </tr>\n",
       "  </tbody>\n",
       "</table>\n",
       "</div>"
      ],
      "text/plain": [
       "   Rooms    Price  Distance  Postcode  Bathroom  Car  Landsize  BuildingArea  \\\n",
       "0      2  1480000       2.5      3067         1  1.0       202           NaN   \n",
       "1      2  1035000       2.5      3067         1  0.0       156          79.0   \n",
       "2      3  1465000       2.5      3067         2  0.0       134         150.0   \n",
       "3      3   850000       2.5      3067         2  1.0        94           NaN   \n",
       "4      4  1600000       2.5      3067         1  2.0       120         142.0   \n",
       "\n",
       "   YearBuilt  Lattitude  Longtitude  Propertycount  \n",
       "0        NaN   -37.7996    144.9984           4019  \n",
       "1     1900.0   -37.8079    144.9934           4019  \n",
       "2     1900.0   -37.8093    144.9944           4019  \n",
       "3        NaN   -37.7969    144.9969           4019  \n",
       "4     2014.0   -37.8072    144.9941           4019  "
      ]
     },
     "execution_count": 9,
     "metadata": {},
     "output_type": "execute_result"
    }
   ],
   "source": [
    "num_col.head()"
   ]
  },
  {
   "cell_type": "markdown",
   "id": "590bb42d",
   "metadata": {},
   "source": [
    "### Cleaning Dataset - Filtering Outliers in column 'YearBuilt' and \"CouncilArea\"."
   ]
  },
  {
   "cell_type": "code",
   "execution_count": 10,
   "id": "db60ac72",
   "metadata": {},
   "outputs": [],
   "source": [
    "# The minimum year in dataset was 1196.00000\n",
    "melbourne_data_df = melbourne_data_df[melbourne_data_df['YearBuilt'] != 1196]"
   ]
  },
  {
   "cell_type": "code",
   "execution_count": 11,
   "id": "ec0f7bf7",
   "metadata": {},
   "outputs": [
    {
     "data": {
      "text/plain": [
       "CouncilArea\n",
       "Boroondara           1617500.0\n",
       "Bayside              1550000.0\n",
       "Manningham           1220000.0\n",
       "Whitehorse           1147500.0\n",
       "Monash               1100000.0\n",
       "Yarra                1090000.0\n",
       "Glen Eira            1040500.0\n",
       "Stonnington          1020000.0\n",
       "Kingston              940000.0\n",
       "Port Phillip          920000.0\n",
       "Hobsons Bay           912500.0\n",
       "Moonee Valley         910000.0\n",
       "Knox                  857500.0\n",
       "Darebin               851000.0\n",
       "Nillumbik             850000.0\n",
       "Maribyrnong           816000.0\n",
       "Maroondah             811500.0\n",
       "Banyule               802500.0\n",
       "Melbourne             779500.0\n",
       "Moreland              771000.0\n",
       "Greater Dandenong     683000.0\n",
       "Yarra Ranges          673500.0\n",
       "Frankston             640000.0\n",
       "Brimbank              635400.0\n",
       "Casey                 626250.0\n",
       "Whittlesea            610000.0\n",
       "Cardinia              601250.0\n",
       "Macedon Ranges        540000.0\n",
       "Hume                  539000.0\n",
       "Wyndham               512000.0\n",
       "Melton                460500.0\n",
       "Moorabool             285000.0\n",
       "Name: Price, dtype: float64"
      ]
     },
     "execution_count": 11,
     "metadata": {},
     "output_type": "execute_result"
    }
   ],
   "source": [
    "# Drop the rows with CouncilArea = \"Unavailable\"\n",
    "melbourne_data_df = melbourne_data_df[melbourne_data_df[\"CouncilArea\"].str.contains(\"Unavailable\") == False]\n",
    "melbourne_data_council = melbourne_data_df.groupby(['CouncilArea'])['Price'].median().sort_values(ascending=False)\n",
    "melbourne_data_council"
   ]
  },
  {
   "cell_type": "markdown",
   "id": "eaaacf67",
   "metadata": {},
   "source": [
    "### Cleaning Dataset - Missing Values"
   ]
  },
  {
   "cell_type": "code",
   "execution_count": 12,
   "id": "3973b144",
   "metadata": {
    "scrolled": false
   },
   "outputs": [
    {
     "data": {
      "text/html": [
       "<div>\n",
       "<style scoped>\n",
       "    .dataframe tbody tr th:only-of-type {\n",
       "        vertical-align: middle;\n",
       "    }\n",
       "\n",
       "    .dataframe tbody tr th {\n",
       "        vertical-align: top;\n",
       "    }\n",
       "\n",
       "    .dataframe thead th {\n",
       "        text-align: right;\n",
       "    }\n",
       "</style>\n",
       "<table border=\"1\" class=\"dataframe\">\n",
       "  <thead>\n",
       "    <tr style=\"text-align: right;\">\n",
       "      <th></th>\n",
       "      <th>Suburb</th>\n",
       "      <th>Address</th>\n",
       "      <th>Rooms</th>\n",
       "      <th>Type</th>\n",
       "      <th>Price</th>\n",
       "      <th>Method</th>\n",
       "      <th>SellerG</th>\n",
       "      <th>Date</th>\n",
       "      <th>Distance</th>\n",
       "      <th>Postcode</th>\n",
       "      <th>Bathroom</th>\n",
       "      <th>Car</th>\n",
       "      <th>Landsize</th>\n",
       "      <th>BuildingArea</th>\n",
       "      <th>YearBuilt</th>\n",
       "      <th>CouncilArea</th>\n",
       "      <th>Lattitude</th>\n",
       "      <th>Longtitude</th>\n",
       "      <th>Regionname</th>\n",
       "      <th>Propertycount</th>\n",
       "    </tr>\n",
       "  </thead>\n",
       "  <tbody>\n",
       "    <tr>\n",
       "      <th>0</th>\n",
       "      <td>Abbotsford</td>\n",
       "      <td>85 Turner St</td>\n",
       "      <td>2</td>\n",
       "      <td>h</td>\n",
       "      <td>1480000</td>\n",
       "      <td>S</td>\n",
       "      <td>Nelson</td>\n",
       "      <td>3/12/2016</td>\n",
       "      <td>2.5</td>\n",
       "      <td>3067</td>\n",
       "      <td>1</td>\n",
       "      <td>1.0</td>\n",
       "      <td>202</td>\n",
       "      <td>144.226275</td>\n",
       "      <td>1964.708876</td>\n",
       "      <td>Yarra</td>\n",
       "      <td>-37.7996</td>\n",
       "      <td>144.9984</td>\n",
       "      <td>Northern Metropolitan</td>\n",
       "      <td>4019</td>\n",
       "    </tr>\n",
       "    <tr>\n",
       "      <th>1</th>\n",
       "      <td>Abbotsford</td>\n",
       "      <td>25 Bloomburg St</td>\n",
       "      <td>2</td>\n",
       "      <td>h</td>\n",
       "      <td>1035000</td>\n",
       "      <td>S</td>\n",
       "      <td>Biggin</td>\n",
       "      <td>4/2/2016</td>\n",
       "      <td>2.5</td>\n",
       "      <td>3067</td>\n",
       "      <td>1</td>\n",
       "      <td>0.0</td>\n",
       "      <td>156</td>\n",
       "      <td>79.000000</td>\n",
       "      <td>1900.000000</td>\n",
       "      <td>Yarra</td>\n",
       "      <td>-37.8079</td>\n",
       "      <td>144.9934</td>\n",
       "      <td>Northern Metropolitan</td>\n",
       "      <td>4019</td>\n",
       "    </tr>\n",
       "    <tr>\n",
       "      <th>2</th>\n",
       "      <td>Abbotsford</td>\n",
       "      <td>5 Charles St</td>\n",
       "      <td>3</td>\n",
       "      <td>h</td>\n",
       "      <td>1465000</td>\n",
       "      <td>SP</td>\n",
       "      <td>Biggin</td>\n",
       "      <td>4/3/2017</td>\n",
       "      <td>2.5</td>\n",
       "      <td>3067</td>\n",
       "      <td>2</td>\n",
       "      <td>0.0</td>\n",
       "      <td>134</td>\n",
       "      <td>150.000000</td>\n",
       "      <td>1900.000000</td>\n",
       "      <td>Yarra</td>\n",
       "      <td>-37.8093</td>\n",
       "      <td>144.9944</td>\n",
       "      <td>Northern Metropolitan</td>\n",
       "      <td>4019</td>\n",
       "    </tr>\n",
       "    <tr>\n",
       "      <th>3</th>\n",
       "      <td>Abbotsford</td>\n",
       "      <td>40 Federation La</td>\n",
       "      <td>3</td>\n",
       "      <td>h</td>\n",
       "      <td>850000</td>\n",
       "      <td>PI</td>\n",
       "      <td>Biggin</td>\n",
       "      <td>4/3/2017</td>\n",
       "      <td>2.5</td>\n",
       "      <td>3067</td>\n",
       "      <td>2</td>\n",
       "      <td>1.0</td>\n",
       "      <td>94</td>\n",
       "      <td>144.226275</td>\n",
       "      <td>1964.708876</td>\n",
       "      <td>Yarra</td>\n",
       "      <td>-37.7969</td>\n",
       "      <td>144.9969</td>\n",
       "      <td>Northern Metropolitan</td>\n",
       "      <td>4019</td>\n",
       "    </tr>\n",
       "    <tr>\n",
       "      <th>4</th>\n",
       "      <td>Abbotsford</td>\n",
       "      <td>55a Park St</td>\n",
       "      <td>4</td>\n",
       "      <td>h</td>\n",
       "      <td>1600000</td>\n",
       "      <td>VB</td>\n",
       "      <td>Nelson</td>\n",
       "      <td>4/6/2016</td>\n",
       "      <td>2.5</td>\n",
       "      <td>3067</td>\n",
       "      <td>1</td>\n",
       "      <td>2.0</td>\n",
       "      <td>120</td>\n",
       "      <td>142.000000</td>\n",
       "      <td>2014.000000</td>\n",
       "      <td>Yarra</td>\n",
       "      <td>-37.8072</td>\n",
       "      <td>144.9941</td>\n",
       "      <td>Northern Metropolitan</td>\n",
       "      <td>4019</td>\n",
       "    </tr>\n",
       "  </tbody>\n",
       "</table>\n",
       "</div>"
      ],
      "text/plain": [
       "       Suburb           Address  Rooms Type    Price Method SellerG  \\\n",
       "0  Abbotsford      85 Turner St      2    h  1480000      S  Nelson   \n",
       "1  Abbotsford   25 Bloomburg St      2    h  1035000      S  Biggin   \n",
       "2  Abbotsford      5 Charles St      3    h  1465000     SP  Biggin   \n",
       "3  Abbotsford  40 Federation La      3    h   850000     PI  Biggin   \n",
       "4  Abbotsford       55a Park St      4    h  1600000     VB  Nelson   \n",
       "\n",
       "        Date  Distance  Postcode  Bathroom  Car  Landsize  BuildingArea  \\\n",
       "0  3/12/2016       2.5      3067         1  1.0       202    144.226275   \n",
       "1   4/2/2016       2.5      3067         1  0.0       156     79.000000   \n",
       "2   4/3/2017       2.5      3067         2  0.0       134    150.000000   \n",
       "3   4/3/2017       2.5      3067         2  1.0        94    144.226275   \n",
       "4   4/6/2016       2.5      3067         1  2.0       120    142.000000   \n",
       "\n",
       "     YearBuilt CouncilArea  Lattitude  Longtitude             Regionname  \\\n",
       "0  1964.708876       Yarra   -37.7996    144.9984  Northern Metropolitan   \n",
       "1  1900.000000       Yarra   -37.8079    144.9934  Northern Metropolitan   \n",
       "2  1900.000000       Yarra   -37.8093    144.9944  Northern Metropolitan   \n",
       "3  1964.708876       Yarra   -37.7969    144.9969  Northern Metropolitan   \n",
       "4  2014.000000       Yarra   -37.8072    144.9941  Northern Metropolitan   \n",
       "\n",
       "   Propertycount  \n",
       "0           4019  \n",
       "1           4019  \n",
       "2           4019  \n",
       "3           4019  \n",
       "4           4019  "
      ]
     },
     "execution_count": 12,
     "metadata": {},
     "output_type": "execute_result"
    }
   ],
   "source": [
    "# Apply mean value imputation to fill in the missing values in the Car, BuildingArea, and YearBuilt columns\n",
    "melbourne_data_df['Car'] = melbourne_data_df['Car'].fillna(melbourne_data_df['Car'].mean())\n",
    "melbourne_data_df['BuildingArea'] = melbourne_data_df['BuildingArea'].fillna(melbourne_data_df['BuildingArea'].mean())\n",
    "melbourne_data_df['YearBuilt'] = melbourne_data_df['YearBuilt'].fillna(melbourne_data_df['YearBuilt'].mean())\n",
    "\n",
    "# Apply mode value imputation to fill in the missing values in the SellerG and CouncilArea column\n",
    "melbourne_data_df['SellerG'] = melbourne_data_df['SellerG'].fillna(melbourne_data_df['SellerG'].mode()[0])\n",
    "melbourne_data_df['CouncilArea'] = melbourne_data_df['CouncilArea'].fillna(melbourne_data_df['CouncilArea'].mode()[0])\n",
    "melbourne_data_df.head()"
   ]
  },
  {
   "cell_type": "markdown",
   "id": "299d89c1",
   "metadata": {},
   "source": [
    "### Cleaning Dataset - Adding Details in \"Type\" Columns"
   ]
  },
  {
   "cell_type": "code",
   "execution_count": 13,
   "id": "571c9c78",
   "metadata": {
    "scrolled": true
   },
   "outputs": [
    {
     "data": {
      "text/html": [
       "<div>\n",
       "<style scoped>\n",
       "    .dataframe tbody tr th:only-of-type {\n",
       "        vertical-align: middle;\n",
       "    }\n",
       "\n",
       "    .dataframe tbody tr th {\n",
       "        vertical-align: top;\n",
       "    }\n",
       "\n",
       "    .dataframe thead th {\n",
       "        text-align: right;\n",
       "    }\n",
       "</style>\n",
       "<table border=\"1\" class=\"dataframe\">\n",
       "  <thead>\n",
       "    <tr style=\"text-align: right;\">\n",
       "      <th></th>\n",
       "      <th>Suburb</th>\n",
       "      <th>Address</th>\n",
       "      <th>Rooms</th>\n",
       "      <th>Type</th>\n",
       "      <th>Price</th>\n",
       "      <th>Method</th>\n",
       "      <th>SellerG</th>\n",
       "      <th>Date</th>\n",
       "      <th>Distance</th>\n",
       "      <th>Postcode</th>\n",
       "      <th>Bathroom</th>\n",
       "      <th>Car</th>\n",
       "      <th>Landsize</th>\n",
       "      <th>BuildingArea</th>\n",
       "      <th>YearBuilt</th>\n",
       "      <th>CouncilArea</th>\n",
       "      <th>Lattitude</th>\n",
       "      <th>Longtitude</th>\n",
       "      <th>Regionname</th>\n",
       "      <th>Propertycount</th>\n",
       "    </tr>\n",
       "  </thead>\n",
       "  <tbody>\n",
       "    <tr>\n",
       "      <th>0</th>\n",
       "      <td>Abbotsford</td>\n",
       "      <td>85 Turner St</td>\n",
       "      <td>2</td>\n",
       "      <td>House</td>\n",
       "      <td>1480000</td>\n",
       "      <td>S</td>\n",
       "      <td>Nelson</td>\n",
       "      <td>3/12/2016</td>\n",
       "      <td>2.5</td>\n",
       "      <td>3067</td>\n",
       "      <td>1</td>\n",
       "      <td>1.0</td>\n",
       "      <td>202</td>\n",
       "      <td>144.226275</td>\n",
       "      <td>1964.708876</td>\n",
       "      <td>Yarra</td>\n",
       "      <td>-37.7996</td>\n",
       "      <td>144.9984</td>\n",
       "      <td>Northern Metropolitan</td>\n",
       "      <td>4019</td>\n",
       "    </tr>\n",
       "    <tr>\n",
       "      <th>1</th>\n",
       "      <td>Abbotsford</td>\n",
       "      <td>25 Bloomburg St</td>\n",
       "      <td>2</td>\n",
       "      <td>House</td>\n",
       "      <td>1035000</td>\n",
       "      <td>S</td>\n",
       "      <td>Biggin</td>\n",
       "      <td>4/2/2016</td>\n",
       "      <td>2.5</td>\n",
       "      <td>3067</td>\n",
       "      <td>1</td>\n",
       "      <td>0.0</td>\n",
       "      <td>156</td>\n",
       "      <td>79.000000</td>\n",
       "      <td>1900.000000</td>\n",
       "      <td>Yarra</td>\n",
       "      <td>-37.8079</td>\n",
       "      <td>144.9934</td>\n",
       "      <td>Northern Metropolitan</td>\n",
       "      <td>4019</td>\n",
       "    </tr>\n",
       "    <tr>\n",
       "      <th>2</th>\n",
       "      <td>Abbotsford</td>\n",
       "      <td>5 Charles St</td>\n",
       "      <td>3</td>\n",
       "      <td>House</td>\n",
       "      <td>1465000</td>\n",
       "      <td>SP</td>\n",
       "      <td>Biggin</td>\n",
       "      <td>4/3/2017</td>\n",
       "      <td>2.5</td>\n",
       "      <td>3067</td>\n",
       "      <td>2</td>\n",
       "      <td>0.0</td>\n",
       "      <td>134</td>\n",
       "      <td>150.000000</td>\n",
       "      <td>1900.000000</td>\n",
       "      <td>Yarra</td>\n",
       "      <td>-37.8093</td>\n",
       "      <td>144.9944</td>\n",
       "      <td>Northern Metropolitan</td>\n",
       "      <td>4019</td>\n",
       "    </tr>\n",
       "    <tr>\n",
       "      <th>3</th>\n",
       "      <td>Abbotsford</td>\n",
       "      <td>40 Federation La</td>\n",
       "      <td>3</td>\n",
       "      <td>House</td>\n",
       "      <td>850000</td>\n",
       "      <td>PI</td>\n",
       "      <td>Biggin</td>\n",
       "      <td>4/3/2017</td>\n",
       "      <td>2.5</td>\n",
       "      <td>3067</td>\n",
       "      <td>2</td>\n",
       "      <td>1.0</td>\n",
       "      <td>94</td>\n",
       "      <td>144.226275</td>\n",
       "      <td>1964.708876</td>\n",
       "      <td>Yarra</td>\n",
       "      <td>-37.7969</td>\n",
       "      <td>144.9969</td>\n",
       "      <td>Northern Metropolitan</td>\n",
       "      <td>4019</td>\n",
       "    </tr>\n",
       "    <tr>\n",
       "      <th>4</th>\n",
       "      <td>Abbotsford</td>\n",
       "      <td>55a Park St</td>\n",
       "      <td>4</td>\n",
       "      <td>House</td>\n",
       "      <td>1600000</td>\n",
       "      <td>VB</td>\n",
       "      <td>Nelson</td>\n",
       "      <td>4/6/2016</td>\n",
       "      <td>2.5</td>\n",
       "      <td>3067</td>\n",
       "      <td>1</td>\n",
       "      <td>2.0</td>\n",
       "      <td>120</td>\n",
       "      <td>142.000000</td>\n",
       "      <td>2014.000000</td>\n",
       "      <td>Yarra</td>\n",
       "      <td>-37.8072</td>\n",
       "      <td>144.9941</td>\n",
       "      <td>Northern Metropolitan</td>\n",
       "      <td>4019</td>\n",
       "    </tr>\n",
       "  </tbody>\n",
       "</table>\n",
       "</div>"
      ],
      "text/plain": [
       "       Suburb           Address  Rooms   Type    Price Method SellerG  \\\n",
       "0  Abbotsford      85 Turner St      2  House  1480000      S  Nelson   \n",
       "1  Abbotsford   25 Bloomburg St      2  House  1035000      S  Biggin   \n",
       "2  Abbotsford      5 Charles St      3  House  1465000     SP  Biggin   \n",
       "3  Abbotsford  40 Federation La      3  House   850000     PI  Biggin   \n",
       "4  Abbotsford       55a Park St      4  House  1600000     VB  Nelson   \n",
       "\n",
       "        Date  Distance  Postcode  Bathroom  Car  Landsize  BuildingArea  \\\n",
       "0  3/12/2016       2.5      3067         1  1.0       202    144.226275   \n",
       "1   4/2/2016       2.5      3067         1  0.0       156     79.000000   \n",
       "2   4/3/2017       2.5      3067         2  0.0       134    150.000000   \n",
       "3   4/3/2017       2.5      3067         2  1.0        94    144.226275   \n",
       "4   4/6/2016       2.5      3067         1  2.0       120    142.000000   \n",
       "\n",
       "     YearBuilt CouncilArea  Lattitude  Longtitude             Regionname  \\\n",
       "0  1964.708876       Yarra   -37.7996    144.9984  Northern Metropolitan   \n",
       "1  1900.000000       Yarra   -37.8079    144.9934  Northern Metropolitan   \n",
       "2  1900.000000       Yarra   -37.8093    144.9944  Northern Metropolitan   \n",
       "3  1964.708876       Yarra   -37.7969    144.9969  Northern Metropolitan   \n",
       "4  2014.000000       Yarra   -37.8072    144.9941  Northern Metropolitan   \n",
       "\n",
       "   Propertycount  \n",
       "0           4019  \n",
       "1           4019  \n",
       "2           4019  \n",
       "3           4019  \n",
       "4           4019  "
      ]
     },
     "execution_count": 13,
     "metadata": {},
     "output_type": "execute_result"
    }
   ],
   "source": [
    "# Type: br - bedroom(s); h - house,cottage,villa, semi,terrace; u - unit, duplex; t - townhouse;\n",
    "melbourne_data_df = melbourne_data_df.replace({'h': 'House', 'u': 'Unit', 't': 'Townhouse'})\n",
    "melbourne_data_df.head()"
   ]
  },
  {
   "cell_type": "markdown",
   "id": "4574b07a",
   "metadata": {},
   "source": [
    "### Final Check on the DataFrame before Data Visualisation"
   ]
  },
  {
   "cell_type": "code",
   "execution_count": 14,
   "id": "2f1fdada",
   "metadata": {
    "scrolled": true
   },
   "outputs": [
    {
     "data": {
      "text/plain": [
       "Suburb           0\n",
       "Address          0\n",
       "Rooms            0\n",
       "Type             0\n",
       "Price            0\n",
       "Method           0\n",
       "SellerG          0\n",
       "Date             0\n",
       "Distance         0\n",
       "Postcode         0\n",
       "Bathroom         0\n",
       "Car              0\n",
       "Landsize         0\n",
       "BuildingArea     0\n",
       "YearBuilt        0\n",
       "CouncilArea      0\n",
       "Lattitude        0\n",
       "Longtitude       0\n",
       "Regionname       0\n",
       "Propertycount    0\n",
       "dtype: int64"
      ]
     },
     "execution_count": 14,
     "metadata": {},
     "output_type": "execute_result"
    }
   ],
   "source": [
    "# let's try to visualize the number of missing values in each numerical feature\n",
    "melbourne_data_df.isnull().sum()"
   ]
  },
  {
   "cell_type": "markdown",
   "id": "920fc3f7",
   "metadata": {},
   "source": [
    "### Correlation between Price and other Feature Columns"
   ]
  },
  {
   "cell_type": "markdown",
   "id": "849d7eb9",
   "metadata": {},
   "source": [
    "Here I apply .corr() to study the relationship between the features and the outcome we want to predict - price"
   ]
  },
  {
   "cell_type": "code",
   "execution_count": 15,
   "id": "886c5d82",
   "metadata": {},
   "outputs": [
    {
     "data": {
      "text/html": [
       "<div>\n",
       "<style scoped>\n",
       "    .dataframe tbody tr th:only-of-type {\n",
       "        vertical-align: middle;\n",
       "    }\n",
       "\n",
       "    .dataframe tbody tr th {\n",
       "        vertical-align: top;\n",
       "    }\n",
       "\n",
       "    .dataframe thead th {\n",
       "        text-align: right;\n",
       "    }\n",
       "</style>\n",
       "<table border=\"1\" class=\"dataframe\">\n",
       "  <thead>\n",
       "    <tr style=\"text-align: right;\">\n",
       "      <th></th>\n",
       "      <th>Rooms</th>\n",
       "      <th>Price</th>\n",
       "      <th>Distance</th>\n",
       "      <th>Postcode</th>\n",
       "      <th>Bathroom</th>\n",
       "      <th>Car</th>\n",
       "      <th>Landsize</th>\n",
       "      <th>BuildingArea</th>\n",
       "      <th>YearBuilt</th>\n",
       "      <th>Lattitude</th>\n",
       "      <th>Longtitude</th>\n",
       "      <th>Propertycount</th>\n",
       "    </tr>\n",
       "  </thead>\n",
       "  <tbody>\n",
       "    <tr>\n",
       "      <th>Rooms</th>\n",
       "      <td>1.000000</td>\n",
       "      <td>0.510522</td>\n",
       "      <td>0.291880</td>\n",
       "      <td>0.041205</td>\n",
       "      <td>0.590579</td>\n",
       "      <td>0.411066</td>\n",
       "      <td>0.022871</td>\n",
       "      <td>0.306993</td>\n",
       "      <td>-0.069947</td>\n",
       "      <td>0.023177</td>\n",
       "      <td>0.090671</td>\n",
       "      <td>-0.090719</td>\n",
       "    </tr>\n",
       "    <tr>\n",
       "      <th>Price</th>\n",
       "      <td>0.510522</td>\n",
       "      <td>1.000000</td>\n",
       "      <td>-0.146184</td>\n",
       "      <td>0.118167</td>\n",
       "      <td>0.473997</td>\n",
       "      <td>0.248639</td>\n",
       "      <td>0.038537</td>\n",
       "      <td>0.279920</td>\n",
       "      <td>-0.268685</td>\n",
       "      <td>-0.207365</td>\n",
       "      <td>0.201412</td>\n",
       "      <td>-0.037179</td>\n",
       "    </tr>\n",
       "    <tr>\n",
       "      <th>Distance</th>\n",
       "      <td>0.291880</td>\n",
       "      <td>-0.146184</td>\n",
       "      <td>1.000000</td>\n",
       "      <td>0.407115</td>\n",
       "      <td>0.124540</td>\n",
       "      <td>0.269297</td>\n",
       "      <td>0.016919</td>\n",
       "      <td>0.084367</td>\n",
       "      <td>0.188143</td>\n",
       "      <td>-0.134851</td>\n",
       "      <td>0.249598</td>\n",
       "      <td>-0.078276</td>\n",
       "    </tr>\n",
       "    <tr>\n",
       "      <th>Postcode</th>\n",
       "      <td>0.041205</td>\n",
       "      <td>0.118167</td>\n",
       "      <td>0.407115</td>\n",
       "      <td>1.000000</td>\n",
       "      <td>0.108372</td>\n",
       "      <td>0.045006</td>\n",
       "      <td>0.021273</td>\n",
       "      <td>0.039145</td>\n",
       "      <td>0.021397</td>\n",
       "      <td>-0.459274</td>\n",
       "      <td>0.484327</td>\n",
       "      <td>0.069337</td>\n",
       "    </tr>\n",
       "    <tr>\n",
       "      <th>Bathroom</th>\n",
       "      <td>0.590579</td>\n",
       "      <td>0.473997</td>\n",
       "      <td>0.124540</td>\n",
       "      <td>0.108372</td>\n",
       "      <td>1.000000</td>\n",
       "      <td>0.329788</td>\n",
       "      <td>0.035101</td>\n",
       "      <td>0.277525</td>\n",
       "      <td>0.116648</td>\n",
       "      <td>-0.070625</td>\n",
       "      <td>0.114713</td>\n",
       "      <td>-0.051889</td>\n",
       "    </tr>\n",
       "    <tr>\n",
       "      <th>Car</th>\n",
       "      <td>0.411066</td>\n",
       "      <td>0.248639</td>\n",
       "      <td>0.269297</td>\n",
       "      <td>0.045006</td>\n",
       "      <td>0.329788</td>\n",
       "      <td>1.000000</td>\n",
       "      <td>0.023330</td>\n",
       "      <td>0.162509</td>\n",
       "      <td>0.082726</td>\n",
       "      <td>0.005823</td>\n",
       "      <td>0.057199</td>\n",
       "      <td>-0.030171</td>\n",
       "    </tr>\n",
       "    <tr>\n",
       "      <th>Landsize</th>\n",
       "      <td>0.022871</td>\n",
       "      <td>0.038537</td>\n",
       "      <td>0.016919</td>\n",
       "      <td>0.021273</td>\n",
       "      <td>0.035101</td>\n",
       "      <td>0.023330</td>\n",
       "      <td>1.000000</td>\n",
       "      <td>0.011069</td>\n",
       "      <td>0.006984</td>\n",
       "      <td>0.005772</td>\n",
       "      <td>0.014756</td>\n",
       "      <td>-0.005531</td>\n",
       "    </tr>\n",
       "    <tr>\n",
       "      <th>BuildingArea</th>\n",
       "      <td>0.306993</td>\n",
       "      <td>0.279920</td>\n",
       "      <td>0.084367</td>\n",
       "      <td>0.039145</td>\n",
       "      <td>0.277525</td>\n",
       "      <td>0.162509</td>\n",
       "      <td>0.011069</td>\n",
       "      <td>1.000000</td>\n",
       "      <td>0.003419</td>\n",
       "      <td>-0.018964</td>\n",
       "      <td>0.059796</td>\n",
       "      <td>-0.035352</td>\n",
       "    </tr>\n",
       "    <tr>\n",
       "      <th>YearBuilt</th>\n",
       "      <td>-0.069947</td>\n",
       "      <td>-0.268685</td>\n",
       "      <td>0.188143</td>\n",
       "      <td>0.021397</td>\n",
       "      <td>0.116648</td>\n",
       "      <td>0.082726</td>\n",
       "      <td>0.006984</td>\n",
       "      <td>0.003419</td>\n",
       "      <td>1.000000</td>\n",
       "      <td>0.040479</td>\n",
       "      <td>0.002161</td>\n",
       "      <td>0.004250</td>\n",
       "    </tr>\n",
       "    <tr>\n",
       "      <th>Lattitude</th>\n",
       "      <td>0.023177</td>\n",
       "      <td>-0.207365</td>\n",
       "      <td>-0.134851</td>\n",
       "      <td>-0.459274</td>\n",
       "      <td>-0.070625</td>\n",
       "      <td>0.005823</td>\n",
       "      <td>0.005772</td>\n",
       "      <td>-0.018964</td>\n",
       "      <td>0.040479</td>\n",
       "      <td>1.000000</td>\n",
       "      <td>-0.350293</td>\n",
       "      <td>0.042205</td>\n",
       "    </tr>\n",
       "    <tr>\n",
       "      <th>Longtitude</th>\n",
       "      <td>0.090671</td>\n",
       "      <td>0.201412</td>\n",
       "      <td>0.249598</td>\n",
       "      <td>0.484327</td>\n",
       "      <td>0.114713</td>\n",
       "      <td>0.057199</td>\n",
       "      <td>0.014756</td>\n",
       "      <td>0.059796</td>\n",
       "      <td>0.002161</td>\n",
       "      <td>-0.350293</td>\n",
       "      <td>1.000000</td>\n",
       "      <td>0.083510</td>\n",
       "    </tr>\n",
       "    <tr>\n",
       "      <th>Propertycount</th>\n",
       "      <td>-0.090719</td>\n",
       "      <td>-0.037179</td>\n",
       "      <td>-0.078276</td>\n",
       "      <td>0.069337</td>\n",
       "      <td>-0.051889</td>\n",
       "      <td>-0.030171</td>\n",
       "      <td>-0.005531</td>\n",
       "      <td>-0.035352</td>\n",
       "      <td>0.004250</td>\n",
       "      <td>0.042205</td>\n",
       "      <td>0.083510</td>\n",
       "      <td>1.000000</td>\n",
       "    </tr>\n",
       "  </tbody>\n",
       "</table>\n",
       "</div>"
      ],
      "text/plain": [
       "                  Rooms     Price  Distance  Postcode  Bathroom       Car  \\\n",
       "Rooms          1.000000  0.510522  0.291880  0.041205  0.590579  0.411066   \n",
       "Price          0.510522  1.000000 -0.146184  0.118167  0.473997  0.248639   \n",
       "Distance       0.291880 -0.146184  1.000000  0.407115  0.124540  0.269297   \n",
       "Postcode       0.041205  0.118167  0.407115  1.000000  0.108372  0.045006   \n",
       "Bathroom       0.590579  0.473997  0.124540  0.108372  1.000000  0.329788   \n",
       "Car            0.411066  0.248639  0.269297  0.045006  0.329788  1.000000   \n",
       "Landsize       0.022871  0.038537  0.016919  0.021273  0.035101  0.023330   \n",
       "BuildingArea   0.306993  0.279920  0.084367  0.039145  0.277525  0.162509   \n",
       "YearBuilt     -0.069947 -0.268685  0.188143  0.021397  0.116648  0.082726   \n",
       "Lattitude      0.023177 -0.207365 -0.134851 -0.459274 -0.070625  0.005823   \n",
       "Longtitude     0.090671  0.201412  0.249598  0.484327  0.114713  0.057199   \n",
       "Propertycount -0.090719 -0.037179 -0.078276  0.069337 -0.051889 -0.030171   \n",
       "\n",
       "               Landsize  BuildingArea  YearBuilt  Lattitude  Longtitude  \\\n",
       "Rooms          0.022871      0.306993  -0.069947   0.023177    0.090671   \n",
       "Price          0.038537      0.279920  -0.268685  -0.207365    0.201412   \n",
       "Distance       0.016919      0.084367   0.188143  -0.134851    0.249598   \n",
       "Postcode       0.021273      0.039145   0.021397  -0.459274    0.484327   \n",
       "Bathroom       0.035101      0.277525   0.116648  -0.070625    0.114713   \n",
       "Car            0.023330      0.162509   0.082726   0.005823    0.057199   \n",
       "Landsize       1.000000      0.011069   0.006984   0.005772    0.014756   \n",
       "BuildingArea   0.011069      1.000000   0.003419  -0.018964    0.059796   \n",
       "YearBuilt      0.006984      0.003419   1.000000   0.040479    0.002161   \n",
       "Lattitude      0.005772     -0.018964   0.040479   1.000000   -0.350293   \n",
       "Longtitude     0.014756      0.059796   0.002161  -0.350293    1.000000   \n",
       "Propertycount -0.005531     -0.035352   0.004250   0.042205    0.083510   \n",
       "\n",
       "               Propertycount  \n",
       "Rooms              -0.090719  \n",
       "Price              -0.037179  \n",
       "Distance           -0.078276  \n",
       "Postcode            0.069337  \n",
       "Bathroom           -0.051889  \n",
       "Car                -0.030171  \n",
       "Landsize           -0.005531  \n",
       "BuildingArea       -0.035352  \n",
       "YearBuilt           0.004250  \n",
       "Lattitude           0.042205  \n",
       "Longtitude          0.083510  \n",
       "Propertycount       1.000000  "
      ]
     },
     "execution_count": 15,
     "metadata": {},
     "output_type": "execute_result"
    }
   ],
   "source": [
    "melbourne_data_df.corr()"
   ]
  },
  {
   "cell_type": "code",
   "execution_count": 16,
   "id": "a0640efe",
   "metadata": {},
   "outputs": [
    {
     "data": {
      "text/html": [
       "<div>\n",
       "<style scoped>\n",
       "    .dataframe tbody tr th:only-of-type {\n",
       "        vertical-align: middle;\n",
       "    }\n",
       "\n",
       "    .dataframe tbody tr th {\n",
       "        vertical-align: top;\n",
       "    }\n",
       "\n",
       "    .dataframe thead th {\n",
       "        text-align: right;\n",
       "    }\n",
       "</style>\n",
       "<table border=\"1\" class=\"dataframe\">\n",
       "  <thead>\n",
       "    <tr style=\"text-align: right;\">\n",
       "      <th></th>\n",
       "      <th>Rooms</th>\n",
       "      <th>Price</th>\n",
       "      <th>Distance</th>\n",
       "      <th>Postcode</th>\n",
       "      <th>Bathroom</th>\n",
       "      <th>Car</th>\n",
       "      <th>Landsize</th>\n",
       "      <th>BuildingArea</th>\n",
       "      <th>YearBuilt</th>\n",
       "      <th>Lattitude</th>\n",
       "      <th>Longtitude</th>\n",
       "      <th>Propertycount</th>\n",
       "    </tr>\n",
       "  </thead>\n",
       "  <tbody>\n",
       "    <tr>\n",
       "      <th>Price</th>\n",
       "      <td>0.510522</td>\n",
       "      <td>1.0</td>\n",
       "      <td>-0.146184</td>\n",
       "      <td>0.118167</td>\n",
       "      <td>0.473997</td>\n",
       "      <td>0.248639</td>\n",
       "      <td>0.038537</td>\n",
       "      <td>0.27992</td>\n",
       "      <td>-0.268685</td>\n",
       "      <td>-0.207365</td>\n",
       "      <td>0.201412</td>\n",
       "      <td>-0.037179</td>\n",
       "    </tr>\n",
       "  </tbody>\n",
       "</table>\n",
       "</div>"
      ],
      "text/plain": [
       "          Rooms  Price  Distance  Postcode  Bathroom       Car  Landsize  \\\n",
       "Price  0.510522    1.0 -0.146184  0.118167  0.473997  0.248639  0.038537   \n",
       "\n",
       "       BuildingArea  YearBuilt  Lattitude  Longtitude  Propertycount  \n",
       "Price       0.27992  -0.268685  -0.207365    0.201412      -0.037179  "
      ]
     },
     "execution_count": 16,
     "metadata": {},
     "output_type": "execute_result"
    }
   ],
   "source": [
    "melbourne_data_df.corr().iloc[1:2,:]"
   ]
  },
  {
   "cell_type": "code",
   "execution_count": 17,
   "id": "1e5db005",
   "metadata": {
    "scrolled": true
   },
   "outputs": [
    {
     "data": {
      "text/plain": [
       "Text(0.5, 1.0, 'Correlation of Property Prices for these Features')"
      ]
     },
     "execution_count": 17,
     "metadata": {},
     "output_type": "execute_result"
    },
    {
     "data": {
      "image/png": "[encoded data removed]",
      "text/plain": [
       "<Figure size 1440x144 with 2 Axes>"
      ]
     },
     "metadata": {
      "needs_background": "light"
     },
     "output_type": "display_data"
    }
   ],
   "source": [
    "# Correlation map\n",
    "f,ax = plt.subplots(figsize=(20,2))\n",
    "sns.heatmap(melbourne_data_df.corr().iloc[1:2,:], annot=True, linewidths=.8, fmt= '.2f',ax=ax)\n",
    "plt.title(\"Correlation of Property Prices for these Features\")"
   ]
  },
  {
   "cell_type": "markdown",
   "id": "676d9619",
   "metadata": {},
   "source": [
    "By using the heatmap to corroborate with the table of correlation between price and the various features, it is evident the features with the highest correlation with sale price are (defined as values with a correlation of around 0.4 in this case): Rooms, Bedroom2, Bathroom <br>"
   ]
  },
  {
   "cell_type": "markdown",
   "id": "33874ee6",
   "metadata": {},
   "source": [
    "### Overview of the Price Column"
   ]
  },
  {
   "cell_type": "code",
   "execution_count": 18,
   "id": "1d3e923a",
   "metadata": {
    "scrolled": true
   },
   "outputs": [
    {
     "data": {
      "text/plain": [
       "count    1.220900e+04\n",
       "mean     1.063659e+06\n",
       "std      6.389081e+05\n",
       "min      8.500000e+04\n",
       "25%      6.400000e+05\n",
       "50%      8.950000e+05\n",
       "75%      1.320000e+06\n",
       "max      9.000000e+06\n",
       "Name: Price, dtype: float64"
      ]
     },
     "execution_count": 18,
     "metadata": {},
     "output_type": "execute_result"
    }
   ],
   "source": [
    "melbourne_data_df['Price'].describe()"
   ]
  },
  {
   "cell_type": "code",
   "execution_count": 19,
   "id": "b8c8d803",
   "metadata": {
    "scrolled": false
   },
   "outputs": [
    {
     "data": {
      "text/plain": [
       "count     12209\n",
       "mean    1063659\n",
       "std      638908\n",
       "min       85000\n",
       "25%      640000\n",
       "50%      895000\n",
       "75%     1320000\n",
       "max     9000000\n",
       "Name: Price, dtype: float64"
      ]
     },
     "execution_count": 19,
     "metadata": {},
     "output_type": "execute_result"
    }
   ],
   "source": [
    "# Format the column Price to suppress scientific notations\n",
    "pd.set_option('display.float_format', lambda x: '%.0f' % x)\n",
    "melbourne_data_df['Price'].describe()"
   ]
  },
  {
   "cell_type": "markdown",
   "id": "47ecf38f",
   "metadata": {},
   "source": [
    "Observations: <br>\n",
    "Our target feature is a continuous variable with values ranging from 85,000 to 9,000,000. <br>\n",
    "The average sale price of all the houses in our dataset is 1,063,659."
   ]
  },
  {
   "cell_type": "markdown",
   "id": "cb5e760f",
   "metadata": {},
   "source": [
    "### Analysis of features against sale price"
   ]
  },
  {
   "cell_type": "code",
   "execution_count": 20,
   "id": "456ecba2",
   "metadata": {},
   "outputs": [
    {
     "data": {
      "image/png": "[encoded data removed]",
      "text/plain": [
       "<Figure size 720x720 with 2 Axes>"
      ]
     },
     "metadata": {
      "needs_background": "light"
     },
     "output_type": "display_data"
    }
   ],
   "source": [
    "# Creating a heat map of all the numerical features.\n",
    "plt.figure(figsize=(10,10))\n",
    "mat = np.round(num_col.corr(), decimals=2)\n",
    "sns.heatmap(data=mat, linewidths=1, linecolor='black',annot=True);"
   ]
  },
  {
   "cell_type": "code",
   "execution_count": 21,
   "id": "0d1103e6",
   "metadata": {
    "scrolled": true
   },
   "outputs": [
    {
     "name": "stdout",
     "output_type": "stream",
     "text": [
      "Rooms   0\n",
      "Name: Price, dtype: float64\n",
      "Price   1\n",
      "Name: Price, dtype: float64\n",
      "Bathroom   0\n",
      "Name: Price, dtype: float64\n"
     ]
    }
   ],
   "source": [
    "# Getting features that have a correlation value greater than 0.4 against sale price.\n",
    "for val in range(len(mat['Price'])):\n",
    "    if abs(mat['Price'].iloc[val]) > 0.4:\n",
    "        print(mat['Price'].iloc[val:val+1]) "
   ]
  },
  {
   "cell_type": "markdown",
   "id": "abae99ed",
   "metadata": {},
   "source": [
    "Observation: Rooms,Bedroom2,Bathroom are highly correlated with price"
   ]
  },
  {
   "cell_type": "markdown",
   "id": "b5a3c880",
   "metadata": {},
   "source": [
    "### Analysis by Regional features"
   ]
  },
  {
   "cell_type": "code",
   "execution_count": 22,
   "id": "b7992d37",
   "metadata": {
    "scrolled": true
   },
   "outputs": [
    {
     "data": {
      "text/html": [
       "<div>\n",
       "<style scoped>\n",
       "    .dataframe tbody tr th:only-of-type {\n",
       "        vertical-align: middle;\n",
       "    }\n",
       "\n",
       "    .dataframe tbody tr th {\n",
       "        vertical-align: top;\n",
       "    }\n",
       "\n",
       "    .dataframe thead th {\n",
       "        text-align: right;\n",
       "    }\n",
       "</style>\n",
       "<table border=\"1\" class=\"dataframe\">\n",
       "  <thead>\n",
       "    <tr style=\"text-align: right;\">\n",
       "      <th></th>\n",
       "      <th>count</th>\n",
       "      <th>min</th>\n",
       "      <th>max</th>\n",
       "      <th>mean</th>\n",
       "      <th>median</th>\n",
       "    </tr>\n",
       "    <tr>\n",
       "      <th>Regionname</th>\n",
       "      <th></th>\n",
       "      <th></th>\n",
       "      <th></th>\n",
       "      <th></th>\n",
       "      <th></th>\n",
       "    </tr>\n",
       "  </thead>\n",
       "  <tbody>\n",
       "    <tr>\n",
       "      <th>Southern Metropolitan</th>\n",
       "      <td>4339</td>\n",
       "      <td>131000</td>\n",
       "      <td>8000000</td>\n",
       "      <td>1338721</td>\n",
       "      <td>1206000</td>\n",
       "    </tr>\n",
       "    <tr>\n",
       "      <th>Eastern Metropolitan</th>\n",
       "      <td>1228</td>\n",
       "      <td>288000</td>\n",
       "      <td>4000000</td>\n",
       "      <td>1087686</td>\n",
       "      <td>986750</td>\n",
       "    </tr>\n",
       "    <tr>\n",
       "      <th>Northern Metropolitan</th>\n",
       "      <td>3554</td>\n",
       "      <td>145000</td>\n",
       "      <td>4525000</td>\n",
       "      <td>896672</td>\n",
       "      <td>805000</td>\n",
       "    </tr>\n",
       "    <tr>\n",
       "      <th>South-Eastern Metropolitan</th>\n",
       "      <td>325</td>\n",
       "      <td>266000</td>\n",
       "      <td>9000000</td>\n",
       "      <td>901530</td>\n",
       "      <td>805000</td>\n",
       "    </tr>\n",
       "    <tr>\n",
       "      <th>Western Metropolitan</th>\n",
       "      <td>2668</td>\n",
       "      <td>85000</td>\n",
       "      <td>3900000</td>\n",
       "      <td>864937</td>\n",
       "      <td>795500</td>\n",
       "    </tr>\n",
       "    <tr>\n",
       "      <th>Eastern Victoria</th>\n",
       "      <td>44</td>\n",
       "      <td>400000</td>\n",
       "      <td>1085000</td>\n",
       "      <td>688204</td>\n",
       "      <td>653000</td>\n",
       "    </tr>\n",
       "    <tr>\n",
       "      <th>Northern Victoria</th>\n",
       "      <td>26</td>\n",
       "      <td>330000</td>\n",
       "      <td>898000</td>\n",
       "      <td>559750</td>\n",
       "      <td>533000</td>\n",
       "    </tr>\n",
       "    <tr>\n",
       "      <th>Western Victoria</th>\n",
       "      <td>25</td>\n",
       "      <td>280500</td>\n",
       "      <td>550000</td>\n",
       "      <td>382910</td>\n",
       "      <td>385000</td>\n",
       "    </tr>\n",
       "  </tbody>\n",
       "</table>\n",
       "</div>"
      ],
      "text/plain": [
       "                            count     min      max    mean  median\n",
       "Regionname                                                        \n",
       "Southern Metropolitan        4339  131000  8000000 1338721 1206000\n",
       "Eastern Metropolitan         1228  288000  4000000 1087686  986750\n",
       "Northern Metropolitan        3554  145000  4525000  896672  805000\n",
       "South-Eastern Metropolitan    325  266000  9000000  901530  805000\n",
       "Western Metropolitan         2668   85000  3900000  864937  795500\n",
       "Eastern Victoria               44  400000  1085000  688204  653000\n",
       "Northern Victoria              26  330000   898000  559750  533000\n",
       "Western Victoria               25  280500   550000  382910  385000"
      ]
     },
     "execution_count": 22,
     "metadata": {},
     "output_type": "execute_result"
    }
   ],
   "source": [
    "# Tabular format for Analysis by Regional\n",
    "melbourne_data_reg = melbourne_data_df.groupby(['Regionname'])['Price'].agg({\"count\", \"median\", \"min\", \"max\", \"mean\"}).sort_values(by=\"median\", ascending=False)\n",
    "melbourne_data_reg"
   ]
  },
  {
   "cell_type": "code",
   "execution_count": 23,
   "id": "efdcf12c",
   "metadata": {},
   "outputs": [
    {
     "data": {
      "text/plain": [
       "Index(['Southern Metropolitan', 'Eastern Metropolitan',\n",
       "       'Northern Metropolitan', 'South-Eastern Metropolitan',\n",
       "       'Western Metropolitan', 'Eastern Victoria', 'Northern Victoria',\n",
       "       'Western Victoria'],\n",
       "      dtype='object', name='Regionname')"
      ]
     },
     "execution_count": 23,
     "metadata": {},
     "output_type": "execute_result"
    }
   ],
   "source": [
    "region_order = melbourne_data_reg.iloc[::1].index\n",
    "region_order"
   ]
  },
  {
   "cell_type": "markdown",
   "id": "d9902975",
   "metadata": {},
   "source": [
    "From the above we can understand that which are the council area belongs to the region area and the above will help the people to find out the proper area and its price.it may help the buyer to select the proper area within his budget."
   ]
  },
  {
   "cell_type": "code",
   "execution_count": 24,
   "id": "276378b9",
   "metadata": {
    "scrolled": false
   },
   "outputs": [
    {
     "data": {
      "text/plain": [
       "Text(0.5, 1.0, 'Boxplot of Melbourne Housing Prices by Regions')"
      ]
     },
     "execution_count": 24,
     "metadata": {},
     "output_type": "execute_result"
    },
    {
     "data": {
      "image/png": "[encoded data removed]",
      "text/plain": [
       "<Figure size 720x360 with 1 Axes>"
      ]
     },
     "metadata": {
      "needs_background": "light"
     },
     "output_type": "display_data"
    }
   ],
   "source": [
    "# Analysis by Regional features\n",
    "plt.figure(figsize=(10,5))\n",
    "sns.boxplot(y=melbourne_data_df['Regionname'],x=melbourne_data_df['Price'], \n",
    "            order=region_order, palette=\"pastel\")\n",
    "plt.ylabel('Regionname')\n",
    "plt.title(\"Boxplot of Melbourne Housing Prices by Regions\")"
   ]
  },
  {
   "cell_type": "code",
   "execution_count": 25,
   "id": "afcdb21a",
   "metadata": {},
   "outputs": [
    {
     "data": {
      "text/plain": [
       "Text(0.5, 1.0, 'Countplot of Melbourne Housing by Regions')"
      ]
     },
     "execution_count": 25,
     "metadata": {},
     "output_type": "execute_result"
    },
    {
     "data": {
      "image/png": "[encoded data removed]",
      "text/plain": [
       "<Figure size 720x216 with 1 Axes>"
      ]
     },
     "metadata": {
      "needs_background": "light"
     },
     "output_type": "display_data"
    }
   ],
   "source": [
    "plt.figure(figsize=(10,3))\n",
    "sns.countplot(data=melbourne_data_df,y=melbourne_data_df['Regionname'], \n",
    "             order=region_order, palette=\"pastel\")\n",
    "plt.ylabel('Regionname')\n",
    "plt.title(\"Countplot of Melbourne Housing by Regions\")"
   ]
  },
  {
   "cell_type": "markdown",
   "id": "a401c1df",
   "metadata": {},
   "source": [
    "Observations: <br>\n",
    "From the graph, we can see that from region wise graph Southern Metropolitan has the highest price and even the median is also high"
   ]
  },
  {
   "cell_type": "code",
   "execution_count": 26,
   "id": "b61105a1",
   "metadata": {
    "scrolled": true
   },
   "outputs": [],
   "source": [
    "# Drop the rows with CouncilArea = \"Unavailable\"\n",
    "melbourne_data_df = melbourne_data_df[melbourne_data_df[\"CouncilArea\"].str.contains(\"Unavailable\") == False]"
   ]
  },
  {
   "cell_type": "code",
   "execution_count": 27,
   "id": "fd3b16fa",
   "metadata": {},
   "outputs": [
    {
     "data": {
      "text/plain": [
       "Text(0.5, 1.0, 'Price Analysis by Region and Housing Type')"
      ]
     },
     "execution_count": 27,
     "metadata": {},
     "output_type": "execute_result"
    },
    {
     "data": {
      "image/png": "[encoded data removed]",
      "text/plain": [
       "<Figure size 720x576 with 1 Axes>"
      ]
     },
     "metadata": {
      "needs_background": "light"
     },
     "output_type": "display_data"
    }
   ],
   "source": [
    "# We can analyse the price and type by region wise\n",
    "plt.figure(figsize=(10,8))\n",
    "sns.barplot(x=melbourne_data_df['Price'],y=melbourne_data_df['Regionname'],\n",
    "            hue=melbourne_data_df['Type'],order=region_order, palette='pastel');\n",
    "plt.title(\"Price Analysis by Region and Housing Type\")"
   ]
  },
  {
   "cell_type": "markdown",
   "id": "dd11de92",
   "metadata": {},
   "source": [
    "Observations: \n",
    "1. Prices for all House type is the highest in South Metropolitan. <br>\n",
    "2. Prices for all House type is the lowest in South Metropolitan. <br>\n",
    "3. There is only House type in Northern & Western Victoria while Eastern Victoria area has Unit type, suggesting that Eastern Victoria might be better developed (in construction wise)."
   ]
  },
  {
   "cell_type": "markdown",
   "id": "5396a8aa",
   "metadata": {},
   "source": [
    "## Further Analysis on South Metropolitan vs West Metropolitan\n",
    "\n",
    "### 1a) Analysis by Council in Southern Metropolitan"
   ]
  },
  {
   "cell_type": "code",
   "execution_count": 28,
   "id": "b6f83e0b",
   "metadata": {},
   "outputs": [
    {
     "data": {
      "text/html": [
       "<div>\n",
       "<style scoped>\n",
       "    .dataframe tbody tr th:only-of-type {\n",
       "        vertical-align: middle;\n",
       "    }\n",
       "\n",
       "    .dataframe tbody tr th {\n",
       "        vertical-align: top;\n",
       "    }\n",
       "\n",
       "    .dataframe thead th {\n",
       "        text-align: right;\n",
       "    }\n",
       "</style>\n",
       "<table border=\"1\" class=\"dataframe\">\n",
       "  <thead>\n",
       "    <tr style=\"text-align: right;\">\n",
       "      <th></th>\n",
       "      <th>Suburb</th>\n",
       "      <th>Address</th>\n",
       "      <th>Rooms</th>\n",
       "      <th>Type</th>\n",
       "      <th>Price</th>\n",
       "      <th>Method</th>\n",
       "      <th>SellerG</th>\n",
       "      <th>Date</th>\n",
       "      <th>Distance</th>\n",
       "      <th>Postcode</th>\n",
       "      <th>Bathroom</th>\n",
       "      <th>Car</th>\n",
       "      <th>Landsize</th>\n",
       "      <th>BuildingArea</th>\n",
       "      <th>YearBuilt</th>\n",
       "      <th>CouncilArea</th>\n",
       "      <th>Lattitude</th>\n",
       "      <th>Longtitude</th>\n",
       "      <th>Regionname</th>\n",
       "      <th>Propertycount</th>\n",
       "    </tr>\n",
       "  </thead>\n",
       "  <tbody>\n",
       "    <tr>\n",
       "      <th>78</th>\n",
       "      <td>Albert Park</td>\n",
       "      <td>105 Kerferd Rd</td>\n",
       "      <td>2</td>\n",
       "      <td>House</td>\n",
       "      <td>1275000</td>\n",
       "      <td>S</td>\n",
       "      <td>hockingstuart</td>\n",
       "      <td>3/9/2016</td>\n",
       "      <td>3</td>\n",
       "      <td>3206</td>\n",
       "      <td>1</td>\n",
       "      <td>0</td>\n",
       "      <td>120</td>\n",
       "      <td>82</td>\n",
       "      <td>1900</td>\n",
       "      <td>Port Phillip</td>\n",
       "      <td>-38</td>\n",
       "      <td>145</td>\n",
       "      <td>Southern Metropolitan</td>\n",
       "      <td>3280</td>\n",
       "    </tr>\n",
       "    <tr>\n",
       "      <th>79</th>\n",
       "      <td>Albert Park</td>\n",
       "      <td>85 Richardson St</td>\n",
       "      <td>2</td>\n",
       "      <td>House</td>\n",
       "      <td>1455000</td>\n",
       "      <td>S</td>\n",
       "      <td>Thomson</td>\n",
       "      <td>3/9/2016</td>\n",
       "      <td>3</td>\n",
       "      <td>3206</td>\n",
       "      <td>1</td>\n",
       "      <td>0</td>\n",
       "      <td>159</td>\n",
       "      <td>144</td>\n",
       "      <td>1965</td>\n",
       "      <td>Port Phillip</td>\n",
       "      <td>-38</td>\n",
       "      <td>145</td>\n",
       "      <td>Southern Metropolitan</td>\n",
       "      <td>3280</td>\n",
       "    </tr>\n",
       "    <tr>\n",
       "      <th>80</th>\n",
       "      <td>Albert Park</td>\n",
       "      <td>112 Beaconsfield Pde</td>\n",
       "      <td>3</td>\n",
       "      <td>House</td>\n",
       "      <td>2850000</td>\n",
       "      <td>PI</td>\n",
       "      <td>Buxton</td>\n",
       "      <td>4/3/2017</td>\n",
       "      <td>3</td>\n",
       "      <td>3206</td>\n",
       "      <td>2</td>\n",
       "      <td>0</td>\n",
       "      <td>211</td>\n",
       "      <td>198</td>\n",
       "      <td>1890</td>\n",
       "      <td>Port Phillip</td>\n",
       "      <td>-38</td>\n",
       "      <td>145</td>\n",
       "      <td>Southern Metropolitan</td>\n",
       "      <td>3280</td>\n",
       "    </tr>\n",
       "    <tr>\n",
       "      <th>81</th>\n",
       "      <td>Albert Park</td>\n",
       "      <td>94 Graham St</td>\n",
       "      <td>3</td>\n",
       "      <td>House</td>\n",
       "      <td>1850000</td>\n",
       "      <td>S</td>\n",
       "      <td>Greg</td>\n",
       "      <td>4/3/2017</td>\n",
       "      <td>3</td>\n",
       "      <td>3206</td>\n",
       "      <td>2</td>\n",
       "      <td>0</td>\n",
       "      <td>128</td>\n",
       "      <td>133</td>\n",
       "      <td>1890</td>\n",
       "      <td>Port Phillip</td>\n",
       "      <td>-38</td>\n",
       "      <td>145</td>\n",
       "      <td>Southern Metropolitan</td>\n",
       "      <td>3280</td>\n",
       "    </tr>\n",
       "    <tr>\n",
       "      <th>82</th>\n",
       "      <td>Albert Park</td>\n",
       "      <td>396 Montague St</td>\n",
       "      <td>2</td>\n",
       "      <td>House</td>\n",
       "      <td>1436000</td>\n",
       "      <td>S</td>\n",
       "      <td>RT</td>\n",
       "      <td>4/3/2017</td>\n",
       "      <td>3</td>\n",
       "      <td>3206</td>\n",
       "      <td>1</td>\n",
       "      <td>0</td>\n",
       "      <td>130</td>\n",
       "      <td>81</td>\n",
       "      <td>1900</td>\n",
       "      <td>Port Phillip</td>\n",
       "      <td>-38</td>\n",
       "      <td>145</td>\n",
       "      <td>Southern Metropolitan</td>\n",
       "      <td>3280</td>\n",
       "    </tr>\n",
       "  </tbody>\n",
       "</table>\n",
       "</div>"
      ],
      "text/plain": [
       "         Suburb               Address  Rooms   Type    Price Method  \\\n",
       "78  Albert Park        105 Kerferd Rd      2  House  1275000      S   \n",
       "79  Albert Park      85 Richardson St      2  House  1455000      S   \n",
       "80  Albert Park  112 Beaconsfield Pde      3  House  2850000     PI   \n",
       "81  Albert Park          94 Graham St      3  House  1850000      S   \n",
       "82  Albert Park       396 Montague St      2  House  1436000      S   \n",
       "\n",
       "          SellerG      Date  Distance  Postcode  Bathroom  Car  Landsize  \\\n",
       "78  hockingstuart  3/9/2016         3      3206         1    0       120   \n",
       "79        Thomson  3/9/2016         3      3206         1    0       159   \n",
       "80         Buxton  4/3/2017         3      3206         2    0       211   \n",
       "81           Greg  4/3/2017         3      3206         2    0       128   \n",
       "82             RT  4/3/2017         3      3206         1    0       130   \n",
       "\n",
       "    BuildingArea  YearBuilt   CouncilArea  Lattitude  Longtitude  \\\n",
       "78            82       1900  Port Phillip        -38         145   \n",
       "79           144       1965  Port Phillip        -38         145   \n",
       "80           198       1890  Port Phillip        -38         145   \n",
       "81           133       1890  Port Phillip        -38         145   \n",
       "82            81       1900  Port Phillip        -38         145   \n",
       "\n",
       "               Regionname  Propertycount  \n",
       "78  Southern Metropolitan           3280  \n",
       "79  Southern Metropolitan           3280  \n",
       "80  Southern Metropolitan           3280  \n",
       "81  Southern Metropolitan           3280  \n",
       "82  Southern Metropolitan           3280  "
      ]
     },
     "execution_count": 28,
     "metadata": {},
     "output_type": "execute_result"
    }
   ],
   "source": [
    "# Further Analysis on South Metropolitan\n",
    "\n",
    "melbourne_data_df_smetro = melbourne_data_df[(melbourne_data_df['Regionname'] == 'Southern Metropolitan')]\n",
    "melbourne_data_df_smetro.head()"
   ]
  },
  {
   "cell_type": "code",
   "execution_count": 29,
   "id": "7cc14677",
   "metadata": {},
   "outputs": [
    {
     "data": {
      "text/html": [
       "<div>\n",
       "<style scoped>\n",
       "    .dataframe tbody tr th:only-of-type {\n",
       "        vertical-align: middle;\n",
       "    }\n",
       "\n",
       "    .dataframe tbody tr th {\n",
       "        vertical-align: top;\n",
       "    }\n",
       "\n",
       "    .dataframe thead th {\n",
       "        text-align: right;\n",
       "    }\n",
       "</style>\n",
       "<table border=\"1\" class=\"dataframe\">\n",
       "  <thead>\n",
       "    <tr style=\"text-align: right;\">\n",
       "      <th></th>\n",
       "      <th>count</th>\n",
       "      <th>min</th>\n",
       "      <th>max</th>\n",
       "      <th>mean</th>\n",
       "      <th>median</th>\n",
       "    </tr>\n",
       "    <tr>\n",
       "      <th>CouncilArea</th>\n",
       "      <th></th>\n",
       "      <th></th>\n",
       "      <th></th>\n",
       "      <th></th>\n",
       "      <th></th>\n",
       "    </tr>\n",
       "  </thead>\n",
       "  <tbody>\n",
       "    <tr>\n",
       "      <th>Boroondara</th>\n",
       "      <td>1159</td>\n",
       "      <td>160000</td>\n",
       "      <td>8000000</td>\n",
       "      <td>1646740</td>\n",
       "      <td>1615000</td>\n",
       "    </tr>\n",
       "    <tr>\n",
       "      <th>Bayside</th>\n",
       "      <td>489</td>\n",
       "      <td>290000</td>\n",
       "      <td>5800000</td>\n",
       "      <td>1652168</td>\n",
       "      <td>1550000</td>\n",
       "    </tr>\n",
       "    <tr>\n",
       "      <th>Whitehorse</th>\n",
       "      <td>111</td>\n",
       "      <td>550000</td>\n",
       "      <td>2630000</td>\n",
       "      <td>1297237</td>\n",
       "      <td>1253500</td>\n",
       "    </tr>\n",
       "    <tr>\n",
       "      <th>Monash</th>\n",
       "      <td>187</td>\n",
       "      <td>305000</td>\n",
       "      <td>2525000</td>\n",
       "      <td>1091499</td>\n",
       "      <td>1060000</td>\n",
       "    </tr>\n",
       "    <tr>\n",
       "      <th>Glen Eira</th>\n",
       "      <td>848</td>\n",
       "      <td>131000</td>\n",
       "      <td>3000000</td>\n",
       "      <td>1069279</td>\n",
       "      <td>1040500</td>\n",
       "    </tr>\n",
       "    <tr>\n",
       "      <th>Stonnington</th>\n",
       "      <td>719</td>\n",
       "      <td>240000</td>\n",
       "      <td>6250000</td>\n",
       "      <td>1293382</td>\n",
       "      <td>1020000</td>\n",
       "    </tr>\n",
       "    <tr>\n",
       "      <th>Kingston</th>\n",
       "      <td>92</td>\n",
       "      <td>240000</td>\n",
       "      <td>1740000</td>\n",
       "      <td>990965</td>\n",
       "      <td>993500</td>\n",
       "    </tr>\n",
       "    <tr>\n",
       "      <th>Port Phillip</th>\n",
       "      <td>628</td>\n",
       "      <td>275000</td>\n",
       "      <td>5600000</td>\n",
       "      <td>1144346</td>\n",
       "      <td>920000</td>\n",
       "    </tr>\n",
       "    <tr>\n",
       "      <th>Melbourne</th>\n",
       "      <td>106</td>\n",
       "      <td>260800</td>\n",
       "      <td>3000000</td>\n",
       "      <td>920908</td>\n",
       "      <td>720000</td>\n",
       "    </tr>\n",
       "  </tbody>\n",
       "</table>\n",
       "</div>"
      ],
      "text/plain": [
       "              count     min      max    mean  median\n",
       "CouncilArea                                         \n",
       "Boroondara     1159  160000  8000000 1646740 1615000\n",
       "Bayside         489  290000  5800000 1652168 1550000\n",
       "Whitehorse      111  550000  2630000 1297237 1253500\n",
       "Monash          187  305000  2525000 1091499 1060000\n",
       "Glen Eira       848  131000  3000000 1069279 1040500\n",
       "Stonnington     719  240000  6250000 1293382 1020000\n",
       "Kingston         92  240000  1740000  990965  993500\n",
       "Port Phillip    628  275000  5600000 1144346  920000\n",
       "Melbourne       106  260800  3000000  920908  720000"
      ]
     },
     "execution_count": 29,
     "metadata": {},
     "output_type": "execute_result"
    }
   ],
   "source": [
    "# Tabular format for Analysis by CouncilArea\n",
    "melbourne_data_scouncil = melbourne_data_df_smetro.groupby(['CouncilArea'])['Price'].agg({\"count\", \"median\", \"min\", \"max\", \"mean\"}).sort_values(by=\"median\", ascending=False)\n",
    "melbourne_data_scouncil"
   ]
  },
  {
   "cell_type": "code",
   "execution_count": 30,
   "id": "983e7c6f",
   "metadata": {},
   "outputs": [
    {
     "data": {
      "text/plain": [
       "Text(0.5, 1.0, 'Boxplots of Price Analysis by CouncilArea across Southern Metropolitan')"
      ]
     },
     "execution_count": 30,
     "metadata": {},
     "output_type": "execute_result"
    },
    {
     "data": {
      "image/png": "[encoded data removed]",
      "text/plain": [
       "<Figure size 1080x360 with 1 Axes>"
      ]
     },
     "metadata": {
      "needs_background": "light"
     },
     "output_type": "display_data"
    }
   ],
   "source": [
    "plt.figure(figsize=(15,5))\n",
    "sns.boxplot(x=melbourne_data_df_smetro['CouncilArea'],y=melbourne_data_df_smetro['Price'])\n",
    "plt.title(\"Boxplots of Price Analysis by CouncilArea across Southern Metropolitan\")"
   ]
  },
  {
   "cell_type": "code",
   "execution_count": 31,
   "id": "d0458442",
   "metadata": {
    "scrolled": true
   },
   "outputs": [
    {
     "data": {
      "text/plain": [
       "Text(0.5, 1.0, 'Countplots by CouncilArea across Southern Metropolitan')"
      ]
     },
     "execution_count": 31,
     "metadata": {},
     "output_type": "execute_result"
    },
    {
     "data": {
      "image/png": "[encoded data removed]",
      "text/plain": [
       "<Figure size 1080x360 with 1 Axes>"
      ]
     },
     "metadata": {
      "needs_background": "light"
     },
     "output_type": "display_data"
    }
   ],
   "source": [
    "plt.figure(figsize=(15,5))\n",
    "sns.countplot(data=melbourne_data_df_smetro,y=melbourne_data_df_smetro['CouncilArea'])\n",
    "plt.title(\"Countplots by CouncilArea across Southern Metropolitan\")"
   ]
  },
  {
   "cell_type": "markdown",
   "id": "e206e432",
   "metadata": {},
   "source": [
    "Observations:<br>\n",
    "The highest frequency is from Boroondara which has a median price of 1.6M.<br>\n",
    "The lowest frequency is from Kingston which has a median price less than 1M."
   ]
  },
  {
   "cell_type": "markdown",
   "id": "01696edd",
   "metadata": {},
   "source": [
    "### 1b) Analysis by Room Features in South Metropolitan"
   ]
  },
  {
   "cell_type": "code",
   "execution_count": 32,
   "id": "67c86cc9",
   "metadata": {},
   "outputs": [
    {
     "data": {
      "text/html": [
       "<div>\n",
       "<style scoped>\n",
       "    .dataframe tbody tr th:only-of-type {\n",
       "        vertical-align: middle;\n",
       "    }\n",
       "\n",
       "    .dataframe tbody tr th {\n",
       "        vertical-align: top;\n",
       "    }\n",
       "\n",
       "    .dataframe thead tr th {\n",
       "        text-align: left;\n",
       "    }\n",
       "\n",
       "    .dataframe thead tr:last-of-type th {\n",
       "        text-align: right;\n",
       "    }\n",
       "</style>\n",
       "<table border=\"1\" class=\"dataframe\">\n",
       "  <thead>\n",
       "    <tr>\n",
       "      <th></th>\n",
       "      <th colspan=\"10\" halign=\"left\">median</th>\n",
       "      <th colspan=\"10\" halign=\"left\">count</th>\n",
       "    </tr>\n",
       "    <tr>\n",
       "      <th>Bathroom</th>\n",
       "      <th>0</th>\n",
       "      <th>1</th>\n",
       "      <th>2</th>\n",
       "      <th>3</th>\n",
       "      <th>4</th>\n",
       "      <th>5</th>\n",
       "      <th>6</th>\n",
       "      <th>7</th>\n",
       "      <th>8</th>\n",
       "      <th>All</th>\n",
       "      <th>0</th>\n",
       "      <th>1</th>\n",
       "      <th>2</th>\n",
       "      <th>3</th>\n",
       "      <th>4</th>\n",
       "      <th>5</th>\n",
       "      <th>6</th>\n",
       "      <th>7</th>\n",
       "      <th>8</th>\n",
       "      <th>All</th>\n",
       "    </tr>\n",
       "    <tr>\n",
       "      <th>Rooms</th>\n",
       "      <th></th>\n",
       "      <th></th>\n",
       "      <th></th>\n",
       "      <th></th>\n",
       "      <th></th>\n",
       "      <th></th>\n",
       "      <th></th>\n",
       "      <th></th>\n",
       "      <th></th>\n",
       "      <th></th>\n",
       "      <th></th>\n",
       "      <th></th>\n",
       "      <th></th>\n",
       "      <th></th>\n",
       "      <th></th>\n",
       "      <th></th>\n",
       "      <th></th>\n",
       "      <th></th>\n",
       "      <th></th>\n",
       "      <th></th>\n",
       "    </tr>\n",
       "  </thead>\n",
       "  <tbody>\n",
       "    <tr>\n",
       "      <th>1</th>\n",
       "      <td>760500</td>\n",
       "      <td>400000</td>\n",
       "      <td>1007500</td>\n",
       "      <td>0</td>\n",
       "      <td>0</td>\n",
       "      <td>0</td>\n",
       "      <td>0</td>\n",
       "      <td>0</td>\n",
       "      <td>0</td>\n",
       "      <td>400000</td>\n",
       "      <td>1</td>\n",
       "      <td>335</td>\n",
       "      <td>4</td>\n",
       "      <td>0</td>\n",
       "      <td>0</td>\n",
       "      <td>0</td>\n",
       "      <td>0</td>\n",
       "      <td>0</td>\n",
       "      <td>0</td>\n",
       "      <td>340</td>\n",
       "    </tr>\n",
       "    <tr>\n",
       "      <th>2</th>\n",
       "      <td>780000</td>\n",
       "      <td>690000</td>\n",
       "      <td>845000</td>\n",
       "      <td>1200000</td>\n",
       "      <td>0</td>\n",
       "      <td>0</td>\n",
       "      <td>0</td>\n",
       "      <td>0</td>\n",
       "      <td>0</td>\n",
       "      <td>710000</td>\n",
       "      <td>13</td>\n",
       "      <td>1205</td>\n",
       "      <td>229</td>\n",
       "      <td>5</td>\n",
       "      <td>0</td>\n",
       "      <td>0</td>\n",
       "      <td>0</td>\n",
       "      <td>0</td>\n",
       "      <td>0</td>\n",
       "      <td>1452</td>\n",
       "    </tr>\n",
       "    <tr>\n",
       "      <th>3</th>\n",
       "      <td>1072000</td>\n",
       "      <td>1310000</td>\n",
       "      <td>1405000</td>\n",
       "      <td>1730000</td>\n",
       "      <td>2975400</td>\n",
       "      <td>1510000</td>\n",
       "      <td>2020000</td>\n",
       "      <td>0</td>\n",
       "      <td>0</td>\n",
       "      <td>1385000</td>\n",
       "      <td>5</td>\n",
       "      <td>601</td>\n",
       "      <td>828</td>\n",
       "      <td>52</td>\n",
       "      <td>4</td>\n",
       "      <td>1</td>\n",
       "      <td>1</td>\n",
       "      <td>0</td>\n",
       "      <td>0</td>\n",
       "      <td>1492</td>\n",
       "    </tr>\n",
       "    <tr>\n",
       "      <th>4</th>\n",
       "      <td>1475000</td>\n",
       "      <td>1645500</td>\n",
       "      <td>1800000</td>\n",
       "      <td>2150000</td>\n",
       "      <td>2860000</td>\n",
       "      <td>0</td>\n",
       "      <td>0</td>\n",
       "      <td>0</td>\n",
       "      <td>0</td>\n",
       "      <td>1850000</td>\n",
       "      <td>2</td>\n",
       "      <td>88</td>\n",
       "      <td>482</td>\n",
       "      <td>205</td>\n",
       "      <td>22</td>\n",
       "      <td>0</td>\n",
       "      <td>0</td>\n",
       "      <td>0</td>\n",
       "      <td>0</td>\n",
       "      <td>799</td>\n",
       "    </tr>\n",
       "    <tr>\n",
       "      <th>5</th>\n",
       "      <td>0</td>\n",
       "      <td>2160000</td>\n",
       "      <td>1945000</td>\n",
       "      <td>2400000</td>\n",
       "      <td>3250000</td>\n",
       "      <td>3207000</td>\n",
       "      <td>3400000</td>\n",
       "      <td>3900000</td>\n",
       "      <td>0</td>\n",
       "      <td>2350000</td>\n",
       "      <td>0</td>\n",
       "      <td>7</td>\n",
       "      <td>82</td>\n",
       "      <td>94</td>\n",
       "      <td>27</td>\n",
       "      <td>13</td>\n",
       "      <td>1</td>\n",
       "      <td>1</td>\n",
       "      <td>0</td>\n",
       "      <td>225</td>\n",
       "    </tr>\n",
       "    <tr>\n",
       "      <th>6</th>\n",
       "      <td>0</td>\n",
       "      <td>1900000</td>\n",
       "      <td>1833000</td>\n",
       "      <td>2000000</td>\n",
       "      <td>2950000</td>\n",
       "      <td>0</td>\n",
       "      <td>6500000</td>\n",
       "      <td>0</td>\n",
       "      <td>0</td>\n",
       "      <td>2000000</td>\n",
       "      <td>0</td>\n",
       "      <td>1</td>\n",
       "      <td>6</td>\n",
       "      <td>11</td>\n",
       "      <td>4</td>\n",
       "      <td>0</td>\n",
       "      <td>1</td>\n",
       "      <td>0</td>\n",
       "      <td>0</td>\n",
       "      <td>23</td>\n",
       "    </tr>\n",
       "    <tr>\n",
       "      <th>7</th>\n",
       "      <td>0</td>\n",
       "      <td>0</td>\n",
       "      <td>1350000</td>\n",
       "      <td>1802500</td>\n",
       "      <td>2846000</td>\n",
       "      <td>0</td>\n",
       "      <td>0</td>\n",
       "      <td>0</td>\n",
       "      <td>0</td>\n",
       "      <td>1642000</td>\n",
       "      <td>0</td>\n",
       "      <td>0</td>\n",
       "      <td>1</td>\n",
       "      <td>2</td>\n",
       "      <td>2</td>\n",
       "      <td>0</td>\n",
       "      <td>0</td>\n",
       "      <td>0</td>\n",
       "      <td>0</td>\n",
       "      <td>5</td>\n",
       "    </tr>\n",
       "    <tr>\n",
       "      <th>8</th>\n",
       "      <td>0</td>\n",
       "      <td>0</td>\n",
       "      <td>0</td>\n",
       "      <td>1880000</td>\n",
       "      <td>0</td>\n",
       "      <td>0</td>\n",
       "      <td>0</td>\n",
       "      <td>2950000</td>\n",
       "      <td>2200000</td>\n",
       "      <td>2200000</td>\n",
       "      <td>0</td>\n",
       "      <td>0</td>\n",
       "      <td>0</td>\n",
       "      <td>1</td>\n",
       "      <td>0</td>\n",
       "      <td>0</td>\n",
       "      <td>0</td>\n",
       "      <td>1</td>\n",
       "      <td>1</td>\n",
       "      <td>3</td>\n",
       "    </tr>\n",
       "    <tr>\n",
       "      <th>All</th>\n",
       "      <td>857000</td>\n",
       "      <td>770000</td>\n",
       "      <td>1482500</td>\n",
       "      <td>2160000</td>\n",
       "      <td>3050000</td>\n",
       "      <td>3183500</td>\n",
       "      <td>3400000</td>\n",
       "      <td>3425000</td>\n",
       "      <td>2200000</td>\n",
       "      <td>1206000</td>\n",
       "      <td>21</td>\n",
       "      <td>2237</td>\n",
       "      <td>1632</td>\n",
       "      <td>370</td>\n",
       "      <td>59</td>\n",
       "      <td>14</td>\n",
       "      <td>3</td>\n",
       "      <td>2</td>\n",
       "      <td>1</td>\n",
       "      <td>4339</td>\n",
       "    </tr>\n",
       "  </tbody>\n",
       "</table>\n",
       "</div>"
      ],
      "text/plain": [
       "           median                                                        \\\n",
       "Bathroom        0        1        2        3        4        5        6   \n",
       "Rooms                                                                     \n",
       "1          760500   400000  1007500        0        0        0        0   \n",
       "2          780000   690000   845000  1200000        0        0        0   \n",
       "3         1072000  1310000  1405000  1730000  2975400  1510000  2020000   \n",
       "4         1475000  1645500  1800000  2150000  2860000        0        0   \n",
       "5               0  2160000  1945000  2400000  3250000  3207000  3400000   \n",
       "6               0  1900000  1833000  2000000  2950000        0  6500000   \n",
       "7               0        0  1350000  1802500  2846000        0        0   \n",
       "8               0        0        0  1880000        0        0        0   \n",
       "All        857000   770000  1482500  2160000  3050000  3183500  3400000   \n",
       "\n",
       "                                   count                                    \\\n",
       "Bathroom        7        8     All     0     1     2    3   4   5  6  7  8   \n",
       "Rooms                                                                        \n",
       "1               0        0  400000     1   335     4    0   0   0  0  0  0   \n",
       "2               0        0  710000    13  1205   229    5   0   0  0  0  0   \n",
       "3               0        0 1385000     5   601   828   52   4   1  1  0  0   \n",
       "4               0        0 1850000     2    88   482  205  22   0  0  0  0   \n",
       "5         3900000        0 2350000     0     7    82   94  27  13  1  1  0   \n",
       "6               0        0 2000000     0     1     6   11   4   0  1  0  0   \n",
       "7               0        0 1642000     0     0     1    2   2   0  0  0  0   \n",
       "8         2950000  2200000 2200000     0     0     0    1   0   0  0  1  1   \n",
       "All       3425000  2200000 1206000    21  2237  1632  370  59  14  3  2  1   \n",
       "\n",
       "                \n",
       "Bathroom   All  \n",
       "Rooms           \n",
       "1          340  \n",
       "2         1452  \n",
       "3         1492  \n",
       "4          799  \n",
       "5          225  \n",
       "6           23  \n",
       "7            5  \n",
       "8            3  \n",
       "All       4339  "
      ]
     },
     "execution_count": 32,
     "metadata": {},
     "output_type": "execute_result"
    }
   ],
   "source": [
    "smetro_room_pivot = pd.pivot_table(melbourne_data_df_smetro, values='Price', index='Rooms', columns='Bathroom', \n",
    "                            aggfunc=['median', 'count'], fill_value=0, dropna=True, margins=True)\n",
    "smetro_room_pivot.style.set_properties(**{'border-color': 'black','border-style' :'solid',\n",
    "                                          'border-width': '1px','border-collapse':'collapse'})\n",
    "\n",
    "smetro_room_pivot"
   ]
  },
  {
   "cell_type": "code",
   "execution_count": 33,
   "id": "bd1c815a",
   "metadata": {},
   "outputs": [
    {
     "data": {
      "text/plain": [
       "Text(0.5, 1.0, 'Boxplots of Price Analysis by Number of Rooms across Southern Metropolitan')"
      ]
     },
     "execution_count": 33,
     "metadata": {},
     "output_type": "execute_result"
    },
    {
     "data": {
      "image/png": "[encoded data removed]",
      "text/plain": [
       "<Figure size 1080x360 with 1 Axes>"
      ]
     },
     "metadata": {
      "needs_background": "light"
     },
     "output_type": "display_data"
    }
   ],
   "source": [
    "plt.figure(figsize=(15,5))\n",
    "sns.boxplot(x=melbourne_data_df_smetro['Rooms'],y=melbourne_data_df_smetro['Price'])\n",
    "plt.title(\"Boxplots of Price Analysis by Number of Rooms across Southern Metropolitan\")"
   ]
  },
  {
   "cell_type": "code",
   "execution_count": 34,
   "id": "0a90512c",
   "metadata": {
    "scrolled": true
   },
   "outputs": [
    {
     "data": {
      "text/plain": [
       "Text(0.5, 1.0, 'Countplots by Number of Rooms across Southern Metropolitan')"
      ]
     },
     "execution_count": 34,
     "metadata": {},
     "output_type": "execute_result"
    },
    {
     "data": {
      "image/png": "[encoded data removed]",
      "text/plain": [
       "<Figure size 1080x360 with 1 Axes>"
      ]
     },
     "metadata": {
      "needs_background": "light"
     },
     "output_type": "display_data"
    }
   ],
   "source": [
    "plt.figure(figsize=(15,5))\n",
    "sns.countplot(data=melbourne_data_df_smetro,y=melbourne_data_df['Rooms'])\n",
    "plt.title(\"Countplots by Number of Rooms across Southern Metropolitan\")"
   ]
  },
  {
   "cell_type": "markdown",
   "id": "af25b4b6",
   "metadata": {},
   "source": [
    "Observations: <br>\n",
    "1. The highest frequency is from 3 room which has a median price of less than 1.5M. <br>\n",
    "2. The lowest frequency is from 5 room which has a median price around 2.35M. <br>\n",
    "3. Properties with 7 rooms has a high proportion in the upper quartile beyond the median price. <br>"
   ]
  },
  {
   "cell_type": "markdown",
   "id": "e8001cc3",
   "metadata": {},
   "source": [
    "### 1c) Analysis by Price and Bathroom in South Metropolitan"
   ]
  },
  {
   "cell_type": "code",
   "execution_count": 35,
   "id": "a484274a",
   "metadata": {},
   "outputs": [
    {
     "data": {
      "text/plain": [
       "Text(0.5, 1.0, 'Boxplots of Price Analysis by Number of Bathroom across Southern Metropolitan')"
      ]
     },
     "execution_count": 35,
     "metadata": {},
     "output_type": "execute_result"
    },
    {
     "data": {
      "image/png": "[encoded data removed]",
      "text/plain": [
       "<Figure size 1080x360 with 1 Axes>"
      ]
     },
     "metadata": {
      "needs_background": "light"
     },
     "output_type": "display_data"
    }
   ],
   "source": [
    "# Further Analysis on South Metropolitan\n",
    "plt.figure(figsize=(15,5))\n",
    "sns.boxplot(x=melbourne_data_df_smetro['Bathroom'],y=melbourne_data_df_smetro['Price'])\n",
    "plt.title(\"Boxplots of Price Analysis by Number of Bathroom across Southern Metropolitan\")"
   ]
  },
  {
   "cell_type": "code",
   "execution_count": 36,
   "id": "9cd65830",
   "metadata": {},
   "outputs": [
    {
     "data": {
      "text/plain": [
       "Text(0.5, 1.0, 'Countplots by Number of Bathrooms across Southern Metropolitan')"
      ]
     },
     "execution_count": 36,
     "metadata": {},
     "output_type": "execute_result"
    },
    {
     "data": {
      "image/png": "[encoded data removed]",
      "text/plain": [
       "<Figure size 1080x360 with 1 Axes>"
      ]
     },
     "metadata": {
      "needs_background": "light"
     },
     "output_type": "display_data"
    }
   ],
   "source": [
    "plt.figure(figsize=(15,5))\n",
    "sns.countplot(data=melbourne_data_df_smetro,y=melbourne_data_df['Bathroom'])\n",
    "plt.title(\"Countplots by Number of Bathrooms across Southern Metropolitan\")"
   ]
  },
  {
   "cell_type": "markdown",
   "id": "4434cfa8",
   "metadata": {},
   "source": [
    "Observations:\n",
    "1. The highest frequency is from 1 bath which has a median price of less than 1.0M.<br> \n",
    "2. The lowest frequency is from 5 room which has a median price around 3.2M. <br>\n",
    "3. Properties with 7 rooms has a high proportion in the upper quartile beyond the median price."
   ]
  },
  {
   "cell_type": "markdown",
   "id": "b260e6ba",
   "metadata": {},
   "source": [
    "### 1d) Property Transactions in Southern Metropolitan"
   ]
  },
  {
   "cell_type": "code",
   "execution_count": 37,
   "id": "bc1b80e6",
   "metadata": {},
   "outputs": [
    {
     "data": {
      "text/html": [
       "<div style=\"width:100%;\"><div style=\"position:relative;width:100%;height:0;padding-bottom:60%;\"><span style=\"color:#565656\">Make this Notebook Trusted to load map: File -> Trust Notebook</span><iframe srcdoc=\"&lt;!DOCTYPE html&gt;\n",
       "&lt;head&gt;    \n",
       "    &lt;meta http-equiv=&quot;content-type&quot; content=&quot;text/html; charset=UTF-8&quot; /&gt;\n",
       "    \n",
       "        &lt;script&gt;\n",
       "            L_NO_TOUCH = false;\n",
       "            L_DISABLE_3D = false;\n",
       "        &lt;/script&gt;\n",
       "    \n",
       "    &lt;style&gt;html, body {width: 100%;height: 100%;margin: 0;padding: 0;}&lt;/style&gt;\n",
       "    &lt;style&gt;#map {position:absolute;top:0;bottom:0;right:0;left:0;}&lt;/style&gt;\n",
       "    &lt;script src=&quot;https://cdn.jsdelivr.net/npm/leaflet@1.6.0/dist/leaflet.js&quot;&gt;&lt;/script&gt;\n",
       "    &lt;script src=&quot;https://code.jquery.com/jquery-1.12.4.min.js&quot;&gt;&lt;/script&gt;\n",
       "    &lt;script src=&quot;https://maxcdn.bootstrapcdn.com/bootstrap/3.2.0/js/bootstrap.min.js&quot;&gt;&lt;/script&gt;\n",
       "    &lt;script src=&quot;https://cdnjs.cloudflare.com/ajax/libs/Leaflet.awesome-markers/2.0.2/leaflet.awesome-markers.js&quot;&gt;&lt;/script&gt;\n",
       "    &lt;link rel=&quot;stylesheet&quot; href=&quot;https://cdn.jsdelivr.net/npm/leaflet@1.6.0/dist/leaflet.css&quot;/&gt;\n",
       "    &lt;link rel=&quot;stylesheet&quot; href=&quot;https://maxcdn.bootstrapcdn.com/bootstrap/3.2.0/css/bootstrap.min.css&quot;/&gt;\n",
       "    &lt;link rel=&quot;stylesheet&quot; href=&quot;https://maxcdn.bootstrapcdn.com/bootstrap/3.2.0/css/bootstrap-theme.min.css&quot;/&gt;\n",
       "    &lt;link rel=&quot;stylesheet&quot; href=&quot;https://maxcdn.bootstrapcdn.com/font-awesome/4.6.3/css/font-awesome.min.css&quot;/&gt;\n",
       "    &lt;link rel=&quot;stylesheet&quot; href=&quot;https://cdnjs.cloudflare.com/ajax/libs/Leaflet.awesome-markers/2.0.2/leaflet.awesome-markers.css&quot;/&gt;\n",
       "    &lt;link rel=&quot;stylesheet&quot; href=&quot;https://cdn.jsdelivr.net/gh/python-visualization/folium/folium/templates/leaflet.awesome.rotate.min.css&quot;/&gt;\n",
       "    \n",
       "            &lt;meta name=&quot;viewport&quot; content=&quot;width=device-width,\n",
       "                initial-scale=1.0, maximum-scale=1.0, user-scalable=no&quot; /&gt;\n",
       "            &lt;style&gt;\n",
       "                #map_e3b1e4b8a5dd70be620f86d958ca98f1 {\n",
       "                    position: relative;\n",
       "                    width: 100.0%;\n",
       "                    height: 100.0%;\n",
       "                    left: 0.0%;\n",
       "                    top: 0.0%;\n",
       "                }\n",
       "            &lt;/style&gt;\n",
       "        \n",
       "    &lt;script src=&quot;https://cdn.jsdelivr.net/gh/python-visualization/folium@master/folium/templates/leaflet_heat.min.js&quot;&gt;&lt;/script&gt;\n",
       "&lt;/head&gt;\n",
       "&lt;body&gt;    \n",
       "    \n",
       "            &lt;div class=&quot;folium-map&quot; id=&quot;map_e3b1e4b8a5dd70be620f86d958ca98f1&quot; &gt;&lt;/div&gt;\n",
       "        \n",
       "&lt;/body&gt;\n",
       "&lt;script&gt;    \n",
       "    \n",
       "            var map_e3b1e4b8a5dd70be620f86d958ca98f1 = L.map(\n",
       "                &quot;map_e3b1e4b8a5dd70be620f86d958ca98f1&quot;,\n",
       "                {\n",
       "                    center: [-37.8, 145.03],\n",
       "                    crs: L.CRS.EPSG3857,\n",
       "                    zoom: 12,\n",
       "                    zoomControl: true,\n",
       "                    preferCanvas: false,\n",
       "                }\n",
       "            );\n",
       "\n",
       "            \n",
       "\n",
       "        \n",
       "    \n",
       "            var tile_layer_180f29f0378c309183597e9b4a14cc5b = L.tileLayer(\n",
       "                &quot;https://{s}.tile.openstreetmap.org/{z}/{x}/{y}.png&quot;,\n",
       "                {&quot;attribution&quot;: &quot;Data by \\u0026copy; \\u003ca href=\\&quot;http://openstreetmap.org\\&quot;\\u003eOpenStreetMap\\u003c/a\\u003e, under \\u003ca href=\\&quot;http://www.openstreetmap.org/copyright\\&quot;\\u003eODbL\\u003c/a\\u003e.&quot;, &quot;detectRetina&quot;: false, &quot;maxNativeZoom&quot;: 18, &quot;maxZoom&quot;: 18, &quot;minZoom&quot;: 0, &quot;noWrap&quot;: false, &quot;opacity&quot;: 1, &quot;subdomains&quot;: &quot;abc&quot;, &quot;tms&quot;: false}\n",
       "            ).addTo(map_e3b1e4b8a5dd70be620f86d958ca98f1);\n",
       "        \n",
       "    \n",
       "            var heat_map_76feafd5f0b3d22d3b4b6b869677558f = L.heatLayer(\n",
       "                [[-37.8459, 144.9555], [-37.845, 144.9538], [-37.8481, 144.9499], [-37.8452, 144.9488], [-37.8431, 144.9565], [-37.8444, 144.9484], [-37.8405, 144.9521], [-37.8447, 144.9523], [-37.8443, 144.9598], [-37.8415, 144.952], [-37.8422, 144.9554], [-37.8443, 144.9579], [-37.8421, 144.9571], [-37.8379, 144.9539], [-37.8415, 144.9585], [-37.8436, 144.9557], [-37.8422, 144.949], [-37.8451, 144.9511], [-37.8407, 144.9523], [-37.8445, 144.9501], [-37.8443, 144.9481], [-37.8424, 144.9562], [-37.847, 144.9575], [-37.8468, 144.9546], [-37.8473, 144.9551], [-37.8467, 144.9475], [-37.846, 144.9542], [-37.8427, 144.9546], [-37.8461, 144.9528], [-37.8421, 144.9517], [-37.8477, 144.9558], [-37.846, 144.9517], [-37.8429, 144.9493], [-37.8415, 144.9585], [-37.8413, 144.95], [-37.8434, 144.9495], [-37.8416, 144.9488], [-37.8387, 144.9519], [-37.8488, 144.9551], [-37.8448, 144.9453], [-37.8399, 144.9577], [-37.8411, 144.9497], [-37.8543, 145.0262], [-37.8539, 145.0284], [-37.8552, 145.016], [-37.854, 145.0135], [-37.8614, 145.0274], [-37.853, 145.0167], [-37.8592, 145.0182], [-37.8538, 145.0127], [-37.8537, 145.0267], [-37.8619, 145.0257], [-37.8574, 145.0281], [-37.8552, 145.016], [-37.8555, 145.0291], [-37.858, 145.0111], [-37.8638, 145.0229], [-37.8543, 145.0262], [-37.8528, 145.0268], [-37.8566, 145.0116], [-37.8596, 145.0198], [-37.8564, 145.0228], [-37.8619, 145.0185], [-37.8605, 145.0185], [-37.8537, 145.0267], [-37.8574, 145.0174], [-37.8543, 145.016], [-37.8536, 145.0173], [-37.8614, 145.0222], [-37.8545, 145.0145], [-37.8613, 145.0264], [-37.8537, 145.0114], [-37.8602, 145.013], [-37.851, 145.0161], [-37.8511, 145.0167], [-37.8558, 145.015], [-37.8571, 145.0224], [-37.8531, 145.0115], [-37.8646, 145.0247], [-37.8521, 145.019], [-37.8542, 145.0149], [-37.8597, 145.0104], [-37.8573, 145.0186], [-37.8596, 145.0198], [-37.8559, 145.0158], [-37.8575, 145.0174], [-37.8509, 145.0203], [-37.8573, 145.0186], [-37.8604, 145.0147], [-37.8593, 145.0156], [-37.8554, 145.0173], [-37.8593, 145.0275], [-37.8618, 145.0183], [-37.8574, 145.016], [-37.8582, 145.0138], [-37.8542, 145.0135], [-37.8557, 145.0264], [-37.8611, 145.0195], [-37.853, 145.0264], [-37.8611, 145.0271], [-37.8573, 145.0112], [-37.8549, 145.0113], [-37.8568, 145.0161], [-37.8503, 145.0185], [-37.8669, 145.0767], [-37.8673, 145.0688], [-37.8655, 145.0807], [-37.874, 145.0714], [-37.8636, 145.0794], [-37.869, 145.0822], [-37.8666, 145.0676], [-37.8699, 145.0778], [-37.8685, 145.0786], [-37.8729, 145.0788], [-37.8612, 145.0858], [-37.8675, 145.0668], [-37.8695, 145.084], [-37.8599, 145.0815], [-37.86, 145.0817], [-37.8742, 145.07], [-37.8737, 145.0695], [-37.8745, 145.0738], [-37.8598, 145.0796], [-37.8709, 145.0857], [-37.8655, 145.0808], [-37.8605, 145.0833], [-37.8714, 145.073], [-37.8653, 145.0897], [-37.8669, 145.077], [-37.8619, 145.0879], [-37.8703, 145.0774], [-37.872, 145.0692], [-37.8693, 145.08], [-37.8679, 145.0781], [-37.8724, 145.0758], [-37.8711, 145.0746], [-37.8624, 145.0798], [-37.8664, 145.0772], [-37.8715, 145.0688], [-37.8645, 145.0797], [-37.8752, 145.0754], [-37.8636, 145.0903], [-37.8693, 145.1082], [-37.867, 145.1092], [-37.8639, 145.0968], [-37.8716, 145.0999], [-37.8694, 145.0944], [-37.8647, 145.1023], [-37.8642, 145.1109], [-37.8662, 145.109], [-37.8675, 145.106], [-37.8651, 145.1109], [-37.8661, 145.1013], [-37.864, 145.0972], [-37.8621, 145.1126], [-37.8651, 145.1107], [-37.8711, 145.1017], [-37.8621, 145.1021], [-37.8655, 145.096], [-37.8707, 145.1036], [-37.8637, 145.1024], [-37.8696, 145.0962], [-37.8702, 145.1042], [-37.8671, 145.1117], [-37.8629, 145.1097], [-37.8709, 145.102], [-37.8669, 145.1106], [-37.8683, 145.1082], [-37.858, 145.1038], [-37.87, 145.1103], [-37.8655, 145.1096], [-37.8614, 145.1098], [-37.8723, 145.1089], [-37.8668, 144.9928], [-37.8731, 144.9958], [-37.8733, 144.997], [-37.8723, 144.9961], [-37.8725, 144.9952], [-37.8742, 144.9972], [-37.8726, 144.9962], [-37.8663, 144.9948], [-37.8678, 144.9966], [-37.8691, 144.9974], [-37.8667, 144.9917], [-37.874, 144.9933], [-37.872, 144.9909], [-37.8727, 144.9969], [-37.8696, 144.9925], [-37.873, 144.9907], [-37.8739, 144.9929], [-37.8094, 145.0807], [-37.811, 145.0958], [-37.8128, 145.0975], [-37.8161, 145.0812], [-37.8028, 145.0768], [-37.8147, 145.0748], [-37.8085, 145.0764], [-37.8071, 145.0908], [-37.8124, 145.0916], [-37.8051, 145.1016], [-37.8134, 145.0972], [-37.8061, 145.0801], [-37.8092, 145.0778], [-37.8162, 145.0771], [-37.807, 145.0635], [-37.8048, 145.0708], [-37.8152, 145.0843], [-37.8056, 145.0788], [-37.8074, 145.0826], [-37.8125, 145.0901], [-37.8065, 145.065], [-37.8055, 145.0699], [-37.8162, 145.0841], [-37.814, 145.0966], [-37.8032, 145.0693], [-37.8116, 145.0724], [-37.8144, 145.0993], [-37.8125, 145.0775], [-37.8013, 145.0652], [-37.8044, 145.1006], [-37.8112, 145.0881], [-37.8088, 145.0991], [-37.8125, 145.0849], [-37.8063, 145.0705], [-37.8096, 145.0735], [-37.8042, 145.1042], [-37.8157, 145.0795], [-37.8122, 145.0879], [-37.8061, 145.0878], [-37.8117, 145.0775], [-37.8068, 145.0786], [-37.8116, 145.0789], [-37.8152, 145.0839], [-37.8068, 145.0827], [-37.8123, 145.0821], [-37.8161, 145.0772], [-37.8106, 145.0848], [-37.8036, 145.0715], [-37.8044, 145.0853], [-37.8134, 145.081], [-37.8025, 145.0665], [-37.8039, 145.0714], [-37.8149, 145.0747], [-37.8092, 145.0789], [-37.815, 145.076], [-37.8135, 145.0995], [-37.8095, 145.0782], [-37.8027, 145.0694], [-37.8056, 145.071], [-37.8147, 145.084], [-37.8054, 145.0771], [-37.8131, 145.1], [-37.8164, 145.0846], [-37.8039, 145.0631], [-37.8057, 145.0825], [-37.8161, 145.0748], [-37.8056, 145.0688], [-37.8058, 145.0882], [-37.8161, 145.0809], [-37.8028, 145.0768], [-37.8167, 145.0797], [-37.8058, 145.0627], [-37.8037, 145.0636], [-37.812, 145.0876], [-37.8049, 145.0748], [-37.8075, 145.1011], [-37.8058, 145.0781], [-37.8099, 145.0792], [-37.8092, 145.1016], [-37.7966, 145.1021], [-37.7939, 145.0789], [-37.8014, 145.0892], [-37.7912, 145.085], [-37.7923, 145.1029], [-37.7917, 145.0868], [-37.7907, 145.0907], [-37.7988, 145.0726], [-37.8002, 145.0949], [-37.7906, 145.0788], [-37.7947, 145.1035], [-37.7938, 145.0732], [-37.7856, 145.0918], [-37.7862, 145.0781], [-37.7959, 145.0787], [-37.7944, 145.1028], [-37.7954, 145.0838], [-37.7863, 145.0905], [-37.804, 145.0951], [-37.7898, 145.079], [-37.7893, 145.092], [-37.7851, 145.0957], [-37.8021, 145.0985], [-37.798, 145.1007], [-37.784, 145.0878], [-37.7982, 145.0688], [-37.7851, 145.0775], [-37.8025, 145.0843], [-37.7977, 145.1037], [-37.8007, 145.1002], [-37.7822, 145.0907], [-37.7933, 145.0672], [-37.802, 145.0797], [-37.7843, 145.0891], [-37.7981, 145.0904], [-37.783, 145.0926], [-37.7943, 145.083], [-37.7841, 145.0953], [-37.7975, 145.0716], [-37.7941, 145.1042], [-37.8008, 145.104], [-37.7871, 145.0843], [-37.8023, 145.0976], [-37.7868, 145.0677], [-37.794, 145.1019], [-37.7928, 145.1006], [-37.7945, 145.0667], [-37.7935, 145.0865], [-37.7971, 145.0672], [-37.7832, 145.0779], [-37.7949, 145.1014], [-37.7898, 145.0967], [-37.7889, 145.0904], [-37.7907, 145.0916], [-37.796, 145.0984], [-37.7951, 145.0696], [-37.7964, 145.086], [-37.7956, 145.0829], [-37.7992, 145.0907], [-37.7988, 145.089], [-37.797, 145.086], [-37.7885, 145.0854], [-37.7982, 145.0816], [-37.7879, 145.0929], [-37.8002, 145.0999], [-37.7908, 145.101], [-37.7945, 145.067], [-37.7835, 145.0883], [-37.7987, 145.0788], [-37.7976, 145.0684], [-37.8005, 145.0986], [-37.7961, 145.0859], [-37.7968, 145.0873], [-37.7982, 145.0903], [-37.7955, 145.0694], [-37.796, 145.0696], [-37.7867, 145.0718], [-37.7935, 145.0679], [-37.8022, 145.0775], [-37.7846, 145.0935], [-37.7867, 145.0797], [-37.7938, 145.0675], [-37.7841, 145.0953], [-37.7832, 145.0796], [-37.7953, 145.0712], [-37.7996, 145.0959], [-37.7882, 145.0882], [-37.7997, 145.0993], [-37.7842, 145.0921], [-37.7854, 145.0869], [-37.7839, 145.0954], [-37.786, 145.0886], [-37.8028, 145.0828], [-37.7982, 145.0839], [-37.7961, 145.0808], [-37.7895, 145.0985], [-37.7868, 145.0677], [-37.7898, 145.1021], [-37.7923, 145.1029], [-37.7893, 145.092], [-37.7975, 145.0961], [-37.7908, 145.0991], [-37.8002, 145.07], [-37.7985, 145.0707], [-37.7936, 145.0697], [-37.7993, 145.0869], [-37.7938, 145.0838], [-37.7938, 145.0666], [-37.7998, 145.0862], [-37.9165, 145.0259], [-37.925, 145.046], [-37.9273, 145.0479], [-37.9336, 145.043], [-37.9207, 145.0479], [-37.9305, 145.0449], [-37.9311, 145.0428], [-37.9204, 145.0443], [-37.9272, 145.0406], [-37.9232, 145.0502], [-37.9155, 145.0401], [-37.9172, 145.0421], [-37.922, 145.0302], [-37.9269, 145.047], [-37.9149, 145.0254], [-37.9332, 145.045], [-37.9278, 145.0337], [-37.9263, 145.04], [-37.9166, 145.0314], [-37.9134, 145.0263], [-37.9318, 145.0474], [-37.9247, 145.0287], [-37.9199, 145.0477], [-37.9321, 145.0472], [-37.9344, 145.0481], [-37.9291, 145.0472], [-37.9279, 145.031], [-37.9252, 145.0494], [-37.9267, 145.043], [-37.9193, 145.0438], [-37.9243, 145.0376], [-37.9292, 145.0341], [-37.9245, 145.0336], [-37.924, 145.0504], [-37.9132, 145.0251], [-37.929, 145.0464], [-37.9158, 145.0379], [-37.9274, 145.031], [-37.9149, 145.0252], [-37.9256, 145.0497], [-37.9163, 145.0324], [-37.9326, 145.0387], [-37.9282, 145.0367], [-37.9203, 145.048], [-37.9316, 145.0454], [-37.9317, 145.0469], [-37.9326, 145.0441], [-37.933, 145.0466], [-37.9187, 145.0461], [-37.9228, 145.0476], [-37.9149, 145.0469], [-37.9256, 145.0374], [-37.921, 145.0411], [-37.9152, 145.0244], [-37.9287, 145.0461], [-37.9286, 145.0495], [-37.9257, 145.0501], [-37.9173, 145.0359], [-37.9317, 145.0352], [-37.9289, 145.0478], [-37.9168, 145.04], [-37.9315, 145.0445], [-37.9215, 145.0505], [-37.9224, 145.0462], [-37.9246, 145.0383], [-37.929, 145.0375], [-37.9307, 145.0444], [-37.9148, 145.0243], [-37.9289, 145.0481], [-37.9178, 145.0413], [-37.9155, 145.0243], [-37.9282, 145.047], [-37.9245, 145.0336], [-37.9217, 145.0315], [-37.9144, 145.0401], [-37.9161, 145.0284], [-37.9155, 145.0301], [-37.9139, 145.0395], [-37.9307, 145.0379], [-37.9259, 145.0341], [-37.9294, 145.041], [-37.9263, 145.0422], [-37.9181, 145.044], [-37.9148, 145.0404], [-37.9206, 145.0383], [-37.9273, 145.0324], [-37.9241, 145.048], [-37.9178, 145.0511], [-37.9291, 145.0491], [-37.9159, 145.0285], [-37.9155, 145.0243], [-37.9193, 145.0484], [-37.9159, 145.039], [-37.9305, 145.0547], [-37.9261, 145.0566], [-37.9237, 145.0763], [-37.9255, 145.0796], [-37.9181, 145.0586], [-37.9333, 145.0602], [-37.9155, 145.0723], [-37.9135, 145.0774], [-37.9166, 145.0719], [-37.9174, 145.0717], [-37.9229, 145.0557], [-37.9244, 145.0547], [-37.9234, 145.0533], [-37.91, 145.0842], [-37.9193, 145.0659], [-37.9167, 145.0771], [-37.9262, 145.0808], [-37.9168, 145.069], [-37.9157, 145.0802], [-37.9272, 145.0644], [-37.9132, 145.0782], [-37.9347, 145.0546], [-37.914, 145.0714], [-37.9119, 145.0705], [-37.9358, 145.0688], [-37.9284, 145.0668], [-37.9209, 145.0757], [-37.9212, 145.0674], [-37.9232, 145.0537], [-37.9069, 145.0568], [-37.9309, 145.0685], [-37.9231, 145.066], [-37.9262, 145.055], [-37.9223, 145.0747], [-37.9272, 145.0804], [-37.9256, 145.0757], [-37.9102, 145.0709], [-37.9205, 145.0528], [-37.9186, 145.0709], [-37.9244, 145.0792], [-37.9241, 145.0539], [-37.925, 145.0612], [-37.9082, 145.0681], [-37.9126, 145.0776], [-37.9312, 145.0795], [-37.9153, 145.0707], [-37.9245, 145.0507], [-37.9164, 145.0765], [-37.9218, 145.0607], [-37.9177, 145.0535], [-37.9092, 145.0813], [-37.9159, 145.0733], [-37.9183, 145.071], [-37.9239, 145.0781], [-37.9227, 145.0558], [-37.9198, 145.0791], [-37.9219, 145.0733], [-37.9334, 145.0667], [-37.9174, 145.0779], [-37.9099, 145.0726], [-37.9303, 145.0805], [-37.926, 145.0551], [-37.9343, 145.0607], [-37.9179, 145.071], [-37.9111, 145.072], [-37.9196, 145.0691], [-37.9173, 145.0742], [-37.9257, 145.0735], [-37.9348, 145.0634], [-37.9112, 145.0738], [-37.9117, 145.0695], [-37.9217, 145.056], [-37.9278, 145.081], [-37.9293, 145.0657], [-37.9286, 145.069], [-37.919, 145.0829], [-37.9193, 145.0691], [-37.9329, 145.0617], [-37.9228, 145.0527], [-37.9252, 145.0562], [-37.9197, 145.057], [-37.9073, 145.0599], [-37.906, 145.0547], [-37.9244, 145.0665], [-37.9168, 145.0809], [-37.9299, 145.0598], [-37.9115, 145.0844], [-37.9198, 145.0787], [-37.9191, 145.075], [-37.9262, 145.0624], [-37.9149, 145.0676], [-37.9117, 145.0534], [-37.9149, 145.0788], [-37.9347, 145.0507], [-37.9144, 145.0582], [-37.9269, 145.0787], [-37.9195, 145.0555], [-37.9176, 145.0566], [-37.9369, 145.0751], [-37.9198, 145.0545], [-37.9316, 145.0542], [-37.9079, 145.0707], [-37.9147, 145.0645], [-37.9272, 145.0786], [-37.9133, 145.0837], [-37.9198, 145.0789], [-37.9193, 145.0553], [-37.9085, 145.0683], [-37.9079, 145.0685], [-37.9066, 145.0541], [-37.9087, 145.0537], [-37.9178, 145.0815], [-37.9146, 145.0767], [-37.9256, 145.0533], [-37.9241, 145.0763], [-37.9329, 145.053], [-37.9179, 145.0592], [-37.9242, 145.0705], [-37.9113, 145.0765], [-37.9274, 145.0654], [-37.9324, 145.0577], [-37.9233, 145.0674], [-37.9232, 145.0563], [-37.9292, 145.0708], [-37.9245, 145.0773], [-37.9129, 145.0598], [-37.9314, 145.0808], [-37.9138, 145.0774], [-37.9258, 145.075], [-37.9096, 145.0843], [-37.9362, 145.0691], [-37.9142, 145.08], [-37.9225, 145.0754], [-37.9143, 145.0629], [-37.912, 145.0752], [-37.9307, 145.0531], [-37.9272, 145.0801], [-37.9116, 145.0686], [-37.9257, 145.0811], [-37.9272, 145.0705], [-37.9315, 145.0619], [-37.9281, 145.0669], [-37.916, 145.0776], [-37.9147, 145.0751], [-37.9289, 145.0502], [-37.9135, 145.0557], [-37.9233, 145.0616], [-37.9229, 145.0673], [-37.9075, 145.061], [-37.9218, 145.0563], [-37.9216, 145.073], [-37.9107, 145.0598], [-37.9218, 145.053], [-37.9108, 145.0794], [-37.9234, 145.0616], [-37.9241, 145.0668], [-37.9212, 145.0606], [-37.9295, 145.063], [-37.9143, 145.0699], [-37.9162, 145.0799], [-37.9286, 145.0737], [-37.927, 145.0645], [-37.9251, 145.0771], [-37.9376, 145.0784], [-37.9163, 145.0779], [-37.9213, 145.0565], [-37.9181, 145.0586], [-37.9189, 145.0584], [-37.9129, 145.0786], [-37.9159, 145.0787], [-37.9131, 145.07], [-37.9374, 145.0726], [-37.9364, 145.0649], [-37.9237, 145.0527], [-37.9207, 145.0757], [-37.9178, 145.067], [-37.9236, 145.0545], [-37.9351, 145.0572], [-37.908, 145.0716], [-37.9325, 145.0694], [-37.919, 145.0558], [-37.9291, 145.0538], [-37.9159, 145.0068], [-37.9038, 145.0001], [-37.8927, 145.0005], [-37.9071, 144.9898], [-37.9081, 145.0043], [-37.914, 144.9878], [-37.9139, 144.9878], [-37.9172, 144.996], [-37.8954, 145.0026], [-37.9205, 145.0007], [-37.8966, 144.993], [-37.8926, 144.9991], [-37.9172, 145.004], [-37.918, 145.0035], [-37.9243, 144.9989], [-37.9136, 144.9886], [-37.9082, 144.9968], [-37.9081, 145.0015], [-37.9122, 145.0038], [-37.9139, 145.0035], [-37.8956, 145.0026], [-37.9287, 144.992], [-37.9166, 144.9942], [-37.9301, 144.9935], [-37.9118, 144.9984], [-37.9157, 144.9973], [-37.8954, 145.0017], [-37.9241, 145.0008], [-37.9249, 144.9903], [-37.9045, 145.0043], [-37.9119, 144.9871], [-37.9119, 145.0037], [-37.9042, 144.9954], [-37.9039, 145.0009], [-37.8943, 144.9907], [-37.9252, 145.0004], [-37.9225, 144.9891], [-37.9225, 144.991], [-37.9097, 144.9914], [-37.9174, 144.9895], [-37.9264, 145.0044], [-37.899, 144.9901], [-37.9206, 145.0051], [-37.9275, 145.0046], [-37.8964, 144.9972], [-37.9059, 144.9927], [-37.9288, 144.9954], [-37.9012, 144.9878], [-37.9131, 144.995], [-37.8916, 145.0017], [-37.9011, 145.0011], [-37.9097, 144.9914], [-37.9154, 145.001], [-37.9144, 145.0004], [-37.918, 144.9911], [-37.9228, 144.9996], [-37.9104, 145.002], [-37.9153, 144.9924], [-37.892, 144.9918], [-37.9268, 144.991], [-37.8958, 144.9994], [-37.9204, 145.0028], [-37.914, 144.9914], [-37.9208, 144.9996], [-37.8975, 144.9991], [-37.9181, 144.993], [-37.9112, 144.9909], [-37.9164, 145.0002], [-37.9012, 144.997], [-37.9158, 144.9984], [-37.9188, 144.9942], [-37.9271, 145.0034], [-37.8965, 145.0022], [-37.9254, 145.0045], [-37.9166, 144.9926], [-37.9284, 144.9986], [-37.9075, 145.0064], [-37.912, 144.9994], [-37.8958, 144.9982], [-37.9206, 145.0], [-37.9148, 145.0009], [-37.8962, 145.0011], [-37.9233, 144.9944], [-37.9175, 144.9949], [-37.916, 145.0064], [-37.8987, 144.9953], [-37.909, 145.0005], [-37.9227, 145.0043], [-37.9156, 145.0013], [-37.896, 144.9957], [-37.9159, 144.9936], [-37.9095, 145.004], [-37.9249, 144.9928], [-37.909, 145.0005], [-37.9253, 145.0034], [-37.8956, 145.0037], [-37.905, 144.9959], [-37.9152, 144.993], [-37.9078, 145.0051], [-37.8989, 145.0008], [-37.9228, 145.0022], [-37.9118, 145.0041], [-37.914, 145.003], [-37.9234, 145.0042], [-37.9116, 144.9978], [-37.9194, 145.0003], [-37.9237, 145.0056], [-37.919, 144.9953], [-37.9121, 144.9953], [-37.9097, 144.9981], [-37.904, 144.9919], [-37.921, 144.9966], [-37.9049, 145.0069], [-37.9262, 144.9969], [-37.91, 144.989], [-37.9193, 144.9898], [-37.9205, 145.0012], [-37.9002, 144.9928], [-37.9159, 144.9933], [-37.9241, 145.0028], [-37.8869, 144.9982], [-37.9205, 145.0122], [-37.9187, 145.007], [-37.9317, 145.0218], [-37.9162, 145.0219], [-37.9077, 145.0229], [-37.9022, 145.0125], [-37.9195, 145.0067], [-37.9318, 145.0293], [-37.9179, 145.0091], [-37.9153, 145.0142], [-37.917, 145.0137], [-37.9179, 145.019], [-37.9029, 145.0118], [-37.9187, 145.0187], [-37.9091, 145.0245], [-37.9179, 145.0232], [-37.9241, 145.0125], [-37.9199, 145.0174], [-37.9271, 145.0281], [-37.9117, 145.0093], [-37.9177, 145.0143], [-37.927, 145.0267], [-37.9084, 145.0221], [-37.9205, 145.0102], [-37.932, 145.0284], [-37.9306, 145.0284], [-37.9269, 145.0274], [-37.928, 145.0095], [-37.931, 145.0198], [-37.9135, 145.0189], [-37.9085, 145.0201], [-37.9317, 145.0294], [-37.9143, 145.0238], [-37.9126, 145.013], [-37.9299, 145.015], [-37.9024, 145.0097], [-37.9045, 145.0082], [-37.9102, 145.0245], [-37.9308, 145.0316], [-37.931, 145.0163], [-37.9062, 145.0173], [-37.9176, 145.0087], [-37.9231, 145.0104], [-37.9175, 145.0116], [-37.9075, 145.0248], [-37.9187, 145.0071], [-37.9137, 145.0164], [-37.9255, 145.0118], [-37.9176, 145.009], [-37.9172, 145.0072], [-37.9057, 145.0166], [-37.9268, 145.0094], [-37.919, 145.0194], [-37.9289, 145.0284], [-37.9208, 145.0126], [-37.9089, 145.0246], [-37.91, 145.0113], [-37.9185, 145.0138], [-37.9126, 145.011], [-37.9196, 145.0205], [-37.911, 145.0236], [-37.9292, 145.0236], [-37.9213, 145.0111], [-37.9215, 145.0227], [-37.9186, 145.0175], [-37.9311, 145.0169], [-37.9292, 145.0252], [-37.9111, 145.0108], [-37.9198, 145.0137], [-37.9184, 145.007], [-37.9061, 145.0238], [-37.9159, 145.019], [-37.9237, 145.0075], [-37.9182, 145.0231], [-37.9164, 145.0228], [-37.9034, 145.017], [-37.9108, 145.0121], [-37.9013, 145.0072], [-37.9286, 145.0274], [-37.9207, 145.0079], [-37.9078, 145.0222], [-37.9125, 145.0114], [-37.9172, 145.0214], [-37.9179, 145.0127], [-37.9291, 145.0283], [-37.9124, 145.0132], [-37.9027, 145.0225], [-37.9085, 145.0129], [-37.9191, 145.0074], [-37.9266, 145.0088], [-37.9241, 145.0108], [-37.9164, 145.0228], [-37.9055, 145.0173], [-37.848, 145.098], [-37.851, 145.1169], [-37.8562, 145.1104], [-37.8538, 145.127], [-37.8516, 145.1056], [-37.8561, 145.1054], [-37.8551, 145.1121], [-37.854, 145.1195], [-37.8473, 145.1203], [-37.8489, 145.1093], [-37.8525, 145.1198], [-37.842, 145.102], [-37.8544, 145.1114], [-37.8494, 145.1291], [-37.8561, 145.0962], [-37.8525, 145.0973], [-37.8509, 145.117], [-37.8516, 145.1179], [-37.8509, 145.1161], [-37.8509, 145.1119], [-37.8528, 145.1129], [-37.8599, 145.1101], [-37.856, 145.1196], [-37.8454, 145.0971], [-37.856, 145.1104], [-37.8495, 145.1282], [-37.8474, 145.0988], [-37.8444, 145.1054], [-37.8522, 145.1312], [-37.8542, 145.1138], [-37.8529, 145.0962], [-37.8521, 145.1187], [-37.8454, 145.0974], [-37.8505, 145.1065], [-37.8445, 145.1011], [-37.8484, 145.1013], [-37.8535, 145.1139], [-37.8562, 145.1075], [-37.8463, 145.102], [-37.8597, 145.1084], [-37.8459, 145.1041], [-37.8593, 145.1101], [-37.8552, 145.1292], [-37.8525, 145.1154], [-37.8601, 145.1007], [-37.8529, 145.1222], [-37.855, 145.118], [-37.8507, 145.109], [-37.8554, 145.1089], [-37.8286, 145.0686], [-37.8435, 145.0695], [-37.8496, 145.0869], [-37.8231, 145.0585], [-37.8459, 145.088], [-37.8386, 145.067], [-37.8365, 145.0802], [-37.842, 145.0888], [-37.8448, 145.0723], [-37.8347, 145.057], [-37.8457, 145.0611], [-37.8357, 145.0697], [-37.8431, 145.0962], [-37.8493, 145.0877], [-37.8469, 145.0589], [-37.8433, 145.0695], [-37.8382, 145.0904], [-37.8237, 145.0638], [-37.8426, 145.0943], [-37.8479, 145.0958], [-37.8452, 145.0959], [-37.8314, 145.0611], [-37.8274, 145.0688], [-37.842, 145.0542], [-37.8459, 145.0644], [-37.8367, 145.0934], [-37.8446, 145.068], [-37.8436, 145.0581], [-37.8255, 145.0592], [-37.8479, 145.0958], [-37.8439, 145.0718], [-37.84, 145.0548], [-37.8255, 145.0592], [-37.8424, 145.0639], [-37.8482, 145.0949], [-37.841, 145.0824], [-37.8465, 145.0743], [-37.8349, 145.0758], [-37.836, 145.0914], [-37.832, 145.0599], [-37.8438, 145.066], [-37.8442, 145.0578], [-37.8491, 145.086], [-37.8442, 145.0668], [-37.8405, 145.0903], [-37.8489, 145.088], [-37.847, 145.0672], [-37.8238, 145.0624], [-37.8448, 145.071], [-37.8447, 145.0916], [-37.8233, 145.0644], [-37.8361, 145.0599], [-37.8316, 145.068], [-37.8357, 145.0786], [-37.8454, 145.0707], [-37.8408, 145.0905], [-37.8437, 145.0623], [-37.8393, 145.0662], [-37.8439, 145.0662], [-37.8379, 145.0849], [-37.8362, 145.064], [-37.8328, 145.0679], [-37.831, 145.0621], [-37.8355, 145.0633], [-37.8459, 145.0721], [-37.8336, 145.0612], [-37.8406, 145.0545], [-37.8456, 145.0865], [-37.8441, 145.0806], [-37.8434, 145.081], [-37.8344, 145.0818], [-37.8244, 145.064], [-37.8357, 145.0595], [-37.8422, 145.064], [-37.8437, 145.069], [-37.8458, 145.0611], [-37.8325, 145.0649], [-37.836, 145.056], [-37.8399, 145.0912], [-37.8303, 145.0668], [-37.8421, 145.0719], [-37.8186, 145.0706], [-37.8265, 145.072], [-37.822, 145.0864], [-37.8295, 145.0774], [-37.8264, 145.0824], [-37.8292, 145.0852], [-37.8181, 145.0668], [-37.8264, 145.0741], [-37.8266, 145.0849], [-37.8326, 145.081], [-37.8215, 145.0731], [-37.8233, 145.0769], [-37.8317, 145.0738], [-37.8323, 145.0842], [-37.8183, 145.0667], [-37.8205, 145.0828], [-37.8252, 145.0721], [-37.8227, 145.0845], [-37.827, 145.0737], [-37.826, 145.0729], [-37.832, 145.0853], [-37.826, 145.0734], [-37.8184, 145.0702], [-37.8257, 145.0856], [-37.8206, 145.0785], [-37.8234, 145.0731], [-37.8207, 145.0854], [-37.8236, 145.0729], [-37.8213, 145.079], [-37.8273, 145.0786], [-37.8266, 145.072], [-37.8206, 145.0678], [-37.8273, 145.0752], [-37.8291, 145.0826], [-37.897, 145.0623], [-37.8911, 145.0539], [-37.897, 145.0593], [-37.8876, 145.0502], [-37.8877, 145.0507], [-37.8982, 145.0461], [-37.8912, 145.0644], [-37.8875, 145.0599], [-37.8957, 145.0528], [-37.8965, 145.0618], [-37.8972, 145.0642], [-37.9003, 145.0634], [-37.8863, 145.066], [-37.8934, 145.0633], [-37.8972, 145.0642], [-37.8893, 145.0589], [-37.8858, 145.0632], [-37.8982, 145.0625], [-37.9032, 145.0555], [-37.8973, 145.053], [-37.8881, 145.0537], [-37.889, 145.0533], [-37.8888, 145.0533], [-37.8945, 145.0648], [-37.8988, 145.0516], [-37.8983, 145.0627], [-37.8974, 145.0539], [-37.8967, 145.0627], [-37.8881, 145.0535], [-37.8971, 145.0597], [-37.8977, 145.0493], [-37.8931, 145.0479], [-37.8982, 145.0625], [-37.8982, 145.0488], [-37.8881, 145.0558], [-37.8909, 145.0648], [-37.8936, 145.056], [-37.8925, 145.0541], [-37.892, 145.0482], [-37.9, 145.0548], [-37.8937, 145.0648], [-37.9037, 145.0588], [-37.888, 145.0505], [-37.8933, 145.0546], [-37.8968, 145.0609], [-37.8856, 145.0599], [-37.8955, 145.0515], [-37.8905, 145.0518], [-37.8886, 145.052], [-37.8973, 145.0625], [-37.89, 145.0559], [-37.8897, 145.0524], [-37.8893, 145.0589], [-37.8873, 145.0572], [-37.8934, 145.0599], [-37.8974, 145.0622], [-37.9031, 145.0578], [-37.8873, 145.0559], [-37.8864, 145.0561], [-37.8889, 145.048], [-37.8978, 145.062], [-37.8953, 145.0567], [-37.8957, 145.0599], [-37.8987, 145.0557], [-37.8972, 145.0617], [-37.8957, 145.0487], [-37.8854, 145.0636], [-37.8894, 145.0508], [-37.9023, 145.0568], [-37.8867, 145.0653], [-37.8871, 145.052], [-37.8873, 145.0572], [-37.8927, 145.0644], [-37.8978, 145.0506], [-37.8993, 145.0528], [-37.8959, 145.06], [-37.9011, 145.051], [-37.8843, 145.0531], [-37.8916, 145.0543], [-37.8922, 145.0544], [-37.8889, 145.0495], [-37.8896, 145.0492], [-37.8959, 145.0639], [-37.8975, 145.0478], [-37.898, 145.0528], [-37.8868, 145.0625], [-37.8973, 145.0596], [-37.8999, 145.0575], [-37.8927, 145.0539], [-37.8978, 145.0624], [-37.8956, 145.0613], [-37.891, 145.0636], [-37.8869, 145.0628], [-37.8946, 145.0588], [-37.8986, 145.0567], [-37.8936, 145.056], [-37.9007, 145.047], [-37.886, 145.0659], [-37.8887, 145.048], [-37.8894, 145.0508], [-37.8865, 145.0302], [-37.8864, 145.0326], [-37.8849, 145.0341], [-37.8866, 145.0322], [-37.8852, 145.024], [-37.8862, 145.0175], [-37.8864, 145.0242], [-37.885, 145.0189], [-37.8678, 145.027], [-37.8629, 145.019], [-37.8607, 145.0116], [-37.8694, 145.0296], [-37.8694, 145.0246], [-37.861, 145.0136], [-37.8744, 145.0371], [-37.8607, 145.0112], [-37.8625, 145.0103], [-37.8681, 145.0258], [-37.868, 145.0269], [-37.8672, 145.0225], [-37.8607, 145.0116], [-37.8647, 145.0232], [-37.8622, 145.0112], [-37.8607, 145.0116], [-37.8686, 145.0239], [-37.8696, 145.0323], [-37.8652, 145.0198], [-37.8609, 145.0126], [-37.8698, 145.0325], [-37.8896, 145.0307], [-37.8874, 145.019], [-37.8961, 145.0132], [-37.895, 145.022], [-37.8906, 145.0224], [-37.9002, 145.027], [-37.8997, 145.0168], [-37.8965, 145.0269], [-37.8912, 145.0289], [-37.8898, 145.0196], [-37.8906, 145.0221], [-37.8887, 145.0318], [-37.8958, 145.0215], [-37.8893, 145.0161], [-37.8993, 145.0254], [-37.8974, 145.0294], [-37.8923, 145.0177], [-37.8995, 145.0241], [-37.8901, 145.0224], [-37.8891, 145.0294], [-37.8957, 145.0196], [-37.8936, 145.0366], [-37.8967, 145.0313], [-37.8928, 145.0149], [-37.9027, 145.0322], [-37.8889, 145.0151], [-37.8887, 145.0207], [-37.8893, 145.0196], [-37.8943, 145.0145], [-37.9012, 145.035], [-37.8894, 145.0145], [-37.8996, 145.0169], [-37.8786, 145.1015], [-37.8891, 145.1002], [-37.8801, 145.1051], [-37.8738, 145.1054], [-37.8784, 145.0958], [-37.8796, 145.1044], [-37.8805, 145.105], [-37.8792, 145.0948], [-37.8805, 145.0978], [-37.8859, 145.0934], [-37.8742, 145.105], [-37.8837, 145.106], [-37.8812, 145.105], [-37.8738, 145.1095], [-37.8859, 145.0979], [-37.8845, 145.1027], [-37.8746, 145.1071], [-37.8838, 145.102], [-37.8824, 145.1042], [-37.8781, 145.0955], [-37.8845, 144.999], [-37.8912, 145.0138], [-37.8829, 145.0129], [-37.8852, 144.9997], [-37.8904, 145.013], [-37.8885, 145.0133], [-37.8916, 145.0123], [-37.8922, 145.0112], [-37.8951, 145.0085], [-37.8857, 145.0136], [-37.8838, 145.0095], [-37.8833, 145.0118], [-37.8847, 144.9992], [-37.8859, 144.9994], [-37.8887, 145.0046], [-37.8858, 145.0012], [-37.883, 145.0043], [-37.8824, 145.0133], [-37.8879, 145.0134], [-37.8961, 145.0125], [-37.8789, 145.0048], [-37.8817, 145.0126], [-37.8829, 145.0033], [-37.8889, 145.0043], [-37.8807, 145.0005], [-37.8844, 145.0117], [-37.8831, 145.0127], [-37.883, 144.999], [-37.8861, 145.0014], [-37.8813, 145.0063], [-37.8832, 145.0133], [-37.8871, 145.0081], [-37.8921, 145.0106], [-37.8855, 145.001], [-37.892, 145.008], [-37.8822, 144.9994], [-37.8897, 145.008], [-37.8849, 144.9993], [-37.8868, 145.0], [-37.8891, 145.0102], [-37.8831, 145.0153], [-37.8863, 144.9996], [-37.8889, 145.0043], [-37.8761, 144.9871], [-37.8831, 144.9801], [-37.882, 144.9785], [-37.8752, 144.9911], [-37.8802, 144.9942], [-37.8787, 144.985], [-37.8791, 144.9923], [-37.8857, 144.9884], [-37.8808, 144.9847], [-37.8749, 144.9842], [-37.8829, 144.9797], [-37.8725, 144.9848], [-37.8831, 144.9841], [-37.8867, 144.9836], [-37.881, 144.9837], [-37.8846, 144.9879], [-37.8794, 144.9938], [-37.8839, 144.9855], [-37.8785, 144.9885], [-37.8818, 144.9918], [-37.8778, 144.9904], [-37.874, 144.9819], [-37.881, 144.9841], [-37.8831, 144.9855], [-37.885, 144.991], [-37.8831, 144.9918], [-37.8815, 144.9903], [-37.874, 144.9835], [-37.8757, 144.9853], [-37.8789, 144.9836], [-37.8791, 144.9923], [-37.8831, 144.9896], [-37.8758, 144.9874], [-37.882, 144.993], [-37.8778, 144.9866], [-37.8726, 144.9846], [-37.8843, 144.9917], [-37.8839, 144.9831], [-37.8844, 144.9855], [-37.8808, 144.9893], [-37.8828, 144.9897], [-37.875, 144.9813], [-37.8716, 144.9869], [-37.8751, 144.987], [-37.8809, 144.9833], [-37.883, 144.9916], [-37.8861, 144.9877], [-37.8744, 144.9888], [-37.8838, 144.9853], [-37.8749, 144.9903], [-37.8749, 144.9799], [-37.8822, 144.9913], [-37.8902, 144.9907], [-37.875, 144.991], [-37.8895, 144.9902], [-37.8761, 144.9821], [-37.8811, 144.9797], [-37.8715, 144.9873], [-37.8767, 144.9849], [-37.8861, 144.9863], [-37.8758, 144.9798], [-37.8798, 144.994], [-37.8766, 144.991], [-37.8817, 144.984], [-37.8865, 144.9891], [-37.8839, 144.9848], [-37.8757, 144.987], [-37.8818, 144.9918], [-37.8842, 144.9829], [-37.8839, 144.9903], [-37.8725, 144.9854], [-37.8895, 144.9902], [-37.8831, 144.9855], [-37.8775, 144.9808], [-37.8768, 144.9905], [-37.8784, 144.9864], [-37.8748, 144.9778], [-37.8828, 144.9899], [-37.8753, 144.9902], [-37.874, 144.9903], [-37.8809, 144.9947], [-37.8768, 144.9845], [-37.8747, 144.987], [-37.8838, 144.9853], [-37.8835, 144.9873], [-37.854, 145.0832], [-37.8573, 145.077], [-37.8628, 145.0436], [-37.8637, 145.0438], [-37.8522, 145.0893], [-37.8513, 145.0601], [-37.8555, 145.0889], [-37.853, 145.0491], [-37.8599, 145.0898], [-37.8639, 145.0641], [-37.8543, 145.0889], [-37.8646, 145.0673], [-37.8536, 145.0911], [-37.852, 145.0942], [-37.8554, 145.0611], [-37.8523, 145.0726], [-37.856, 145.0691], [-37.8552, 145.082], [-37.8567, 145.0435], [-37.852, 145.0942], [-37.856, 145.0705], [-37.8501, 145.059], [-37.8602, 145.0925], [-37.8625, 145.044], [-37.8556, 145.068], [-37.8515, 145.0938], [-37.8589, 145.0413], [-37.8526, 145.0848], [-37.85, 145.0461], [-37.85, 145.057], [-37.8588, 145.0832], [-37.847, 145.0535], [-37.8534, 145.0785], [-37.8579, 145.0736], [-37.8667, 145.0752], [-37.863, 145.0501], [-37.8597, 145.0883], [-37.8509, 145.0916], [-37.8541, 145.0643], [-37.8523, 145.0936], [-37.8596, 145.0871], [-37.8552, 145.05], [-37.8526, 145.0853], [-37.8566, 145.0439], [-37.8571, 145.0766], [-37.8576, 145.0452], [-37.8567, 145.0666], [-37.8479, 145.0557], [-37.8627, 145.0402], [-37.8541, 145.0544], [-37.8534, 145.0735], [-37.8524, 145.0425], [-37.8519, 145.091], [-37.8505, 145.0459], [-37.8563, 145.0709], [-37.8628, 145.0734], [-37.8528, 145.0487], [-37.8559, 145.049], [-37.8517, 145.0796], [-37.8534, 145.0785], [-37.8581, 145.078], [-37.8566, 145.0454], [-37.8574, 145.0496], [-37.8529, 145.0605], [-37.8577, 145.0576], [-37.8547, 145.0457], [-37.85, 145.0465], [-37.8622, 145.0634], [-37.8541, 145.051], [-37.8552, 145.0785], [-37.8627, 145.0719], [-37.8577, 145.0421], [-37.8503, 145.0586], [-37.8588, 145.0512], [-37.8561, 145.0864], [-37.8582, 145.0715], [-37.8556, 145.0499], [-37.8503, 145.0754], [-37.8505, 145.0852], [-37.8517, 145.0459], [-37.8581, 145.0685], [-37.858, 145.0696], [-37.8489, 145.0711], [-37.859, 145.0656], [-37.8563, 145.072], [-37.8538, 145.0641], [-37.8566, 145.0553], [-37.8572, 145.0555], [-37.8506, 145.0465], [-37.863, 145.0631], [-37.8628, 145.0486], [-37.8476, 145.0554], [-37.8488, 145.0573], [-37.8561, 145.0934], [-37.8553, 145.0711], [-37.8542, 145.0733], [-37.8536, 145.0547], [-37.8597, 145.0571], [-37.8468, 145.0515], [-37.8471, 145.051], [-37.8521, 145.0657], [-37.8464, 145.0511], [-37.8572, 145.0423], [-37.8575, 145.0554], [-37.8538, 145.0842], [-37.8555, 145.0518], [-37.8578, 145.0919], [-37.8531, 145.086], [-37.8592, 145.0484], [-37.8573, 145.0904], [-37.8478, 145.0566], [-37.8515, 145.0922], [-37.8516, 145.061], [-37.8509, 145.0856], [-37.8497, 145.0466], [-37.8649, 145.0547], [-37.8578, 145.068], [-37.8523, 145.0603], [-37.8539, 145.0702], [-37.8547, 145.0771], [-37.8583, 145.0726], [-37.8511, 145.0428], [-37.8529, 145.0806], [-37.8578, 145.0537], [-37.9355, 145.0008], [-37.9419, 145.0019], [-37.9419, 145.0152], [-37.9387, 145.0063], [-37.9389, 145.0062], [-37.9319, 145.0173], [-37.9324, 145.0235], [-37.9347, 144.9963], [-37.9338, 145.0226], [-37.939, 145.0137], [-37.9386, 145.0055], [-37.9394, 145.0099], [-37.9361, 145.0243], [-37.9399, 145.0204], [-37.939, 145.0219], [-37.9358, 145.018], [-37.9389, 145.0186], [-37.9373, 145.0027], [-37.9437, 145.0175], [-37.9438, 145.0184], [-37.9433, 145.019], [-37.9395, 145.0088], [-37.9326, 144.9997], [-37.9381, 145.0161], [-37.9333, 144.9977], [-37.9429, 145.0072], [-37.9312, 144.9997], [-37.9419, 145.0156], [-37.9356, 145.0166], [-37.9428, 145.0092], [-37.9365, 145.022], [-37.9412, 145.0021], [-37.944, 145.0015], [-37.9339, 145.0023], [-37.9323, 145.0137], [-37.9427, 145.0085], [-37.9348, 145.0162], [-37.9341, 145.02], [-37.9379, 145.0061], [-37.9442, 145.0016], [-37.9449, 145.0144], [-37.9409, 145.0001], [-37.9396, 145.0156], [-37.933, 144.9975], [-37.9359, 145.017], [-37.9393, 145.0226], [-37.9379, 145.0067], [-37.9386, 145.006], [-37.9416, 145.0107], [-37.9442, 145.0018], [-37.9427, 145.0084], [-37.9371, 145.0035], [-37.9332, 145.0226], [-37.9323, 145.0225], [-37.946, 145.0181], [-37.9419, 145.01], [-37.9429, 145.0049], [-37.9364, 145.021], [-37.9448, 145.0186], [-37.9352, 145.0009], [-37.9344, 145.004], [-37.9446, 145.0201], [-37.9372, 145.0101], [-37.9336, 144.9999], [-37.9414, 145.0016], [-37.9391, 145.012], [-37.9444, 145.0231], [-37.9449, 145.0068], [-37.9392, 145.0186], [-37.9462, 145.0212], [-37.9395, 145.0001], [-37.9336, 144.997], [-37.9436, 145.0027], [-37.9369, 145.0163], [-37.9345, 145.0], [-37.9368, 145.0242], [-37.9431, 145.0118], [-37.9401, 145.0083], [-37.94, 145.0151], [-37.9315, 145.0109], [-37.9382, 144.9997], [-37.9452, 145.0113], [-37.9384, 145.0002], [-37.9407, 145.0104], [-37.9446, 145.0092], [-37.9367, 145.0322], [-37.9356, 145.0268], [-37.9346, 145.0302], [-37.9355, 145.0257], [-37.9431, 145.0267], [-37.9428, 145.0296], [-37.9432, 145.0348], [-37.9355, 145.0276], [-37.933, 145.0322], [-37.9362, 145.0339], [-37.9426, 145.03], [-37.9386, 145.0317], [-37.9431, 145.0274], [-37.9343, 145.0303], [-37.9405, 145.0346], [-37.9431, 145.0347], [-37.8344, 145.0422], [-37.8332, 145.0366], [-37.8183, 145.0371], [-37.8157, 145.0263], [-37.8303, 145.0341], [-37.8235, 145.0258], [-37.8243, 145.0328], [-37.8154, 145.0369], [-37.8263, 145.0257], [-37.816, 145.0272], [-37.8299, 145.0422], [-37.8186, 145.017], [-37.8249, 145.0342], [-37.8153, 145.0231], [-37.8155, 145.019], [-37.8287, 145.035], [-37.8186, 145.017], [-37.8177, 145.0424], [-37.8214, 145.0437], [-37.8258, 145.0446], [-37.8261, 145.0349], [-37.8216, 145.0343], [-37.8265, 145.0257], [-37.8294, 145.0382], [-37.8248, 145.0282], [-37.8272, 145.0444], [-37.8143, 145.0322], [-37.8236, 145.0425], [-37.8173, 145.0252], [-37.8213, 145.0291], [-37.8276, 145.0342], [-37.8192, 145.0385], [-37.8144, 145.0153], [-37.8187, 145.0272], [-37.8155, 145.0385], [-37.8281, 145.0391], [-37.8258, 145.0446], [-37.8343, 145.0364], [-37.8251, 145.0385], [-37.8272, 145.0343], [-37.8163, 145.0301], [-37.8237, 145.0242], [-37.8165, 145.021], [-37.8208, 145.0456], [-37.8314, 145.0353], [-37.8299, 145.0387], [-37.814, 145.0212], [-37.8185, 145.0235], [-37.8128, 145.0171], [-37.8268, 145.0267], [-37.814, 145.0175], [-37.8261, 145.0254], [-37.827, 145.0444], [-37.8202, 145.0409], [-37.8155, 145.0161], [-37.8271, 145.0243], [-37.8257, 145.0321], [-37.8271, 145.0347], [-37.8268, 145.0344], [-37.8142, 145.0252], [-37.8291, 145.0308], [-37.8298, 145.0355], [-37.814, 145.021], [-37.8153, 145.021], [-37.8169, 145.0234], [-37.8173, 145.0248], [-37.8268, 145.0344], [-37.824, 145.0427], [-37.8268, 145.0257], [-37.8185, 145.0236], [-37.8184, 145.0163], [-37.8235, 145.029], [-37.8249, 145.026], [-37.8166, 145.0163], [-37.8177, 145.0424], [-37.8168, 145.0321], [-37.8261, 145.0269], [-37.8287, 145.035], [-37.8176, 145.0204], [-37.813, 145.0207], [-37.8226, 145.0368], [-37.8308, 145.034], [-37.839, 145.0418], [-37.8235, 145.0294], [-37.8253, 145.0287], [-37.8202, 145.0404], [-37.8183, 145.0194], [-37.8144, 145.0328], [-37.8172, 145.0243], [-37.8192, 145.0221], [-37.8249, 145.0405], [-37.8198, 145.0245], [-37.8183, 145.0423], [-37.8169, 145.021], [-37.818, 145.0268], [-37.8305, 145.0341], [-37.8142, 145.0308], [-37.8171, 145.0252], [-37.8219, 145.0241], [-37.813, 145.0167], [-37.8246, 145.026], [-37.8339, 145.0335], [-37.8158, 145.0342], [-37.8157, 145.0273], [-37.8144, 145.0279], [-37.8159, 145.0219], [-37.8222, 145.0329], [-37.8213, 145.0224], [-37.8264, 145.027], [-37.8264, 145.027], [-37.8216, 145.0343], [-37.8224, 145.0243], [-37.8186, 145.0423], [-37.82, 145.0421], [-37.8931, 145.0791], [-37.8967, 145.0858], [-37.8994, 145.0816], [-37.8909, 145.0807], [-37.9072, 145.0762], [-37.8966, 145.0863], [-37.9022, 145.0811], [-37.8988, 145.0781], [-37.8927, 145.0781], [-37.9002, 145.0768], [-37.9002, 145.0773], [-37.9008, 145.0859], [-37.8934, 145.0853], [-37.8982, 145.0806], [-37.9054, 145.0857], [-37.9003, 145.0777], [-37.8991, 145.0804], [-37.8942, 145.0867], [-37.8945, 145.0876], [-37.9014, 145.0824], [-37.9034, 145.0796], [-37.898, 145.0815], [-37.8937, 145.0779], [-37.8996, 145.076], [-37.9084, 145.0775], [-37.8102, 145.0451], [-37.812, 145.0547], [-37.8099, 145.0606], [-37.804, 145.0347], [-37.8151, 145.0555], [-37.8015, 145.0505], [-37.8003, 145.0375], [-37.8034, 145.0283], [-37.8024, 145.0346], [-37.8093, 145.0299], [-37.8034, 145.0369], [-37.8064, 145.0182], [-37.8117, 145.0222], [-37.802, 145.036], [-37.8083, 145.0382], [-37.8046, 145.0375], [-37.8066, 145.0211], [-37.8028, 145.0534], [-37.8046, 145.0603], [-37.8012, 145.0361], [-37.8092, 145.0366], [-37.8147, 145.0438], [-37.8012, 145.0514], [-37.8118, 145.035], [-37.8095, 145.0391], [-37.8081, 145.0263], [-37.8007, 145.0374], [-37.8023, 145.0404], [-37.8017, 145.0445], [-37.8107, 145.0219], [-37.8128, 145.0588], [-37.8048, 145.0303], [-37.8125, 145.043], [-37.796, 145.0324], [-37.8146, 145.0419], [-37.8112, 145.057], [-37.8168, 145.056], [-37.8029, 145.0267], [-37.8071, 145.0243], [-37.8054, 145.0373], [-37.812, 145.0268], [-37.7997, 145.0304], [-37.8108, 145.0545], [-37.8034, 145.0527], [-37.8013, 145.0335], [-37.805, 145.0294], [-37.8066, 145.0211], [-37.8007, 145.0327], [-37.7925, 145.0389], [-37.8094, 145.0446], [-37.8047, 145.0534], [-37.8096, 145.0529], [-37.8148, 145.0571], [-37.8082, 145.0323], [-37.7995, 145.0418], [-37.7933, 145.0343], [-37.8036, 145.0545], [-37.7997, 145.046], [-37.8124, 145.0361], [-37.8083, 145.0418], [-37.8098, 145.022], [-37.813, 145.0411], [-37.8046, 145.0595], [-37.7937, 145.0353], [-37.804, 145.0553], [-37.8033, 145.036], [-37.7993, 145.0267], [-37.8135, 145.0355], [-37.8053, 145.0327], [-37.8006, 145.0218], [-37.7925, 145.0263], [-37.8012, 145.0297], [-37.8034, 145.0369], [-37.796, 145.0377], [-37.794, 145.032], [-37.8067, 145.0277], [-37.8042, 145.0291], [-37.8037, 145.0308], [-37.8044, 145.0386], [-37.8024, 145.0346], [-37.8063, 145.0179], [-37.7938, 145.0321], [-37.8046, 145.0382], [-37.801, 145.0297], [-37.7944, 145.0339], [-37.8027, 145.0404], [-37.8162, 145.0592], [-37.8065, 145.0287], [-37.7981, 145.0423], [-37.7982, 145.0281], [-37.8087, 145.0452], [-37.8116, 145.0285], [-37.8021, 145.0391], [-37.8042, 145.0279], [-37.8064, 145.0608], [-37.7915, 145.0348], [-37.8117, 145.0449], [-37.7941, 145.0238], [-37.8022, 145.0565], [-37.7916, 145.0352], [-37.8126, 145.0534], [-37.7978, 145.0333], [-37.8033, 145.0526], [-37.8017, 145.0419], [-37.8052, 145.0489], [-37.8074, 145.0318], [-37.8107, 145.051], [-37.7999, 145.0544], [-37.8043, 145.0291], [-37.7936, 145.0566], [-37.7971, 145.0514], [-37.7955, 145.0473], [-37.7923, 145.0528], [-37.7969, 145.0511], [-37.789, 145.0616], [-37.7916, 145.0529], [-37.7894, 145.0462], [-37.7922, 145.0518], [-37.799, 145.0578], [-37.7956, 145.0525], [-37.7951, 145.053], [-37.7881, 145.0631], [-37.7981, 145.0472], [-37.7997, 145.058], [-37.7974, 145.0491], [-37.7904, 145.0548], [-37.7927, 145.0597], [-37.793, 145.0592], [-37.7917, 145.0509], [-37.7938, 145.0545], [-37.7917, 145.0585], [-37.7981, 145.0472], [-37.7923, 145.0595], [-37.7902, 145.061], [-37.7966, 145.048], [-37.8407, 145.0343], [-37.8597, 145.0318], [-37.8638, 145.0379], [-37.8607, 145.0373], [-37.8493, 145.0395], [-37.8515, 145.0324], [-37.866, 145.039], [-37.854, 145.041], [-37.8562, 145.0373], [-37.8636, 145.0301], [-37.8644, 145.0302], [-37.8537, 145.041], [-37.8515, 145.0372], [-37.8586, 145.0375], [-37.8613, 145.0393], [-37.8577, 145.0406], [-37.8502, 145.0418], [-37.8527, 145.0301], [-37.8462, 145.0386], [-37.8633, 145.0338], [-37.8511, 145.0317], [-37.8693, 145.0348], [-37.851, 145.03], [-37.858, 145.0351], [-37.8514, 145.0361], [-37.8684, 145.035], [-37.851, 145.0316], [-37.8653, 145.0304], [-37.8549, 145.0298], [-37.8674, 145.0355], [-37.8469, 145.0377], [-37.852, 145.0343], [-37.8575, 145.0392], [-37.8638, 145.0298], [-37.8602, 145.0399], [-37.868, 145.038], [-37.8597, 145.0322], [-37.8631, 145.0353], [-37.871, 145.0364], [-37.8637, 145.0373], [-37.8686, 145.038], [-37.8514, 145.0361], [-37.8597, 145.0318], [-37.8563, 145.0369], [-37.854, 145.041], [-37.8633, 145.0336], [-37.8603, 145.0322], [-37.8726, 145.0396], [-37.8833, 145.0697], [-37.8747, 145.0836], [-37.8779, 145.0651], [-37.8832, 145.0779], [-37.8757, 145.0518], [-37.8755, 145.0523], [-37.8717, 145.0399], [-37.8724, 145.0628], [-37.8727, 145.0458], [-37.8786, 145.0495], [-37.8845, 145.072], [-37.8769, 145.0471], [-37.8717, 145.0403], [-37.8742, 145.0614], [-37.8796, 145.0876], [-37.8753, 145.0532], [-37.8783, 145.0869], [-37.8799, 145.0552], [-37.877, 145.067], [-37.866, 145.0549], [-37.8822, 145.0677], [-37.884, 145.0713], [-37.8708, 145.0616], [-37.8706, 145.0578], [-37.8747, 145.052], [-37.8826, 145.0868], [-37.8775, 145.0622], [-37.8782, 145.0649], [-37.8756, 145.0561], [-37.8769, 145.0471], [-37.8734, 145.0887], [-37.8707, 145.0482], [-37.8664, 145.0452], [-37.8691, 145.0435], [-37.8818, 145.0548], [-37.8733, 145.0507], [-37.8801, 145.0874], [-37.8835, 145.0886], [-37.8915, 145.0844], [-37.8771, 145.0505], [-37.8807, 145.0547], [-37.8743, 145.0588], [-37.8812, 145.057], [-37.8822, 145.0837], [-37.8823, 145.0839], [-37.8769, 145.052], [-37.8799, 145.0738], [-37.8654, 145.0412], [-37.8689, 145.0504], [-37.865, 145.0506], [-37.8718, 145.0404], [-37.8834, 145.0635], [-37.8823, 145.0729], [-37.8811, 145.0524], [-37.8672, 145.0432], [-37.8704, 145.0411], [-37.8695, 145.05], [-37.8719, 145.0511], [-37.8805, 145.0668], [-37.8709, 145.0565], [-37.8657, 145.0536], [-37.8764, 145.0463], [-37.875, 145.0861], [-37.8728, 145.0417], [-37.8787, 145.0807], [-37.8713, 145.0515], [-37.8846, 145.087], [-37.8704, 145.0503], [-37.8733, 145.0883], [-37.8704, 145.0495], [-37.8722, 145.067], [-37.8689, 145.06], [-37.8801, 145.0874], [-37.8831, 145.0879], [-37.866, 145.0402], [-37.8804, 145.0501], [-37.8777, 145.0608], [-37.878, 145.0666], [-37.8814, 145.0583], [-37.8847, 145.076], [-37.8752, 145.0817], [-37.8846, 145.0861], [-37.8738, 145.0415], [-37.8767, 145.0469], [-37.8828, 145.0528], [-37.8499, 144.957], [-37.8516, 144.9624], [-37.8477, 144.9607], [-37.8474, 144.9625], [-37.8522, 144.9678], [-37.852, 144.9654], [-37.8468, 144.9612], [-37.8541, 144.9665], [-37.8556, 144.9669], [-37.8507, 144.9591], [-37.8508, 144.9589], [-37.8549, 144.9662], [-37.8518, 144.9663], [-37.8551, 144.968], [-37.8498, 144.9628], [-37.8536, 144.9625], [-37.847, 144.9594], [-37.8513, 144.9586], [-37.8474, 144.9582], [-37.9376, 145.0474], [-37.9375, 145.0474], [-37.9428, 145.044], [-37.9374, 145.0388], [-37.9371, 145.0578], [-37.9368, 145.0568], [-37.9416, 145.058], [-37.9364, 145.0559], [-37.9418, 145.0549], [-37.9404, 145.046], [-37.9386, 145.0585], [-37.9424, 145.0464], [-37.9443, 145.0448], [-37.9378, 145.0385], [-37.9449, 145.0459], [-37.9382, 145.0577], [-37.9412, 145.0465], [-37.9398, 145.0554], [-37.9404, 145.0464], [-37.9426, 145.0568], [-37.9394, 145.0408], [-37.9443, 145.0444], [-37.9412, 145.0491], [-37.9431, 145.0407], [-37.9385, 145.0397], [-37.9435, 145.0522], [-37.9362, 145.0442], [-37.9363, 145.0495], [-37.9381, 145.0534], [-37.9355, 145.0485], [-37.9363, 145.0564], [-37.9431, 145.0484], [-37.939, 145.0533], [-37.9361, 145.0456], [-37.9378, 145.0546], [-37.9429, 145.0474], [-37.9407, 145.0482], [-37.9387, 145.0461], [-37.9369, 145.0578], [-37.9354, 145.0464], [-37.94, 145.0449], [-37.9378, 145.057], [-37.9389, 145.0467], [-37.9411, 145.043], [-37.9392, 145.0481], [-37.9395, 145.0477], [-37.9454, 145.0507], [-37.9374, 145.0542], [-37.9428, 145.0584], [-37.9387, 145.0398], [-37.8405, 144.9319], [-37.836, 144.9419], [-37.8384, 144.923], [-37.8359, 144.9342], [-37.8385, 144.9409], [-37.841, 144.9379], [-37.8424, 144.9449], [-37.8381, 144.9391], [-37.8349, 144.9266], [-37.8408, 144.94], [-37.8399, 144.9287], [-37.8415, 144.9412], [-37.8371, 144.921], [-37.8395, 144.9343], [-37.8327, 144.9474], [-37.8382, 144.9469], [-37.8431, 144.9403], [-37.8329, 144.9375], [-37.8424, 144.9449], [-37.8375, 144.941], [-37.8416, 144.939], [-37.8416, 144.9381], [-37.8404, 144.9391], [-37.8343, 144.9452], [-37.8392, 144.9257], [-37.8393, 144.9336], [-37.8415, 144.9412], [-37.8434, 144.9435], [-37.8351, 144.9441], [-37.8357, 144.9376], [-37.8331, 144.9412], [-37.841, 144.9379], [-37.8407, 144.9383], [-37.8393, 144.947], [-37.8424, 144.9449], [-37.8392, 144.9421], [-37.8352, 144.9458], [-37.8395, 144.9462], [-37.8346, 144.9448], [-37.8435, 144.9415], [-37.8435, 144.9415], [-37.8346, 144.9373], [-37.8392, 144.9257], [-37.8393, 144.9386], [-37.8359, 144.9358], [-37.8431, 144.9403], [-37.8338, 144.9474], [-37.8322, 144.947], [-37.8407, 144.9389], [-37.8381, 144.9329], [-37.835, 144.9373], [-37.8415, 144.9412], [-37.8356, 144.9439], [-37.8407, 144.9424], [-37.8371, 144.9478], [-37.8353, 144.9442], [-37.8332, 144.945], [-37.8382, 144.9272], [-37.8347, 144.9368], [-37.8329, 144.9455], [-37.8361, 144.9403], [-37.8381, 144.9465], [-37.8415, 144.9412], [-37.8348, 144.9443], [-37.84, 144.9275], [-37.8416, 144.939], [-37.8405, 144.9385], [-37.842, 144.9364], [-37.8404, 144.9422], [-37.8369, 144.9183], [-37.84, 144.939], [-37.8356, 144.9436], [-37.8407, 144.9389], [-37.8435, 144.9415], [-37.8436, 144.944], [-37.8398, 144.9404], [-37.8424, 144.9449], [-37.8342, 144.9456], [-37.8399, 144.9287], [-37.8342, 144.9393], [-37.8396, 144.9391], [-37.8329, 144.9463], [-37.8405, 144.9385], [-37.8346, 144.9453], [-37.8363, 144.9336], [-37.8329, 144.942], [-37.8443, 144.9437], [-37.835, 144.9444], [-37.8343, 144.9362], [-37.8405, 144.9319], [-37.8429, 144.9449], [-37.8341, 144.9458], [-37.8366, 144.9225], [-37.8317, 144.9446], [-37.8371, 144.939], [-37.835, 144.943], [-37.8424, 144.9449], [-37.8392, 144.9421], [-37.8426, 144.9398], [-37.8431, 144.9403], [-37.8392, 144.9378], [-37.8373, 144.9397], [-37.8401, 144.943], [-37.835, 144.9442], [-37.85, 145.0085], [-37.8486, 144.9872], [-37.8503, 144.9913], [-37.8511, 145.0029], [-37.8519, 144.9948], [-37.851, 144.988], [-37.857, 145.0027], [-37.8527, 145.0088], [-37.847, 144.9936], [-37.8496, 144.9905], [-37.8516, 144.9943], [-37.8595, 145.0076], [-37.8495, 144.9885], [-37.8486, 144.9872], [-37.8526, 145.0071], [-37.8503, 144.9855], [-37.852, 145.0061], [-37.8512, 145.0053], [-37.8561, 145.0042], [-37.8493, 145.0006], [-37.851, 145.0051], [-37.8531, 145.0063], [-37.8561, 145.0056], [-37.8581, 145.0017], [-37.8526, 145.0033], [-37.8467, 144.9897], [-37.8492, 145.0019], [-37.8509, 144.9954], [-37.8557, 145.0053], [-37.8493, 144.9908], [-37.851, 144.988], [-37.8559, 145.006], [-37.8525, 145.0071], [-37.853, 145.0069], [-37.851, 144.988], [-37.8558, 145.0072], [-37.8529, 145.0098], [-37.8501, 144.9995], [-37.8543, 145.003], [-37.847, 144.9936], [-37.8588, 145.0024], [-37.8592, 145.0054], [-37.8528, 145.0017], [-37.8498, 145.0039], [-37.8506, 144.9919], [-37.8518, 145.0061], [-37.8501, 144.9953], [-37.8501, 144.9953], [-37.8543, 145.0024], [-37.8526, 145.0106], [-37.8481, 144.9869], [-37.8544, 145.0038], [-37.8577, 145.0053], [-37.8513, 144.9943], [-37.8514, 144.9957], [-37.8562, 145.0042], [-37.85, 144.9876], [-37.8572, 145.0066], [-37.8523, 145.0064], [-37.8598, 145.0097], [-37.8493, 144.9873], [-37.8479, 144.9988], [-37.8467, 144.9894], [-37.8476, 144.9892], [-37.8493, 144.9908], [-37.8553, 145.007], [-37.857, 145.0058], [-37.8517, 145.0056], [-37.8584, 145.0017], [-37.8478, 144.9892], [-37.8519, 145.0055], [-37.8494, 145.005], [-37.8341, 144.9713], [-37.8363, 144.9628], [-37.8344, 144.9686], [-37.8355, 144.951], [-37.8332, 144.9548], [-37.8359, 144.9644], [-37.8374, 144.9495], [-37.838, 144.9489], [-37.8365, 144.9631], [-37.8311, 144.9679], [-37.8353, 144.96], [-37.8377, 144.9653], [-37.8373, 144.9493], [-37.8391, 144.9501], [-37.8369, 144.968], [-37.8341, 144.9713], [-37.8329, 144.9529], [-37.8311, 144.9679], [-37.836, 144.965], [-37.8345, 144.9685], [-37.834, 144.9665], [-37.8346, 144.9688], [-37.8346, 144.9673], [-37.8342, 144.9679], [-37.8383, 144.9499], [-37.8369, 144.968], [-37.8389, 144.9612], [-37.8372, 144.9672], [-37.8337, 144.9507], [-37.8363, 144.9509], [-37.8357, 144.9531], [-37.8346, 144.9673], [-37.8308, 144.9694], [-37.8383, 144.9632], [-37.839, 144.948], [-37.8337, 144.966], [-37.8341, 144.9661], [-37.8331, 144.9665], [-37.8335, 144.9611], [-37.8351, 144.9675], [-37.8357, 144.9502], [-37.8369, 144.968], [-37.8341, 144.9541], [-37.8352, 144.952], [-37.8398, 144.9493], [-37.8341, 144.9713], [-37.8319, 144.9682], [-37.8333, 144.9576], [-37.8355, 144.9663], [-37.8331, 144.9683], [-37.8361, 144.9682], [-37.8351, 144.9909], [-37.8393, 144.9886], [-37.8361, 144.9966], [-37.8363, 145.0003], [-37.8391, 144.9984], [-37.8411, 144.9944], [-37.8453, 144.9849], [-37.8393, 144.9886], [-37.8372, 144.9963], [-37.8407, 144.9962], [-37.8392, 144.9947], [-37.8399, 145.0003], [-37.837, 144.9881], [-37.8374, 144.9918], [-37.8379, 144.9913], [-37.8361, 144.9842], [-37.8361, 144.9966], [-37.8357, 144.9867], [-37.8338, 144.9858], [-37.8439, 144.9974], [-37.8421, 144.9978], [-37.8453, 144.9849], [-37.8344, 144.9916], [-37.8394, 144.9886], [-37.8368, 144.9857], [-37.8361, 144.9966], [-37.8334, 144.9867], [-37.8456, 145.0005], [-37.8361, 144.9966], [-37.8426, 144.993], [-37.8414, 144.991], [-37.8423, 144.997], [-37.8416, 144.9923], [-37.8361, 144.9966], [-37.8392, 144.9883], [-37.8314, 144.9877], [-37.8343, 144.9899], [-37.8361, 144.9966], [-37.8421, 144.9876], [-37.8377, 145.0021], [-37.8405, 145.0025], [-37.8404, 145.0045], [-37.8376, 144.9847], [-37.8376, 144.9847], [-37.8359, 144.9839], [-37.8359, 144.9921], [-37.842, 144.9873], [-37.8425, 145.0009], [-37.8357, 144.991], [-37.8415, 144.991], [-37.8406, 145.0033], [-37.8332, 144.9901], [-37.8408, 144.9977], [-37.8407, 145.0043], [-37.8356, 144.9773], [-37.8377, 144.9894], [-37.8422, 144.9884], [-37.8375, 145.0012], [-37.8361, 144.9831], [-37.8451, 145.0019], [-37.8359, 144.9801], [-37.8374, 144.9871], [-37.8339, 144.9872], [-37.8444, 145.0037], [-37.8403, 144.9893], [-37.8407, 145.004], [-37.8407, 145.0043], [-37.837, 144.9931], [-37.8437, 144.9904], [-37.8374, 144.9871], [-37.8406, 145.0035], [-37.8402, 145.0029], [-37.844, 144.9867], [-37.845, 145.0012], [-37.8343, 144.9888], [-37.8342, 144.9842], [-37.8383, 145.0014], [-37.8383, 145.0011], [-37.8376, 145.0012], [-37.8416, 144.9959], [-37.836, 144.9824], [-37.8384, 144.9886], [-37.8433, 144.9962], [-37.8453, 144.9849], [-37.8361, 144.9921], [-37.8336, 144.9882], [-37.8472, 145.0026], [-37.8428, 144.991], [-37.8458, 145.0034], [-37.8344, 144.9857], [-37.8366, 144.9827], [-37.8437, 144.9904], [-37.8432, 144.9906], [-37.84, 144.9988], [-37.8355, 144.9884], [-37.8442, 144.9928], [-37.8328, 144.9866], [-37.8368, 144.9848], [-37.8356, 144.9767], [-37.8374, 144.9903], [-37.8425, 144.9877], [-37.8395, 144.9898], [-37.8395, 144.9868], [-37.8406, 145.0035], [-37.8446, 144.9896], [-37.835, 145.0002], [-37.8319, 144.9876], [-37.8436, 144.9925], [-37.8427, 145.0006], [-37.8454, 144.9888], [-37.8361, 144.9966], [-37.8433, 145.0001], [-37.8336, 144.9882], [-37.837, 144.9907], [-37.8418, 144.986], [-37.8423, 144.997], [-37.838, 145.0011], [-37.8323, 144.9876], [-37.8361, 144.9966], [-37.8361, 144.9966], [-37.8436, 144.9925], [-37.8337, 144.9886], [-37.8414, 145.0043], [-37.845, 145.0001], [-37.835, 144.9905], [-37.8454, 144.9989], [-37.8425, 145.0031], [-37.8404, 145.0022], [-37.8406, 144.9864], [-37.8422, 144.9884], [-37.8337, 144.9886], [-37.8437, 144.9852], [-37.8446, 144.9879], [-37.8448, 144.9882], [-37.8342, 144.9842], [-37.8357, 144.9859], [-37.8374, 144.9852], [-37.8334, 144.9867], [-37.8453, 145.0012], [-37.8421, 144.9978], [-37.8352, 144.9922], [-37.8235, 144.9655], [-37.8301, 144.9697], [-37.8267, 144.9687], [-37.8235, 144.9655], [-37.8246, 144.9632], [-37.8273, 144.9556], [-37.8267, 144.9687], [-37.828, 144.9683], [-37.8227, 144.9664], [-37.828, 144.9683], [-37.8295, 144.9692], [-37.8228, 144.9661], [-37.8255, 144.9665], [-37.8288, 144.9679], [-37.8267, 144.9687], [-37.8256, 144.9622], [-37.8255, 144.9665], [-37.8245, 144.9622], [-37.8297, 144.9499], [-37.828, 144.9683], [-37.8226, 144.9667], [-37.8299, 144.9496], [-37.8288, 144.9679], [-37.8299, 144.9679], [-37.8295, 144.9692], [-37.8229, 144.9612], [-37.822, 144.9637], [-37.8274, 144.9587], [-37.8273, 144.9685], [-37.8679, 144.9813], [-37.8656, 144.9782], [-37.8675, 144.9851], [-37.8715, 144.9827], [-37.8707, 144.9765], [-37.8573, 144.9825], [-37.8616, 144.9907], [-37.8618, 144.982], [-37.859, 144.9767], [-37.8656, 144.9782], [-37.8645, 144.9805], [-37.8667, 144.9832], [-37.861, 144.9819], [-37.8646, 144.9786], [-37.8725, 144.979], [-37.8641, 144.9739], [-37.8571, 144.987], [-37.8568, 144.9873], [-37.863, 144.9747], [-37.8676, 144.9834], [-37.8573, 144.9825], [-37.867, 144.991], [-37.861, 144.9915], [-37.8605, 144.9769], [-37.8571, 144.987], [-37.8731, 144.9799], [-37.8624, 144.9768], [-37.8619, 144.9802], [-37.8585, 144.9852], [-37.8568, 144.9873], [-37.8621, 144.9823], [-37.8585, 144.9852], [-37.8717, 144.9829], [-37.8658, 144.9766], [-37.8568, 144.9873], [-37.8722, 144.9805], [-37.8589, 144.9883], [-37.8614, 144.9741], [-37.8726, 144.9782], [-37.8605, 144.9834], [-37.859, 144.9767], [-37.8668, 144.9801], [-37.8591, 144.979], [-37.8579, 144.981], [-37.8661, 144.9772], [-37.8612, 144.9804], [-37.8599, 144.9766], [-37.8616, 144.9807], [-37.8681, 144.9844], [-37.8653, 144.9824], [-37.8604, 144.9817], [-37.8682, 144.9782], [-37.8709, 144.9807], [-37.8653, 144.9824], [-37.8619, 144.976], [-37.8659, 144.9887], [-37.8656, 144.9851], [-37.8642, 144.9814], [-37.8594, 144.9828], [-37.8617, 144.9796], [-37.8627, 144.9912], [-37.8587, 144.9797], [-37.8584, 144.9802], [-37.8596, 144.9889], [-37.8638, 144.982], [-37.8676, 144.9901], [-37.8619, 144.9771], [-37.8716, 144.9828], [-37.8706, 144.9821], [-37.8562, 144.9848], [-37.869, 144.9826], [-37.8635, 144.9857], [-37.8647, 144.9819], [-37.8731, 144.9799], [-37.8641, 144.9866], [-37.8585, 144.9854], [-37.8665, 144.9833], [-37.8648, 144.9783], [-37.8562, 144.9844], [-37.865, 144.9761], [-37.861, 144.9891], [-37.8722, 144.98], [-37.8582, 144.9913], [-37.8644, 144.9741], [-37.8674, 144.9839], [-37.865, 144.9804], [-37.859, 144.9792], [-37.8612, 144.985], [-37.8614, 144.9793], [-37.8654, 144.9809], [-37.8562, 144.9844], [-37.8631, 144.9749], [-37.8645, 144.9749], [-37.8735, 144.9798], [-37.8681, 144.9894], [-37.8584, 144.9802], [-37.8625, 144.9888], [-37.8686, 144.9812], [-37.8646, 144.98], [-37.8629, 144.9887], [-37.8562, 144.9844], [-37.8663, 144.9882], [-37.8642, 144.9793], [-37.859, 144.9767], [-37.8724, 144.9767], [-37.8718, 144.9776], [-37.8612, 144.985], [-37.8571, 144.987], [-37.8568, 144.9873], [-37.8626, 144.9818], [-37.859, 144.9767], [-37.8677, 144.984], [-37.8695, 144.9763], [-37.8714, 144.9802], [-37.8591, 144.979], [-37.8573, 144.9825], [-37.861, 144.9891], [-37.8699, 144.9764], [-37.8601, 144.9898], [-37.8569, 144.9885], [-37.8154, 145.0927], [-37.8332, 145.1105], [-37.8239, 145.0969], [-37.822, 145.0897], [-37.8175, 145.0987], [-37.8275, 145.0958], [-37.8289, 145.1005], [-37.8344, 145.1114], [-37.8356, 145.1029], [-37.8327, 145.106], [-37.8322, 145.1056], [-37.8148, 145.0965], [-37.8181, 145.0913], [-37.8203, 145.088], [-37.8364, 145.1099], [-37.8286, 145.092], [-37.8287, 145.1022], [-37.8275, 145.0919], [-37.8223, 145.0954], [-37.8185, 145.0878], [-37.8258, 145.1116], [-37.8346, 145.1059], [-37.8325, 145.1114], [-37.8159, 145.091], [-37.8337, 145.1118], [-37.8203, 145.0881], [-37.8304, 145.0934], [-37.8167, 145.0924], [-37.8269, 145.1039], [-37.8317, 145.0901], [-37.8287, 145.1054], [-37.8287, 145.1014], [-37.8339, 145.0937], [-37.832, 145.11], [-37.8224, 145.0959], [-37.8255, 145.092], [-37.8354, 145.1001], [-37.8288, 145.1048], [-37.8234, 145.0923], [-37.8203, 145.0955], [-37.8316, 145.1049], [-37.8291, 145.1015], [-37.8345, 145.1009], [-37.8188, 145.0984], [-37.8286, 145.1094], [-37.836, 145.1046], [-37.822, 145.0989], [-37.8323, 145.0904], [-37.819, 145.0888], [-37.8361, 145.1078], [-37.8263, 145.0962], [-37.8299, 145.1088], [-37.8312, 145.0928], [-37.8308, 145.0916], [-37.8305, 145.0961], [-37.8138, 145.0879], [-37.8173, 145.1003], [-37.8345, 145.095], [-37.8261, 145.0902], [-37.8285, 145.1079], [-37.8352, 145.1023], [-37.8165, 145.0981], [-37.8302, 145.1046], [-37.8275, 145.1032], [-37.8365, 145.11], [-37.8324, 145.1018], [-37.8327, 145.1019], [-37.8264, 145.1029], [-37.8182, 145.096], [-37.8138, 145.0879], [-37.8141, 145.0936], [-37.8159, 145.0902], [-37.8204, 145.0887], [-37.8168, 145.1011], [-37.8276, 145.1023], [-37.8361, 145.1006], [-37.8309, 145.0946], [-37.8328, 145.104], [-37.8294, 145.0913], [-37.8171, 145.0934], [-37.8186, 145.0892], [-37.8176, 145.0941], [-37.8174, 145.0893], [-37.8328, 145.0065], [-37.8431, 145.021], [-37.8384, 145.0178], [-37.8435, 145.0043], [-37.8486, 145.008], [-37.8498, 145.0173], [-37.8447, 145.0134], [-37.8475, 145.0086], [-37.8448, 145.0055], [-37.8424, 145.0184], [-37.8429, 145.0227], [-37.8473, 145.0053], [-37.8384, 145.0178], [-37.8371, 145.0066], [-37.8474, 145.0078], [-37.8369, 145.0077], [-37.8366, 145.0114], [-37.8501, 145.0199], [-37.8392, 145.008], [-37.8414, 145.0137], [-37.8338, 145.0086], [-37.8438, 145.0303], [-37.8492, 145.0163], [-37.8501, 145.0199], [-37.8428, 145.0171], [-37.8332, 145.0117], [-37.842, 145.0046], [-37.838, 145.0054], [-37.8503, 145.0292], [-37.8373, 145.0116], [-37.8428, 145.0081], [-37.8439, 145.0093], [-37.844, 145.005], [-37.8486, 145.0244], [-37.8349, 145.01], [-37.8507, 145.0298], [-37.8373, 145.0116], [-37.8343, 145.0112], [-37.8512, 145.0282], [-37.8414, 145.0137], [-37.8474, 145.0078], [-37.8493, 145.0134], [-37.8425, 145.0252], [-37.8474, 145.0063], [-37.8371, 145.012], [-37.8424, 145.0184], [-37.8498, 145.0173], [-37.8464, 145.0074], [-37.8398, 145.0305], [-37.8369, 145.0072], [-37.8367, 145.0076], [-37.8485, 145.0169], [-37.8432, 145.0206], [-37.8458, 145.0221], [-37.8448, 145.0123], [-37.8361, 145.023], [-37.847, 145.0064], [-37.8416, 145.0313], [-37.8464, 145.0142], [-37.8373, 145.0116], [-37.8414, 145.0137], [-37.8424, 145.0184], [-37.8428, 145.0216], [-37.842, 145.0046], [-37.8375, 145.0092], [-37.8424, 145.0184], [-37.8445, 145.0182], [-37.8458, 145.0221], [-37.8475, 145.008], [-37.8427, 145.0242], [-37.8558, 144.9903], [-37.8546, 144.9865], [-37.8565, 144.998], [-37.8528, 144.9994], [-37.855, 144.9961], [-37.8559, 144.9948], [-37.8564, 144.9971], [-37.8581, 144.9972], [-37.8577, 145.0002], [-37.8564, 145.0016], [-37.8535, 144.9952], [-37.8556, 144.995], [-37.856, 144.9891], [-37.8574, 145.0], [-37.8533, 144.9986], [-37.8568, 145.0004], [-37.8552, 145.0005], [-37.8584, 144.9994], [-37.8573, 144.9987], [-37.8554, 144.9982], [-37.8571, 144.9979], [-37.8555, 145.0018], [-37.8543, 144.9939], [-37.8549, 144.9948], [-37.8559, 144.999], [-37.8518, 144.9868], [-37.8526, 144.9977], [-37.8563, 144.9916], [-37.8556, 144.9977], [-37.8556, 144.9977], [-37.8572, 144.9974], [-37.8554, 145.0018], [-37.8547, 144.9959], [-37.8533, 144.9881], [-37.8547, 144.9995], [-37.8549, 145.0006], [-37.8574, 145.0006], [-37.8533, 144.9913], [-37.8554, 145.0001], [-37.8565, 145.0011], [-37.8585, 145.0004], [-37.8552, 145.0005], [-37.8522, 144.986], [-37.8525, 144.9881], [-37.8249, 145.0532], [-37.8198, 145.0465], [-37.8226, 145.055], [-37.8245, 145.0527], [-37.8293, 145.0456], [-37.8404, 145.0516], [-37.8308, 145.0508], [-37.8269, 145.0496], [-37.825, 145.0536], [-37.8348, 145.0453], [-37.8205, 145.0585], [-37.8396, 145.0514], [-37.8305, 145.0475], [-37.8301, 145.0475], [-37.8302, 145.0525], [-37.8298, 145.0537], [-37.826, 145.0498], [-37.8318, 145.0448], [-37.8267, 145.0538], [-37.8337, 145.0469], [-37.8322, 145.0486], [-37.8435, 145.0497], [-37.8278, 145.0565], [-37.8187, 145.0577], [-37.8339, 145.055], [-37.8222, 145.0566], [-37.8374, 145.0486], [-37.8303, 145.046], [-37.8254, 145.047], [-37.8233, 145.0575], [-37.8223, 145.0494], [-37.8332, 145.0461], [-37.8348, 145.0503], [-37.8341, 145.0528], [-37.8414, 145.0505], [-37.8239, 145.0553], [-37.8235, 145.0525], [-37.8337, 145.0504], [-37.8339, 145.0548], [-37.8356, 145.0519], [-37.8345, 145.0443], [-37.8265, 145.0484], [-37.8269, 145.0496], [-37.8165, 145.0505], [-37.844, 145.0496], [-37.8284, 145.0535], [-37.8395, 145.0529], [-37.8245, 145.0524], [-37.8245, 145.0527], [-37.8292, 145.046], [-37.8302, 145.0542], [-37.8257, 145.0514], [-37.8397, 145.0514], [-37.8307, 145.0498], [-37.8451, 145.0525], [-37.8319, 145.0503], [-37.8377, 145.0541], [-37.8267, 145.054], [-37.8231, 145.0535], [-37.8254, 145.0476], [-37.8437, 145.0536], [-37.8176, 145.0548], [-37.8204, 145.0516], [-37.8373, 145.0455], [-37.8227, 145.0528], [-37.8219, 145.0556], [-37.8343, 145.0547], [-37.8234, 145.0526], [-37.839, 145.0459], [-37.8414, 145.0505], [-37.8318, 145.0448], [-37.8225, 145.0551], [-37.8338, 145.0545], [-37.8351, 145.0554], [-37.8266, 145.0493], [-37.8456, 145.0495], [-37.8267, 145.0476], [-37.8191, 145.0552], [-37.8204, 145.0489], [-37.8958, 145.0696], [-37.8918, 145.0769], [-37.8868, 145.0688], [-37.9043, 145.0622], [-37.9017, 145.0739], [-37.8968, 145.075], [-37.8927, 145.0691], [-37.8955, 145.073], [-37.8936, 145.0709], [-37.9027, 145.0684], [-37.8936, 145.0725], [-37.898, 145.0734], [-37.8991, 145.0686], [-37.8875, 145.0676], [-37.8959, 145.0736], [-37.8882, 145.0666], [-37.8996, 145.0716], [-37.8969, 145.0654], [-37.8887, 145.0718], [-37.8932, 145.0681], [-37.8956, 145.0705], [-37.898, 145.0759], [-37.8961, 145.0651], [-37.8888, 145.0743], [-37.8944, 145.0733], [-37.8955, 145.0742], [-37.8939, 145.0715], [-37.9055, 145.0691], [-37.8966, 145.0737], [-37.8969, 145.0654], [-37.9033, 145.0727], [-37.8882, 145.0666], [-37.8885, 145.0726], [-37.906, 145.074], [-37.8929, 145.0765], [-37.8894, 145.0679], [-37.9012, 145.0646], [-37.902, 145.0705], [-37.8979, 145.0652], [-37.895, 145.0749], [-37.9031, 145.0668], [-37.8943, 145.0689], [-37.8916, 145.0753], [-37.8941, 145.0655], [-37.8897, 145.0709], [-37.8947, 145.0722], [-37.8904, 145.0729], [-37.8986, 145.0359], [-37.9062, 145.0263], [-37.9035, 145.028], [-37.9071, 145.046], [-37.9028, 145.0475], [-37.9032, 145.0455], [-37.9058, 145.028], [-37.9063, 145.0535], [-37.9066, 145.0354], [-37.9064, 145.0287], [-37.9065, 145.0461], [-37.906, 145.04], [-37.9063, 145.0493], [-37.906, 145.0497], [-37.9056, 145.0288], [-37.9088, 145.0471], [-37.9016, 145.0414], [-37.9061, 145.0329], [-37.903, 145.0285], [-37.9009, 145.037], [-37.9018, 145.0454], [-37.9018, 145.0477], [-37.9001, 145.0428], [-37.9036, 145.0521], [-37.9026, 145.0364], [-37.9045, 145.0426], [-37.8981, 145.0367], [-37.9061, 145.0509], [-37.9047, 145.0274], [-37.905, 145.029], [-37.9069, 145.041], [-37.8993, 145.0447], [-37.9038, 145.0454], [-37.9032, 145.049], [-37.9064, 145.0291], [-37.9028, 145.0426], [-37.9033, 145.0296], [-37.8986, 145.042], [-37.9062, 145.027], [-37.9061, 145.0478], [-37.9092, 145.0507], [-37.9071, 145.0439], [-37.9048, 145.0418], [-37.903, 145.0452], [-37.9016, 145.0414], [-37.903, 145.0452], [-37.9021, 145.0357], [-37.9043, 145.0358], [-37.9016, 145.0414], [-37.9024, 145.0539], [-37.9011, 145.0474], [-37.9021, 145.0417], [-37.9061, 145.0366], [-37.9031, 145.0444], [-37.9014, 145.0418], [-37.8878, 145.0407], [-37.8878, 145.0456], [-37.8904, 145.0387], [-37.8925, 145.0456], [-37.8924, 145.0409], [-37.8868, 145.0408], [-37.8915, 145.0451], [-37.8877, 145.0449], [-37.8866, 145.0396], [-37.8921, 145.0381], [-37.8894, 145.0431], [-37.8866, 145.0396], [-37.8966, 145.0453], [-37.9001, 145.0981], [-37.8994, 145.0955], [-37.8991, 145.0939], [-37.9033, 145.1006], [-37.8961, 145.1046], [-37.8923, 145.1013], [-37.9086, 145.0977], [-37.8956, 145.0928], [-37.91, 145.0914], [-37.8968, 145.0983], [-37.9055, 145.1024], [-37.9028, 145.0971], [-37.9109, 145.0995], [-37.8951, 145.101], [-37.9107, 145.0975], [-37.9002, 145.099], [-37.9024, 145.1008], [-37.8964, 145.0977], [-37.9023, 145.105], [-37.9058, 145.1043], [-37.9001, 145.1009], [-37.9087, 145.0886], [-37.8952, 145.1021], [-37.9066, 145.088], [-37.8966, 145.0979], [-37.8973, 145.0979], [-37.9008, 145.098], [-37.8794, 144.9947], [-37.8804, 144.9969], [-37.8797, 144.9954], [-37.8756, 144.9934], [-37.8813, 144.9964], [-37.8754, 144.9944], [-37.8788, 144.9974], [-37.8133, 144.9433], [-37.8141, 144.9387], [-37.8249, 144.9476], [-37.8815, 145.0491], [-37.885, 145.0466], [-37.8852, 145.0462], [-37.8868, 145.0462], [-37.884, 145.0447], [-37.8982, 145.0121], [-37.8971, 145.0093], [-37.8971, 145.0093], [-37.8994, 145.0101], [-37.8988, 145.0098], [-37.8473, 144.9495], [-37.8487, 144.9511], [-37.8453, 144.949], [-37.8426, 144.9563], [-37.8441, 144.9522], [-37.8436, 144.9558], [-37.8459, 144.9574], [-37.8473, 144.955], [-37.8435, 144.9538], [-37.8441, 144.9598], [-37.8445, 144.9489], [-37.8545, 145.0219], [-37.8532, 145.0259], [-37.8624, 145.0223], [-37.8544, 145.0164], [-37.851, 145.0156], [-37.8606, 145.0209], [-37.8603, 145.0224], [-37.8611, 145.0174], [-37.8536, 145.0263], [-37.8531, 145.0115], [-37.8683, 145.1064], [-37.8696, 145.1111], [-37.8677, 145.0981], [-37.871, 145.0994], [-37.8625, 145.1083], [-37.7926, 145.0842], [-37.8016, 145.1013], [-37.7848, 145.0788], [-37.7862, 145.0739], [-37.789, 145.0938], [-37.7897, 145.0922], [-37.785, 145.0961], [-37.7939, 145.0866], [-37.7827, 145.0945], [-37.9257, 145.0469], [-37.9318, 145.0448], [-37.925, 145.0467], [-37.9193, 145.033], [-37.9243, 145.0497], [-37.9329, 145.0393], [-37.9156, 145.0355], [-37.9284, 145.0428], [-37.9166, 145.0418], [-37.9317, 145.0463], [-37.9317, 145.0427], [-37.9323, 145.0445], [-37.9179, 145.0429], [-37.9302, 145.0331], [-37.9321, 145.0361], [-37.9145, 145.0287], [-37.9296, 145.0498], [-37.9107, 145.0745], [-37.9331, 145.0586], [-37.9292, 145.0689], [-37.9229, 145.0538], [-37.9228, 145.0555], [-37.9092, 145.0728], [-37.911, 145.075], [-37.9127, 145.0694], [-37.9167, 145.077], [-37.9311, 145.0651], [-37.9199, 145.0573], [-37.919, 145.0803], [-37.9316, 145.0806], [-37.911, 145.0711], [-37.9219, 145.0518], [-37.9211, 145.0671], [-37.9317, 145.0524], [-37.9194, 145.057], [-37.9297, 145.0563], [-37.9076, 145.068], [-37.9133, 145.0719], [-37.9362, 145.0663], [-37.894, 144.9977], [-37.9104, 144.9999], [-37.9164, 144.9974], [-37.902, 144.9922], [-37.911, 144.9866], [-37.8993, 145.0046], [-37.8981, 144.9902], [-37.928, 145.0002], [-37.9181, 144.9933], [-37.8868, 144.9968], [-37.8847, 144.9972], [-37.8981, 145.0], [-37.9043, 145.0048], [-37.9049, 144.9969], [-37.8953, 144.9974], [-37.9037, 144.9926], [-37.921, 144.9999], [-37.901, 145.0026], [-37.9056, 144.9893], [-37.9107, 145.0077], [-37.9163, 144.9901], [-37.9099, 144.9899], [-37.8985, 145.0048], [-37.9319, 145.0282], [-37.9173, 145.0142], [-37.9113, 145.0207], [-37.9126, 145.0105], [-37.9212, 145.013], [-37.9064, 145.0229], [-37.9097, 145.0161], [-37.9287, 145.0273], [-37.9119, 145.011], [-37.9304, 145.0151], [-37.9012, 145.008], [-37.9295, 145.0144], [-37.9057, 145.0101], [-37.9084, 145.0118], [-37.8493, 145.1283], [-37.8528, 145.1318], [-37.8495, 145.0999], [-37.8463, 145.1071], [-37.8445, 145.1005], [-37.8512, 145.1145], [-37.8592, 145.0948], [-37.8518, 145.1278], [-37.8603, 145.0979], [-37.8499, 145.1306], [-37.8539, 145.1127], [-37.8557, 145.1285], [-37.8405, 145.0924], [-37.8446, 145.0735], [-37.8378, 145.089], [-37.8411, 145.062], [-37.8442, 145.0942], [-37.8434, 145.0675], [-37.8355, 145.0665], [-37.8427, 145.0824], [-37.8378, 145.0909], [-37.8269, 145.0661], [-37.8416, 145.0959], [-37.8418, 145.0916], [-37.845, 145.071], [-37.8333, 145.0616], [-37.823, 145.0621], [-37.8284, 145.0673], [-37.8304, 145.0709], [-37.8417, 145.097], [-37.8378, 145.0949], [-37.8192, 145.067], [-37.8322, 145.0816], [-37.8214, 145.0843], [-37.8179, 145.0694], [-37.8178, 145.0649], [-37.8203, 145.0785], [-37.8898, 145.0632], [-37.8981, 145.0619], [-37.8972, 145.0524], [-37.8875, 145.0489], [-37.8858, 145.0632], [-37.8993, 145.0531], [-37.8924, 145.0541], [-37.8958, 145.0603], [-37.8912, 145.0644], [-37.9027, 145.0582], [-37.8928, 145.0531], [-37.8944, 145.0616], [-37.8866, 145.0561], [-37.8883, 145.0342], [-37.8678, 145.0197], [-37.8663, 145.0104], [-37.8806, 145.0346], [-37.8738, 145.0349], [-37.8781, 145.0235], [-37.8692, 145.0233], [-37.8607, 145.0116], [-37.8924, 145.0154], [-37.8989, 145.0171], [-37.8937, 145.0137], [-37.8899, 145.023], [-37.8895, 145.0229], [-37.8906, 145.0259], [-37.8856, 145.0934], [-37.886, 145.096], [-37.8755, 145.0954], [-37.8827, 145.0942], [-37.8911, 145.0451], [-37.8898, 145.0438], [-37.854, 145.0542], [-37.8558, 145.0518], [-37.8562, 145.0864], [-37.8574, 145.0494], [-37.8508, 145.0592], [-37.8578, 145.0682], [-37.858, 145.0859], [-37.8521, 145.0763], [-37.8541, 145.0738], [-37.8605, 145.0455], [-37.8487, 145.0592], [-37.8637, 145.0632], [-37.8499, 145.0814], [-37.8644, 145.063], [-37.9462, 145.0193], [-37.9346, 145.0049], [-37.9449, 145.0167], [-37.9453, 145.0176], [-37.9338, 145.0143], [-37.9365, 145.0008], [-37.9436, 145.0169], [-37.9427, 145.0052], [-37.9449, 145.02], [-37.9354, 144.9994], [-37.9411, 145.0011], [-37.9358, 144.9996], [-37.8139, 145.0243], [-37.8194, 145.0397], [-37.8159, 145.0194], [-37.8294, 145.033], [-37.8261, 145.0269], [-37.826, 145.0239], [-37.8198, 145.0373], [-37.8254, 145.0255], [-37.8143, 145.0319], [-37.8163, 145.0251], [-37.8292, 145.0322], [-37.8255, 145.029], [-37.8162, 145.0206], [-37.8173, 145.0246], [-37.8287, 145.0419], [-37.8288, 145.0398], [-37.8237, 145.0311], [-37.832, 145.0431], [-37.8395, 145.0534], [-37.8414, 145.0505], [-37.8259, 145.0483], [-37.8302, 145.0527], [-37.8315, 145.0559], [-37.8227, 145.0528], [-37.8309, 145.0451], [-37.8355, 145.044], [-37.8374, 145.0511], [-37.8343, 145.0488], [-37.8368, 145.0508], [-37.8372, 145.0433], [-37.8255, 145.0481], [-37.8256, 145.0486], [-37.8307, 145.0493], [-37.8362, 145.0543], [-37.8254, 145.0474], [-37.8244, 145.0517], [-37.9031, 145.0804], [-37.8919, 145.0781], [-37.8938, 145.0785], [-37.9021, 145.0837], [-37.9087, 145.0799], [-37.8064, 145.0451], [-37.7977, 145.0333], [-37.794, 145.033], [-37.7941, 145.0238], [-37.8083, 145.0382], [-37.8127, 145.0451], [-37.8147, 145.0571], [-37.8013, 145.028], [-37.805, 145.0546], [-37.8144, 145.0358], [-37.7993, 145.0451], [-37.8101, 145.0464], [-37.8018, 145.0376], [-37.7944, 145.0327], [-37.8022, 145.035], [-37.7974, 145.0526], [-37.7927, 145.056], [-37.7864, 145.0631], [-37.8691, 145.0345], [-37.8486, 145.0321], [-37.8515, 145.0372], [-37.8654, 145.0297], [-37.8636, 145.0301], [-37.883, 145.0791], [-37.8693, 145.0423], [-37.8757, 145.066], [-37.8779, 145.0873], [-37.8914, 145.0842], [-37.8723, 145.0387], [-37.8718, 145.0526], [-37.8806, 145.0831], [-37.8792, 145.0869], [-37.873, 145.0664], [-37.8784, 145.0654], [-37.873, 145.0665], [-37.8879, 145.0768], [-37.8949, 145.072], [-37.8953, 145.0731], [-37.8892, 145.0664], [-37.9025, 145.066], [-37.9059, 145.0733], [-37.8913, 145.0673], [-37.8867, 145.0699], [-37.8999, 145.0643], [-37.8882, 145.0666], [-37.8907, 145.0761], [-37.8952, 145.0928], [-37.91, 145.096], [-37.8946, 145.0944], [-37.9098, 145.097], [-37.9066, 145.0869], [-37.9067, 145.0921], [-37.895, 145.1014], [-37.8999, 145.0993], [-37.898, 145.0928], [-37.9067, 145.053], [-37.908, 145.0502], [-37.9023, 145.0461], [-37.9034, 145.0409], [-37.9051, 145.0473], [-37.9084, 145.0532], [-37.9032, 145.0455], [-37.8368, 144.9463], [-37.8415, 144.9412], [-37.8366, 144.923], [-37.84, 144.939], [-37.8323, 144.9463], [-37.841, 144.9386], [-37.8392, 144.9257], [-37.842, 144.9413], [-37.8427, 144.9378], [-37.8444, 144.9421], [-37.8346, 144.9358], [-37.833, 144.9377], [-37.8443, 144.9442], [-37.8424, 144.9449], [-37.851, 145.0055], [-37.8551, 145.0058], [-37.8516, 144.9943], [-37.8513, 144.9943], [-37.8542, 145.0024], [-37.8529, 145.0103], [-37.8597, 145.0093], [-37.8538, 145.0088], [-37.8508, 144.9874], [-37.8489, 144.9903], [-37.8508, 145.0051], [-37.859, 145.0038], [-37.8519, 144.9948], [-37.849, 145.0088], [-37.8395, 144.9489], [-37.8373, 144.9527], [-37.8344, 144.9581], [-37.8353, 144.9599], [-37.8351, 144.964], [-37.8365, 144.9497], [-37.837, 144.9585], [-37.8355, 144.9675], [-37.8309, 144.9686], [-37.836, 144.9638], [-37.8319, 144.9682], [-37.8398, 144.9945], [-37.8361, 144.9966], [-37.8361, 144.9966], [-37.8378, 144.9883], [-37.8452, 145.0001], [-37.8454, 144.9891], [-37.8406, 145.0035], [-37.836, 144.9782], [-37.837, 144.9907], [-37.8422, 144.9855], [-37.8366, 144.9882], [-37.8433, 145.0024], [-37.8471, 145.0019], [-37.8428, 144.9877], [-37.8424, 144.9867], [-37.8361, 144.9966], [-37.8383, 144.9995], [-37.8354, 144.984], [-37.8446, 144.9844], [-37.8447, 145.0037], [-37.8585, 144.983], [-37.8644, 144.9741], [-37.8607, 144.9873], [-37.8709, 144.9807], [-37.8585, 144.9884], [-37.8661, 144.9802], [-37.8636, 144.9749], [-37.8658, 144.9774], [-37.8658, 144.9795], [-37.859, 144.9816], [-37.8635, 144.991], [-37.8718, 144.9767], [-37.8624, 144.9823], [-37.8623, 144.9772], [-37.8579, 144.9844], [-37.857, 144.9867], [-37.8729, 144.9794], [-37.8271, 145.1032], [-37.8351, 145.103], [-37.8323, 145.105], [-37.8201, 145.0887], [-37.818, 145.0946], [-37.823, 145.0993], [-37.8292, 145.1053], [-37.8327, 145.0976], [-37.8176, 145.0882], [-37.8263, 145.0911], [-37.8689, 145.0882], [-37.866, 145.089], [-37.8726, 145.0716], [-37.8686, 145.0721], [-37.8635, 145.0895], [-37.8021, 145.0637], [-37.8078, 145.1031], [-37.8114, 145.0793], [-37.8101, 145.0844], [-37.8822, 144.9994], [-37.8857, 145.0011], [-37.8881, 145.0097], [-37.892, 145.0103], [-37.886, 145.0008], [-37.8817, 145.0032], [-37.8795, 144.98], [-37.8865, 144.9874], [-37.8888, 144.991], [-37.8794, 144.9804], [-37.8749, 144.9799], [-37.8805, 144.9933], [-37.8753, 144.9902], [-37.8772, 144.9904], [-37.8777, 144.9915], [-37.8857, 144.9884], [-37.8777, 144.9891], [-37.8852, 144.9877], [-37.8447, 144.9604], [-37.8468, 144.9612], [-37.8527, 144.9657], [-37.8471, 144.9595], [-37.8484, 144.963], [-37.8496, 144.963], [-37.9396, 145.0519], [-37.9432, 145.0462], [-37.9369, 145.0473], [-37.9409, 145.0602], [-37.8242, 144.9626], [-37.8288, 144.9679], [-37.8273, 144.9685], [-37.8248, 144.9667], [-37.8373, 145.0106], [-37.8428, 145.0081], [-37.8389, 145.0141], [-37.8384, 145.0178], [-37.8427, 145.0236], [-37.8454, 145.0076], [-37.8445, 145.0124], [-37.845, 145.0134], [-37.8432, 145.0137], [-37.8421, 145.0104], [-37.8474, 145.0125], [-37.8421, 145.0237], [-37.8359, 145.0126], [-37.8559, 144.999], [-37.8573, 144.9978], [-37.8582, 144.9979], [-37.8556, 144.9885], [-37.8508, 144.984], [-37.8656, 144.9919], [-37.8757, 144.998], [-37.8686, 144.9969], [-37.8481, 144.9566], [-37.85311, 145.02847], [-37.87257, 145.09782], [-37.80156, 145.06715], [-37.79888, 145.06649], [-37.79362, 145.0652], [-37.79495, 145.08192], [-37.98139, 145.05251], [-37.98713, 145.04887], [-37.98942, 145.03394], [-37.92487, 145.04703], [-37.92999, 145.04932], [-37.93228, 145.07026], [-37.90876, 145.00743], [-37.88468, 144.99722], [-37.92615, 145.00282], [-37.91503, 145.00888], [-37.84716, 145.07351], [-37.83202, 145.06095], [-37.84689, 145.05863], [-37.82091, 145.06011], [-37.89565, 145.0234], [-37.96763, 145.07898], [-37.96062, 145.04296], [-37.97143, 145.05219], [-37.95629, 145.06031], [-37.86231, 145.07213], [-37.85399, 145.04699], [-37.85546, 145.04998], [-37.93464, 144.99601], [-37.93433, 145.02984], [-37.81333, 145.01932], [-37.82987, 145.03421], [-37.83032, 145.03899], [-37.81931, 145.04107], [-37.82824, 145.03137], [-37.94887, 145.02647], [-37.90415, 145.10504], [-37.79719, 145.03177], [-37.7972, 145.05225], [-37.86996, 145.05621], [-37.9379, 145.05456], [-37.90119, 145.1068], [-37.909, 145.12059], [-37.90164, 145.04139], [-37.90286, 145.04772], [-37.84007, 144.94129], [-37.83591, 144.93648], [-37.83933, 144.93771], [-37.85279, 145.00811], [-37.85417, 145.00929], [-37.95236, 145.00737], [-37.83613, 144.99661], [-37.84369, 144.98914], [-37.84024, 145.00039], [-37.8614, 144.97407], [-37.87174, 144.98286], [-37.85954, 144.98869], [-37.86476, 144.97826], [-37.85709, 144.9873], [-37.83729, 145.10929], [-37.82886, 145.10093], [-37.83195, 145.01215], [-37.84583, 144.95658], [-37.84763, 144.95175], [-37.84152, 144.95027], [-37.84396, 144.95659], [-37.84098, 144.95115], [-37.85385, 145.0284], [-37.85911, 145.01783], [-37.87159, 145.0795], [-37.8621, 145.08588], [-37.86236, 145.08787], [-37.86513, 145.07919], [-37.86752, 144.99668], [-37.80511, 145.08972], [-37.78142, 145.09227], [-37.80004, 145.09869], [-37.98489, 145.04116], [-37.98825, 145.03227], [-37.92135, 145.02917], [-37.92594, 145.03184], [-37.92332, 145.07483], [-37.91311, 145.06496], [-37.9203, 145.08074], [-37.91657, 145.05534], [-37.91327, 145.07917], [-37.92284, 145.06423], [-37.97614, 145.02014], [-37.97956, 145.02303], [-37.90597, 145.00208], [-37.90115, 144.98776], [-37.91155, 145.00657], [-37.91068, 145.00394], [-37.91677, 145.00372], [-37.9031, 144.9938], [-37.92109, 145.00088], [-37.91818, 145.01513], [-37.85213, 145.10928], [-37.84738, 145.11997], [-37.84, 145.07853], [-37.8356, 145.08005], [-37.83271, 145.08414], [-37.82012, 145.08526], [-37.90248, 145.05943], [-37.90092, 145.04924], [-37.90008, 145.06187], [-37.89106, 145.04675], [-37.89267, 145.05474], [-37.88776, 145.03364], [-37.88385, 145.04785], [-37.8681, 145.02576], [-37.86827, 145.02113], [-37.88246, 145.10046], [-37.88093, 145.10574], [-37.96342, 145.06516], [-37.97161, 145.07036], [-37.96021, 145.05938], [-37.89438, 145.00851], [-37.8879, 145.01198], [-37.8785, 144.99316], [-37.88094, 144.99471], [-37.88306, 144.9841], [-37.88349, 144.98699], [-37.84949, 145.07726], [-37.81415, 145.03082], [-37.82193, 145.01749], [-37.83031, 145.02973], [-37.81474, 145.02609], [-37.82694, 145.03094], [-37.83, 145.04186], [-37.83432, 145.04152], [-37.82258, 145.0193], [-37.82911, 145.04531], [-37.83539, 145.0431], [-37.84506, 145.05246], [-37.94654, 145.04863], [-37.80897, 145.04759], [-37.81439, 145.04237], [-37.8008, 145.04336], [-37.80468, 145.03614], [-37.8055, 145.038], [-37.79172, 145.05863], [-37.79017, 145.06381], [-37.86916, 145.03565], [-37.85905, 145.03229], [-37.86824, 145.03504], [-37.86561, 145.03602], [-37.86749, 145.05122], [-37.8683, 145.03909], [-37.90688, 145.02827], [-37.85356, 144.96415], [-37.85231, 144.96373], [-37.85411, 144.96409], [-37.94274, 145.05783], [-37.90423, 145.06168], [-37.89166, 145.06718], [-37.89814, 145.07455], [-37.88674, 145.07234], [-37.9054, 145.08669], [-37.90626, 145.08653], [-37.90241, 145.12378], [-37.89941, 145.11523], [-37.90296, 145.04637], [-37.90335, 145.03718], [-37.8429, 144.94487], [-37.83522, 144.93471], [-37.84432, 144.94372], [-37.84096, 144.93791], [-37.84957, 144.9889], [-37.95326, 145.01779], [-37.94785, 145.01467], [-37.95372, 145.00608], [-37.83715, 144.96717], [-37.83406, 144.97131], [-37.84712, 144.99967], [-37.83554, 144.97956], [-37.84497, 144.99781], [-37.83849, 144.99948], [-37.8369, 144.98514], [-37.84468, 145.00368], [-37.83014, 144.96967], [-37.82586, 144.957], [-37.86506, 144.97777], [-37.85705, 144.98699], [-37.83275, 145.1055], [-37.83732, 145.01164], [-37.84212, 145.01346], [-37.83872, 145.01452], [-37.84301, 145.02641], [-37.86048, 145.01498], [-37.85938, 145.01087], [-37.85068, 145.01579], [-37.86015, 145.07735], [-37.85842, 145.10288], [-37.86572, 145.09763], [-37.87105, 145.10198], [-37.80648, 145.08274], [-37.80292, 145.06424], [-37.81167, 145.08595], [-37.80259, 145.09878], [-37.79673, 145.06853], [-37.79486, 145.08728], [-37.79284, 145.10082], [-37.79836, 145.10111], [-37.78327, 145.07709], [-37.91888, 145.04775], [-37.91928, 145.03381], [-37.91855, 145.02628], [-37.92463, 145.06051], [-37.91905, 145.05597], [-37.9217, 145.0733], [-37.9178, 145.05414], [-37.91503, 145.07997], [-37.91847, 145.08101], [-37.91943, 145.06801], [-37.96341, 145.01735], [-37.89571, 144.99796], [-37.91728, 145.00206], [-37.89886, 144.99462], [-37.91777, 145.01798], [-37.91488, 145.01868], [-37.92875, 145.0248], [-37.85682, 145.10873], [-37.84085, 145.05415], [-37.84361, 145.07099], [-37.84753, 145.07198], [-37.826, 145.0707], [-37.89785, 145.05524], [-37.89584, 145.04741], [-37.89614, 145.01323], [-37.90034, 145.01283], [-37.88486, 145.10203], [-37.97245, 145.07566], [-37.95416, 145.06781], [-37.95668, 145.06458], [-37.96836, 145.06452], [-37.96597, 145.07535], [-37.88783, 145.01324], [-37.88533, 145.01049], [-37.8835, 144.99549], [-37.88132, 144.99013], [-37.87987, 144.99252], [-37.88042, 144.9818], [-37.87156, 144.98605], [-37.86024, 145.04674], [-37.85671, 145.0604], [-37.93538, 145.00224], [-37.93387, 145.00227], [-37.93649, 145.01107], [-37.93739, 145.00513], [-37.81857, 145.01704], [-37.81691, 145.03721], [-37.82652, 145.03052], [-37.82538, 145.02546], [-37.827, 145.02563], [-37.82712, 145.02427], [-37.81724, 145.05688], [-37.81936, 145.05131], [-37.84283, 145.05178], [-37.8351, 145.05542], [-37.95378, 145.03267], [-37.94578, 145.03564], [-37.95037, 145.03473], [-37.90805, 145.10684], [-37.90822, 145.11146], [-37.81143, 145.03723], [-37.80506, 145.05224], [-37.7921, 145.0507], [-37.87605, 145.05563], [-37.90958, 145.03371], [-37.84807, 144.96017], [-37.93686, 145.03966], [-37.89345, 145.06875], [-37.89578, 145.06899], [-37.89561, 145.07502], [-37.90354, 145.14394], [-37.91017, 145.11488], [-37.90552, 145.03087], [-37.83343, 144.94554], [-37.83165, 144.94411], [-37.8371, 144.93859], [-37.85102, 144.99408], [-37.84714, 144.98927], [-37.85127, 144.99434], [-37.85012, 144.99225], [-37.84961, 145.01113], [-37.84961, 145.00248], [-37.96224, 145.01683], [-37.83185, 144.96817], [-37.83087, 144.96864], [-37.83543, 144.99907], [-37.84283, 145.00015], [-37.82481, 144.96669], [-37.82548, 144.96648], [-37.86736, 144.98391], [-37.81665, 145.10043], [-37.82971, 145.09007], [-37.833, 145.01322], [-37.85538, 145.00013], [-37.84469, 144.95578], [-37.842, 144.95601], [-37.86286, 145.09228], [-37.86301, 145.11159], [-37.86997, 144.9908], [-37.81369, 145.09486], [-37.79219, 145.10214], [-37.78839, 145.07076], [-37.79334, 145.10025], [-37.91753, 145.03907], [-37.93179, 145.06957], [-37.93462, 145.06562], [-37.91954, 145.07637], [-37.90984, 145.08001], [-37.92829, 145.00281], [-37.92576, 144.99233], [-37.92882, 145.01109], [-37.92884, 145.01518], [-37.90514, 145.02524], [-37.85683, 145.09635], [-37.85541, 145.12836], [-37.82277, 145.0581], [-37.81653, 145.05971], [-37.89431, 145.05902], [-37.86323, 145.01428], [-37.89918, 145.01679], [-37.89542, 145.02057], [-37.96877, 145.07484], [-37.96257, 145.08252], [-37.97145, 145.06132], [-37.96388, 145.07807], [-37.97069, 145.05928], [-37.97076, 145.04186], [-37.87818, 144.98532], [-37.85636, 145.06405], [-37.85775, 145.07196], [-37.84897, 145.06804], [-37.86194, 145.07256], [-37.85723, 145.0547], [-37.94039, 145.02234], [-37.94176, 145.00931], [-37.93557, 145.00463], [-37.9392, 145.00095], [-37.9395, 145.01344], [-37.94313, 145.03501], [-37.83179, 145.04293], [-37.82839, 145.04086], [-37.81633, 145.02833], [-37.82866, 145.04259], [-37.82679, 145.03021], [-37.8285, 145.04022], [-37.94783, 145.03983], [-37.94549, 145.03332], [-37.80119, 145.0511], [-37.80798, 145.02347], [-37.80222, 145.03501], [-37.80978, 145.02185], [-37.86779, 145.04482], [-37.88066, 145.06605], [-37.87421, 145.04958], [-37.94107, 145.04217], [-37.90353, 145.07006], [-37.89767, 145.07332], [-37.89792, 145.06516], [-37.8888, 145.07271], [-37.90465, 145.08894], [-37.9125, 145.11844], [-37.90173, 145.04466], [-37.84237, 144.94486], [-37.84426, 144.94415], [-37.85931, 145.00616], [-37.85184, 145.01049], [-37.87726, 144.99336], [-37.95877, 145.02701], [-37.95698, 145.0166], [-37.83347, 144.95692], [-37.84446, 144.99552], [-37.83041, 144.98494], [-37.8414, 144.98608], [-37.8386, 144.99852], [-37.87294, 144.98118], [-37.83583, 145.10664], [-37.81411, 145.09055], [-37.84744, 145.00783], [-37.85542, 144.99571], [-37.85679, 145.00089], [-37.84587, 144.94828], [-37.84431, 144.95532], [-37.85549, 145.0163], [-37.85963, 145.02077], [-37.85862, 145.01676], [-37.86223, 145.08696], [-37.86123, 145.08845], [-37.81172, 145.08175], [-37.80626, 145.08776], [-37.81623, 145.0841], [-37.81192, 145.07506], [-37.79673, 145.06853], [-37.79294, 145.08583], [-37.80365, 145.09048], [-37.79238, 145.07841], [-37.78483, 145.07477], [-37.79541, 145.0657], [-37.79589, 145.07832], [-37.99035, 145.03839], [-37.9336, 145.04509], [-37.91655, 145.02448], [-37.91916, 145.04986], [-37.91389, 145.02804], [-37.92188, 145.07266], [-37.9143, 145.06582], [-37.91068, 145.06802], [-37.91425, 145.08376], [-37.97359, 145.0214], [-37.97363, 145.02302], [-37.89168, 144.99162], [-37.88623, 144.99858], [-37.9146, 145.00535], [-37.92465, 144.9992], [-37.90899, 145.00046], [-37.92988, 145.01085], [-37.92173, 145.01436], [-37.91684, 145.01727], [-37.91704, 145.01846], [-37.85049, 145.11687], [-37.85475, 145.12321], [-37.85103, 145.11232], [-37.84743, 145.09657], [-37.84473, 145.09218], [-37.84627, 145.08366], [-37.8279, 145.07403], [-37.83208, 145.07533], [-37.81792, 145.06244], [-37.83201, 145.08163], [-37.89622, 145.06032], [-37.90262, 145.05709], [-37.88524, 145.02398], [-37.88299, 145.04711], [-37.86906, 145.01986], [-37.89694, 145.02176], [-37.88321, 145.09594], [-37.95746, 145.06706], [-37.95745, 145.07219], [-37.96911, 145.07271], [-37.95342, 145.06026], [-37.89507, 145.00477], [-37.89359, 145.01267], [-37.87944, 144.99375], [-37.87964, 144.9856], [-37.88945, 144.99015], [-37.8867, 144.99141], [-37.89989, 145.00883], [-37.85563, 145.04369], [-37.85285, 145.04608], [-37.86224, 145.06406], [-37.85385, 145.06473], [-37.84965, 145.05904], [-37.85139, 145.05835], [-37.85948, 145.08571], [-37.93571, 145.00964], [-37.93594, 145.0195], [-37.93167, 145.00134], [-37.82676, 145.04444], [-37.81557, 145.04281], [-37.81816, 145.03938], [-37.81625, 145.03789], [-37.81965, 145.02367], [-37.81767, 145.04041], [-37.8213, 145.02913], [-37.82785, 145.03816], [-37.81396, 145.01899], [-37.82887, 145.03676], [-37.82524, 145.05568], [-37.8327, 145.05428], [-37.82701, 145.0541], [-37.83012, 145.04751], [-37.95357, 145.02651], [-37.89829, 145.08141], [-37.90192, 145.0756], [-37.81176, 145.02807], [-37.81207, 145.0371], [-37.80719, 145.02248], [-37.79438, 145.03369], [-37.80154, 145.03258], [-37.80469, 145.05213], [-37.7948, 145.0364], [-37.79702, 145.05352], [-37.7927, 145.05349], [-37.863, 145.03946], [-37.86162, 145.03065], [-37.87107, 145.04991], [-37.87391, 145.05562], [-37.91304, 145.0373], [-37.91074, 145.03068], [-37.85327, 144.96223], [-37.84962, 144.95856], [-37.90017, 145.06435], [-37.89018, 145.06865], [-37.89706, 145.07483], [-37.90193, 145.10107], [-37.90295, 145.11939], [-37.90822, 145.12036], [-37.90087, 145.03959], [-37.90323, 145.04286], [-37.83661, 144.93359], [-37.84237, 144.94486], [-37.85931, 145.00616], [-37.85163, 144.9943], [-37.84998, 144.99499], [-37.84839, 145.0013], [-37.85064, 144.99095], [-37.85672, 145.00273], [-37.95541, 145.02944], [-37.95142, 145.01977], [-37.95694, 145.01936], [-37.83627, 144.9605], [-37.83737, 144.95799], [-37.84014, 144.99441], [-37.84405, 145.0016], [-37.83678, 145.00137], [-37.8281, 144.96627], [-37.8281, 144.96627], [-37.86305, 144.9911], [-37.86309, 144.98302], [-37.81708, 145.09566], [-37.82372, 145.09085], [-37.83133, 145.1006], [-37.81455, 145.0943], [-37.84118, 144.95023], [-37.86874, 144.998], [-37.80039, 145.0961], [-37.9332, 145.03794], [-37.90542, 144.99817], [-37.93171, 145.03041], [-37.91053, 145.02447], [-37.85126, 145.1132], [-37.8401, 145.09113], [-37.84812, 145.07414], [-37.8891, 145.06337], [-37.88368, 145.0515], [-37.90321, 145.0555], [-37.9003, 145.06342], [-37.89334, 145.05463], [-37.89063, 145.02609], [-37.88289, 145.09871], [-37.88306, 144.9841], [-37.88111, 144.99054], [-37.8574, 145.04795], [-37.85702, 145.04801], [-37.85019, 145.0465], [-37.93953, 145.00096], [-37.94083, 145.03682], [-37.81823, 145.03972], [-37.81835, 145.05895], [-37.9511, 145.04171], [-37.94882, 145.03111], [-37.90403, 145.08118], [-37.81317, 145.05993], [-37.79893, 145.04266], [-37.80059, 145.03274], [-37.87012, 145.03545], [-37.89465, 145.06984], [-37.90583, 145.07283], [-37.89542, 145.10055], [-37.90088, 145.11692], [-37.89976, 145.04215], [-37.9075, 145.05329], [-37.84146, 144.94121], [-37.84696, 144.99364], [-37.95095, 145.02096], [-37.83631, 144.95536], [-37.83766, 144.98799], [-37.83613, 144.99661], [-37.83986, 144.98598], [-37.87094, 144.9807], [-37.87312, 144.97986], [-37.82413, 145.10424], [-37.83532, 145.0216], [-37.84263, 145.00448], [-37.85687, 144.99748], [-37.85459, 145.02147], [-37.86165, 145.02148], [-37.87036, 145.08471], [-37.86516, 145.07958], [-37.87149, 144.99746], [-37.81303, 145.07468], [-37.81462, 145.08776], [-37.81363, 145.09942], [-37.78368, 145.09545], [-37.78617, 145.09202], [-37.79843, 145.06728], [-37.97732, 145.04388], [-37.98354, 145.04261], [-37.92837, 145.03821], [-37.92893, 145.04581], [-37.91582, 145.048], [-37.92689, 145.05879], [-37.92445, 145.06824], [-37.96678, 145.02223], [-37.92335, 144.99982], [-37.9214, 145.00454], [-37.91733, 144.99747], [-37.90904, 144.99868], [-37.88779, 144.99933], [-37.90296, 145.02261], [-37.90344, 145.01856], [-37.91892, 145.00923], [-37.93063, 145.01314], [-37.91106, 145.02394], [-37.85553, 145.12305], [-37.85374, 145.12459], [-37.84883, 145.12998], [-37.84349, 145.07367], [-37.84603, 145.06954], [-37.82831, 145.06581], [-37.82794, 145.08435], [-37.83057, 145.08482], [-37.82024, 145.06172], [-37.88553, 145.05012], [-37.88569, 145.02496], [-37.87206, 145.03512], [-37.88658, 145.09297], [-37.88478, 145.10244], [-37.96791, 145.06241], [-37.96098, 145.04275], [-37.9746, 145.07207], [-37.81007, 145.06792], [-37.8713, 144.98777], [-37.88656, 144.99068], [-37.88014, 144.99347], [-37.87594, 144.98833], [-37.85875, 145.07978], [-37.85852, 145.04547], [-37.84799, 145.06353], [-37.85728, 145.08743], [-37.852, 145.07321], [-37.85611, 145.08776], [-37.85258, 145.08589], [-37.86014, 145.04221], [-37.94087, 145.03366], [-37.82127, 145.02238], [-37.82334, 145.04015], [-37.81813, 145.02295], [-37.82541, 145.02591], [-37.83195, 145.04212], [-37.82737, 145.02971], [-37.82834, 145.03937], [-37.82452, 145.02204], [-37.82742, 145.05324], [-37.83781, 145.05234], [-37.82689, 145.05542], [-37.82108, 145.05739], [-37.95384, 145.05443], [-37.94874, 145.02631], [-37.9016, 145.08294], [-37.80347, 145.0489], [-37.79855, 145.04493], [-37.80456, 145.03745], [-37.80495, 145.04949], [-37.81185, 145.05387], [-37.80869, 145.06026], [-37.80593, 145.05121], [-37.7976, 145.04816], [-37.79147, 145.05334], [-37.86044, 145.0335], [-37.85189, 145.03335], [-37.85183, 145.03863], [-37.86954, 145.0444], [-37.8652, 145.05248], [-37.87923, 145.08955], [-37.90978, 145.02937], [-37.89215, 145.10472], [-37.90188, 145.04172], [-37.90143, 145.04184], [-37.83802, 144.92442], [-37.84068, 144.93547], [-37.84158, 144.93809], [-37.85565, 145.00839], [-37.85562, 145.00571], [-37.85126, 145.00832], [-37.85768, 145.00254], [-37.85083, 144.99092], [-37.85059, 144.99188], [-37.95762, 145.01418], [-37.95017, 145.02054], [-37.83453, 144.95782], [-37.83591, 144.94963], [-37.83923, 144.95113], [-37.82863, 144.98514], [-37.8453, 144.98487], [-37.8446, 145.00018], [-37.83873, 145.00133], [-37.84368, 144.99577], [-37.8281, 144.96627], [-37.86257, 144.99161], [-37.86667, 144.98324], [-37.83199, 145.10877], [-37.8364, 145.10609], [-37.82933, 145.09642], [-37.81403, 145.08968], [-37.8404, 145.01425], [-37.83725, 145.01476], [-37.84297, 145.01819], [-37.85143, 144.98574], [-37.86173, 145.11074], [-37.87149, 144.99746], [-37.8079, 145.09162], [-37.79535, 145.07131], [-37.9108, 145.07908], [-37.90396, 144.99126], [-37.9041, 144.9993], [-37.88414, 145.0528], [-37.89204, 145.06086], [-37.88642, 145.05979], [-37.88512, 145.04554], [-37.87972, 145.03351], [-37.88304, 145.0969], [-37.88472, 145.00025], [-37.85145, 145.09107], [-37.93297, 144.99771], [-37.94423, 145.00844], [-37.81432, 145.03221], [-37.83108, 145.0353], [-37.82214, 145.03288], [-37.81519, 145.03153], [-37.81442, 145.01531], [-37.81442, 145.01531], [-37.80509, 145.05572], [-37.85557, 145.03968], [-37.94111, 145.0431], [-37.88519, 145.06715], [-37.887, 145.07303], [-37.90779, 145.15042], [-37.90821, 145.09314], [-37.90168, 145.11081], [-37.85924, 145.00563], [-37.83863, 144.96208], [-37.83613, 144.99661], [-37.84712, 144.99967], [-37.84157, 144.98935], [-37.87349, 144.9798], [-37.86566, 144.99104], [-37.84266, 145.02355], [-37.85549, 145.0163], [-37.86162, 145.11042], [-37.86324, 145.10289], [-37.81675, 145.07716], [-37.81161, 145.07622], [-37.80218, 145.10063], [-37.79494, 145.06382], [-37.80275, 145.08412], [-37.79497, 145.10538], [-37.98453, 145.02659], [-37.91722, 145.04836], [-37.92768, 145.04268], [-37.91627, 145.03892], [-37.92211, 145.0466], [-37.9236, 145.05913], [-37.93171, 145.03041], [-37.9135, 145.00846], [-37.83856, 145.08602], [-37.88415, 145.0514], [-37.89347, 145.04772], [-37.90017, 145.05812], [-37.86068, 145.01121], [-37.88923, 145.0964], [-37.96768, 145.07966], [-37.97223, 145.07895], [-37.81143, 145.07108], [-37.88148, 145.00539], [-37.88065, 145.01112], [-37.87872, 144.98894], [-37.88374, 144.98518], [-37.88678, 144.98855], [-37.85743, 145.0468], [-37.85724, 145.04681], [-37.94229, 145.01306], [-37.93487, 145.00093], [-37.83032, 145.03899], [-37.84139, 145.05045], [-37.95008, 145.03203], [-37.94999, 145.03122], [-37.89369, 145.08354], [-37.79413, 145.02382], [-37.88354, 145.07536], [-37.83529, 144.93749], [-37.85973, 145.00925], [-37.95035, 145.01571], [-37.95265, 145.02045], [-37.83564, 144.97729], [-37.83547, 144.98844], [-37.83863, 144.99379], [-37.84018, 145.00265], [-37.87223, 144.98046], [-37.86756, 144.98303], [-37.86761, 144.98337], [-37.86545, 144.98126], [-37.83273, 145.08812], [-37.82559, 145.11236], [-37.82611, 145.0911], [-37.82794, 145.09332], [-37.83241, 145.00705], [-37.84139, 145.00678], [-37.84157, 145.00469], [-37.85889, 145.01989], [-37.85749, 145.01735], [-37.86096, 145.10026], [-37.806, 145.09511], [-37.80345, 145.07969], [-37.79386, 145.06746], [-37.78245, 145.09273], [-37.79466, 145.06564], [-37.98214, 145.05175], [-37.97383, 145.04525], [-37.91648, 145.04927], [-37.91051, 145.07139], [-37.91155, 145.076], [-37.9145, 145.05899], [-37.91289, 145.08065], [-37.97853, 145.0175], [-37.97287, 145.01648], [-37.89569, 144.99881], [-37.91814, 144.99297], [-37.92545, 145.00277], [-37.92894, 145.00341], [-37.85156, 145.13054], [-37.84143, 145.08705], [-37.84115, 145.0743], [-37.83473, 145.05698], [-37.84403, 145.09545], [-37.83227, 145.06325], [-37.84237, 145.09257], [-37.88866, 145.06305], [-37.88506, 145.06411], [-37.89178, 145.0539], [-37.87883, 145.09741], [-37.9641, 145.06547], [-37.96718, 145.07681], [-37.96304, 145.06421], [-37.88295, 145.00083], [-37.87307, 144.98635], [-37.87449, 144.99059], [-37.87472, 144.98235], [-37.88617, 144.9833], [-37.88465, 144.99177], [-37.88351, 144.99202], [-37.88937, 145.04038], [-37.84914, 145.06421], [-37.85448, 145.0485], [-37.83197, 145.04306], [-37.81494, 145.01744], [-37.81628, 145.02125], [-37.82465, 145.05092], [-37.9526, 145.04207], [-37.94775, 145.02379], [-37.9461, 145.02432], [-37.94691, 145.04935], [-37.94633, 145.04947], [-37.94763, 145.02717], [-37.90904, 145.10903], [-37.81614, 145.05056], [-37.80437, 145.01725], [-37.79589, 145.05223], [-37.93793, 145.04048], [-37.89563, 145.06992], [-37.89801, 145.07104], [-37.89022, 145.07333], [-37.888, 145.07123], [-37.83446, 144.94021], [-37.83789, 144.93834], [-37.83424, 144.94572], [-37.84968, 144.99389], [-37.87827, 144.99752], [-37.96, 145.02068], [-37.95882, 145.02138], [-37.83381, 144.96287], [-37.83326, 144.95464], [-37.83613, 144.99661], [-37.84679, 145.00206], [-37.83631, 145.00181], [-37.82618, 144.96891], [-37.85984, 144.9867], [-37.85911, 144.979], [-37.83358, 145.09884], [-37.85581, 144.99025]],\n",
       "                {&quot;blur&quot;: 15, &quot;maxZoom&quot;: 18, &quot;minOpacity&quot;: 0.5, &quot;radius&quot;: 25}\n",
       "            ).addTo(map_e3b1e4b8a5dd70be620f86d958ca98f1);\n",
       "        \n",
       "&lt;/script&gt;\" style=\"position:absolute;width:100%;height:100%;left:0;top:0;border:none !important;\" allowfullscreen webkitallowfullscreen mozallowfullscreen></iframe></div></div>"
      ],
      "text/plain": [
       "<folium.folium.Map at 0x2813c14f5b0>"
      ]
     },
     "execution_count": 37,
     "metadata": {},
     "output_type": "execute_result"
    }
   ],
   "source": [
    "import folium\n",
    "from folium.plugins import HeatMap\n",
    "\n",
    "# Melbourne latitude and longitude values\n",
    "latitude = -37.8\n",
    "longitude = 145.03\n",
    "\n",
    "# create map and display it\n",
    "\n",
    "mel_map = folium.Map(location=[latitude, longitude], zoom_start=12)\n",
    "\n",
    "# List comprehension to make out list of lists\n",
    "heat_data = [[row['Lattitude'],row['Longtitude']] for index, row in melbourne_data_df_smetro.iterrows()]\n",
    "\n",
    "# Plot it on the map\n",
    "HeatMap(heat_data).add_to(mel_map)\n",
    "\n",
    "# Display the map\n",
    "mel_map"
   ]
  },
  {
   "cell_type": "markdown",
   "id": "936f9c0e",
   "metadata": {},
   "source": [
    "# Further Analysis on West Metropolitan\n",
    "\n",
    "### 1a) Analysis by CouncilArea in West Metropolitan"
   ]
  },
  {
   "cell_type": "code",
   "execution_count": 38,
   "id": "2136f45d",
   "metadata": {
    "scrolled": true
   },
   "outputs": [
    {
     "data": {
      "text/html": [
       "<div>\n",
       "<style scoped>\n",
       "    .dataframe tbody tr th:only-of-type {\n",
       "        vertical-align: middle;\n",
       "    }\n",
       "\n",
       "    .dataframe tbody tr th {\n",
       "        vertical-align: top;\n",
       "    }\n",
       "\n",
       "    .dataframe thead th {\n",
       "        text-align: right;\n",
       "    }\n",
       "</style>\n",
       "<table border=\"1\" class=\"dataframe\">\n",
       "  <thead>\n",
       "    <tr style=\"text-align: right;\">\n",
       "      <th></th>\n",
       "      <th>Suburb</th>\n",
       "      <th>Address</th>\n",
       "      <th>Rooms</th>\n",
       "      <th>Type</th>\n",
       "      <th>Price</th>\n",
       "      <th>Method</th>\n",
       "      <th>SellerG</th>\n",
       "      <th>Date</th>\n",
       "      <th>Distance</th>\n",
       "      <th>Postcode</th>\n",
       "      <th>Bathroom</th>\n",
       "      <th>Car</th>\n",
       "      <th>Landsize</th>\n",
       "      <th>BuildingArea</th>\n",
       "      <th>YearBuilt</th>\n",
       "      <th>CouncilArea</th>\n",
       "      <th>Lattitude</th>\n",
       "      <th>Longtitude</th>\n",
       "      <th>Regionname</th>\n",
       "      <th>Propertycount</th>\n",
       "    </tr>\n",
       "  </thead>\n",
       "  <tbody>\n",
       "    <tr>\n",
       "      <th>38</th>\n",
       "      <td>Airport West</td>\n",
       "      <td>154 Halsey Rd</td>\n",
       "      <td>3</td>\n",
       "      <td>Townhouse</td>\n",
       "      <td>840000</td>\n",
       "      <td>PI</td>\n",
       "      <td>Nelson</td>\n",
       "      <td>3/9/2016</td>\n",
       "      <td>14</td>\n",
       "      <td>3042</td>\n",
       "      <td>2</td>\n",
       "      <td>1</td>\n",
       "      <td>303</td>\n",
       "      <td>225</td>\n",
       "      <td>2016</td>\n",
       "      <td>Moonee Valley</td>\n",
       "      <td>-38</td>\n",
       "      <td>145</td>\n",
       "      <td>Western Metropolitan</td>\n",
       "      <td>3464</td>\n",
       "    </tr>\n",
       "    <tr>\n",
       "      <th>39</th>\n",
       "      <td>Airport West</td>\n",
       "      <td>50 Bedford St</td>\n",
       "      <td>3</td>\n",
       "      <td>House</td>\n",
       "      <td>730000</td>\n",
       "      <td>VB</td>\n",
       "      <td>Nelson</td>\n",
       "      <td>3/12/2016</td>\n",
       "      <td>14</td>\n",
       "      <td>3042</td>\n",
       "      <td>2</td>\n",
       "      <td>1</td>\n",
       "      <td>0</td>\n",
       "      <td>145</td>\n",
       "      <td>1965</td>\n",
       "      <td>Moonee Valley</td>\n",
       "      <td>-38</td>\n",
       "      <td>145</td>\n",
       "      <td>Western Metropolitan</td>\n",
       "      <td>3464</td>\n",
       "    </tr>\n",
       "    <tr>\n",
       "      <th>40</th>\n",
       "      <td>Airport West</td>\n",
       "      <td>50 Bedford St</td>\n",
       "      <td>3</td>\n",
       "      <td>House</td>\n",
       "      <td>770000</td>\n",
       "      <td>SP</td>\n",
       "      <td>Nelson</td>\n",
       "      <td>4/3/2017</td>\n",
       "      <td>14</td>\n",
       "      <td>3042</td>\n",
       "      <td>2</td>\n",
       "      <td>1</td>\n",
       "      <td>0</td>\n",
       "      <td>145</td>\n",
       "      <td>1965</td>\n",
       "      <td>Moonee Valley</td>\n",
       "      <td>-38</td>\n",
       "      <td>145</td>\n",
       "      <td>Western Metropolitan</td>\n",
       "      <td>3464</td>\n",
       "    </tr>\n",
       "    <tr>\n",
       "      <th>41</th>\n",
       "      <td>Airport West</td>\n",
       "      <td>23 Hart St</td>\n",
       "      <td>2</td>\n",
       "      <td>House</td>\n",
       "      <td>603000</td>\n",
       "      <td>S</td>\n",
       "      <td>Nelson</td>\n",
       "      <td>4/3/2017</td>\n",
       "      <td>14</td>\n",
       "      <td>3042</td>\n",
       "      <td>1</td>\n",
       "      <td>1</td>\n",
       "      <td>272</td>\n",
       "      <td>84</td>\n",
       "      <td>1950</td>\n",
       "      <td>Moonee Valley</td>\n",
       "      <td>-38</td>\n",
       "      <td>145</td>\n",
       "      <td>Western Metropolitan</td>\n",
       "      <td>3464</td>\n",
       "    </tr>\n",
       "    <tr>\n",
       "      <th>42</th>\n",
       "      <td>Airport West</td>\n",
       "      <td>1/80 Hawker St</td>\n",
       "      <td>3</td>\n",
       "      <td>Townhouse</td>\n",
       "      <td>700000</td>\n",
       "      <td>S</td>\n",
       "      <td>Brad</td>\n",
       "      <td>4/3/2017</td>\n",
       "      <td>14</td>\n",
       "      <td>3042</td>\n",
       "      <td>2</td>\n",
       "      <td>2</td>\n",
       "      <td>239</td>\n",
       "      <td>134</td>\n",
       "      <td>2009</td>\n",
       "      <td>Moonee Valley</td>\n",
       "      <td>-38</td>\n",
       "      <td>145</td>\n",
       "      <td>Western Metropolitan</td>\n",
       "      <td>3464</td>\n",
       "    </tr>\n",
       "  </tbody>\n",
       "</table>\n",
       "</div>"
      ],
      "text/plain": [
       "          Suburb         Address  Rooms       Type   Price Method SellerG  \\\n",
       "38  Airport West   154 Halsey Rd      3  Townhouse  840000     PI  Nelson   \n",
       "39  Airport West   50 Bedford St      3      House  730000     VB  Nelson   \n",
       "40  Airport West   50 Bedford St      3      House  770000     SP  Nelson   \n",
       "41  Airport West      23 Hart St      2      House  603000      S  Nelson   \n",
       "42  Airport West  1/80 Hawker St      3  Townhouse  700000      S    Brad   \n",
       "\n",
       "         Date  Distance  Postcode  Bathroom  Car  Landsize  BuildingArea  \\\n",
       "38   3/9/2016        14      3042         2    1       303           225   \n",
       "39  3/12/2016        14      3042         2    1         0           145   \n",
       "40   4/3/2017        14      3042         2    1         0           145   \n",
       "41   4/3/2017        14      3042         1    1       272            84   \n",
       "42   4/3/2017        14      3042         2    2       239           134   \n",
       "\n",
       "    YearBuilt    CouncilArea  Lattitude  Longtitude            Regionname  \\\n",
       "38       2016  Moonee Valley        -38         145  Western Metropolitan   \n",
       "39       1965  Moonee Valley        -38         145  Western Metropolitan   \n",
       "40       1965  Moonee Valley        -38         145  Western Metropolitan   \n",
       "41       1950  Moonee Valley        -38         145  Western Metropolitan   \n",
       "42       2009  Moonee Valley        -38         145  Western Metropolitan   \n",
       "\n",
       "    Propertycount  \n",
       "38           3464  \n",
       "39           3464  \n",
       "40           3464  \n",
       "41           3464  \n",
       "42           3464  "
      ]
     },
     "execution_count": 38,
     "metadata": {},
     "output_type": "execute_result"
    }
   ],
   "source": [
    "# Further Analysis on West Metropolitan\n",
    "\n",
    "melbourne_data_df_wmetro = melbourne_data_df[(melbourne_data_df['Regionname'] == 'Western Metropolitan')]\n",
    "melbourne_data_df_wmetro.head()"
   ]
  },
  {
   "cell_type": "code",
   "execution_count": 39,
   "id": "e5e42c05",
   "metadata": {},
   "outputs": [
    {
     "data": {
      "text/html": [
       "<div>\n",
       "<style scoped>\n",
       "    .dataframe tbody tr th:only-of-type {\n",
       "        vertical-align: middle;\n",
       "    }\n",
       "\n",
       "    .dataframe tbody tr th {\n",
       "        vertical-align: top;\n",
       "    }\n",
       "\n",
       "    .dataframe thead th {\n",
       "        text-align: right;\n",
       "    }\n",
       "</style>\n",
       "<table border=\"1\" class=\"dataframe\">\n",
       "  <thead>\n",
       "    <tr style=\"text-align: right;\">\n",
       "      <th></th>\n",
       "      <th>count</th>\n",
       "      <th>min</th>\n",
       "      <th>max</th>\n",
       "      <th>mean</th>\n",
       "      <th>median</th>\n",
       "    </tr>\n",
       "    <tr>\n",
       "      <th>CouncilArea</th>\n",
       "      <th></th>\n",
       "      <th></th>\n",
       "      <th></th>\n",
       "      <th></th>\n",
       "      <th></th>\n",
       "    </tr>\n",
       "  </thead>\n",
       "  <tbody>\n",
       "    <tr>\n",
       "      <th>Hobsons Bay</th>\n",
       "      <td>434</td>\n",
       "      <td>285000</td>\n",
       "      <td>3420000</td>\n",
       "      <td>1000933</td>\n",
       "      <td>912500</td>\n",
       "    </tr>\n",
       "    <tr>\n",
       "      <th>Moonee Valley</th>\n",
       "      <td>938</td>\n",
       "      <td>222000</td>\n",
       "      <td>3900000</td>\n",
       "      <td>995706</td>\n",
       "      <td>911500</td>\n",
       "    </tr>\n",
       "    <tr>\n",
       "      <th>Maribyrnong</th>\n",
       "      <td>692</td>\n",
       "      <td>85000</td>\n",
       "      <td>2450000</td>\n",
       "      <td>811699</td>\n",
       "      <td>816000</td>\n",
       "    </tr>\n",
       "    <tr>\n",
       "      <th>Moreland</th>\n",
       "      <td>21</td>\n",
       "      <td>390000</td>\n",
       "      <td>990000</td>\n",
       "      <td>684405</td>\n",
       "      <td>700000</td>\n",
       "    </tr>\n",
       "    <tr>\n",
       "      <th>Brimbank</th>\n",
       "      <td>424</td>\n",
       "      <td>145000</td>\n",
       "      <td>1350500</td>\n",
       "      <td>647201</td>\n",
       "      <td>635400</td>\n",
       "    </tr>\n",
       "    <tr>\n",
       "      <th>Melton</th>\n",
       "      <td>33</td>\n",
       "      <td>340000</td>\n",
       "      <td>1150000</td>\n",
       "      <td>609435</td>\n",
       "      <td>600000</td>\n",
       "    </tr>\n",
       "    <tr>\n",
       "      <th>Hume</th>\n",
       "      <td>40</td>\n",
       "      <td>300000</td>\n",
       "      <td>895000</td>\n",
       "      <td>573638</td>\n",
       "      <td>583000</td>\n",
       "    </tr>\n",
       "    <tr>\n",
       "      <th>Wyndham</th>\n",
       "      <td>86</td>\n",
       "      <td>302500</td>\n",
       "      <td>1305000</td>\n",
       "      <td>531813</td>\n",
       "      <td>512000</td>\n",
       "    </tr>\n",
       "  </tbody>\n",
       "</table>\n",
       "</div>"
      ],
      "text/plain": [
       "               count     min      max    mean  median\n",
       "CouncilArea                                          \n",
       "Hobsons Bay      434  285000  3420000 1000933  912500\n",
       "Moonee Valley    938  222000  3900000  995706  911500\n",
       "Maribyrnong      692   85000  2450000  811699  816000\n",
       "Moreland          21  390000   990000  684405  700000\n",
       "Brimbank         424  145000  1350500  647201  635400\n",
       "Melton            33  340000  1150000  609435  600000\n",
       "Hume              40  300000   895000  573638  583000\n",
       "Wyndham           86  302500  1305000  531813  512000"
      ]
     },
     "execution_count": 39,
     "metadata": {},
     "output_type": "execute_result"
    }
   ],
   "source": [
    "# Tabular format for Analysis by CouncilArea\n",
    "melbourne_data_wcouncil = melbourne_data_df_wmetro.groupby(['CouncilArea'])['Price'].agg({\"count\", \"median\", \"min\", \"max\", \"mean\"}).sort_values(by=\"median\", ascending=False)\n",
    "melbourne_data_wcouncil"
   ]
  },
  {
   "cell_type": "code",
   "execution_count": 40,
   "id": "48e5c3ca",
   "metadata": {},
   "outputs": [
    {
     "data": {
      "text/plain": [
       "Text(0.5, 1.0, 'Boxplots of Price Analysis by CouncilArea across West Metropolitan')"
      ]
     },
     "execution_count": 40,
     "metadata": {},
     "output_type": "execute_result"
    },
    {
     "data": {
      "image/png": "[encoded data removed]",
      "text/plain": [
       "<Figure size 1080x360 with 1 Axes>"
      ]
     },
     "metadata": {
      "needs_background": "light"
     },
     "output_type": "display_data"
    }
   ],
   "source": [
    "plt.figure(figsize=(15,5))\n",
    "sns.boxplot(x=melbourne_data_df_wmetro['CouncilArea'],y=melbourne_data_df_wmetro['Price'])\n",
    "plt.title(\"Boxplots of Price Analysis by CouncilArea across West Metropolitan\")"
   ]
  },
  {
   "cell_type": "code",
   "execution_count": 41,
   "id": "133e2e2f",
   "metadata": {},
   "outputs": [
    {
     "data": {
      "text/plain": [
       "Text(0.5, 1.0, 'Countplots by CouncilArea across West Metropolitan')"
      ]
     },
     "execution_count": 41,
     "metadata": {},
     "output_type": "execute_result"
    },
    {
     "data": {
      "image/png": "[encoded data removed]",
      "text/plain": [
       "<Figure size 1080x360 with 1 Axes>"
      ]
     },
     "metadata": {
      "needs_background": "light"
     },
     "output_type": "display_data"
    }
   ],
   "source": [
    "plt.figure(figsize=(15,5))\n",
    "sns.countplot(data=melbourne_data_df_wmetro,y=melbourne_data_df_wmetro['CouncilArea'])\n",
    "plt.title(\"Countplots by CouncilArea across West Metropolitan\")"
   ]
  },
  {
   "cell_type": "markdown",
   "id": "09785fda",
   "metadata": {},
   "source": [
    "### 1b) Analysis by Room Features in West Metropolitan"
   ]
  },
  {
   "cell_type": "code",
   "execution_count": 42,
   "id": "ad5ead11",
   "metadata": {},
   "outputs": [
    {
     "data": {
      "text/html": [
       "<div>\n",
       "<style scoped>\n",
       "    .dataframe tbody tr th:only-of-type {\n",
       "        vertical-align: middle;\n",
       "    }\n",
       "\n",
       "    .dataframe tbody tr th {\n",
       "        vertical-align: top;\n",
       "    }\n",
       "\n",
       "    .dataframe thead tr th {\n",
       "        text-align: left;\n",
       "    }\n",
       "\n",
       "    .dataframe thead tr:last-of-type th {\n",
       "        text-align: right;\n",
       "    }\n",
       "</style>\n",
       "<table border=\"1\" class=\"dataframe\">\n",
       "  <thead>\n",
       "    <tr>\n",
       "      <th></th>\n",
       "      <th colspan=\"7\" halign=\"left\">median</th>\n",
       "      <th colspan=\"7\" halign=\"left\">count</th>\n",
       "    </tr>\n",
       "    <tr>\n",
       "      <th>Bathroom</th>\n",
       "      <th>0</th>\n",
       "      <th>1</th>\n",
       "      <th>2</th>\n",
       "      <th>3</th>\n",
       "      <th>4</th>\n",
       "      <th>5</th>\n",
       "      <th>All</th>\n",
       "      <th>0</th>\n",
       "      <th>1</th>\n",
       "      <th>2</th>\n",
       "      <th>3</th>\n",
       "      <th>4</th>\n",
       "      <th>5</th>\n",
       "      <th>All</th>\n",
       "    </tr>\n",
       "    <tr>\n",
       "      <th>Rooms</th>\n",
       "      <th></th>\n",
       "      <th></th>\n",
       "      <th></th>\n",
       "      <th></th>\n",
       "      <th></th>\n",
       "      <th></th>\n",
       "      <th></th>\n",
       "      <th></th>\n",
       "      <th></th>\n",
       "      <th></th>\n",
       "      <th></th>\n",
       "      <th></th>\n",
       "      <th></th>\n",
       "      <th></th>\n",
       "    </tr>\n",
       "  </thead>\n",
       "  <tbody>\n",
       "    <tr>\n",
       "      <th>1</th>\n",
       "      <td>0</td>\n",
       "      <td>310000</td>\n",
       "      <td>1720000</td>\n",
       "      <td>0</td>\n",
       "      <td>0</td>\n",
       "      <td>0</td>\n",
       "      <td>310000</td>\n",
       "      <td>0</td>\n",
       "      <td>81</td>\n",
       "      <td>1</td>\n",
       "      <td>0</td>\n",
       "      <td>0</td>\n",
       "      <td>0</td>\n",
       "      <td>82</td>\n",
       "    </tr>\n",
       "    <tr>\n",
       "      <th>2</th>\n",
       "      <td>510000</td>\n",
       "      <td>600000</td>\n",
       "      <td>575000</td>\n",
       "      <td>0</td>\n",
       "      <td>0</td>\n",
       "      <td>0</td>\n",
       "      <td>597500</td>\n",
       "      <td>2</td>\n",
       "      <td>530</td>\n",
       "      <td>55</td>\n",
       "      <td>0</td>\n",
       "      <td>0</td>\n",
       "      <td>0</td>\n",
       "      <td>587</td>\n",
       "    </tr>\n",
       "    <tr>\n",
       "      <th>3</th>\n",
       "      <td>702000</td>\n",
       "      <td>805000</td>\n",
       "      <td>820000</td>\n",
       "      <td>935000</td>\n",
       "      <td>485000</td>\n",
       "      <td>0</td>\n",
       "      <td>815000</td>\n",
       "      <td>1</td>\n",
       "      <td>818</td>\n",
       "      <td>519</td>\n",
       "      <td>44</td>\n",
       "      <td>1</td>\n",
       "      <td>0</td>\n",
       "      <td>1383</td>\n",
       "    </tr>\n",
       "    <tr>\n",
       "      <th>4</th>\n",
       "      <td>0</td>\n",
       "      <td>950000</td>\n",
       "      <td>935000</td>\n",
       "      <td>1185000</td>\n",
       "      <td>2400000</td>\n",
       "      <td>1200000</td>\n",
       "      <td>970000</td>\n",
       "      <td>0</td>\n",
       "      <td>109</td>\n",
       "      <td>321</td>\n",
       "      <td>74</td>\n",
       "      <td>3</td>\n",
       "      <td>1</td>\n",
       "      <td>508</td>\n",
       "    </tr>\n",
       "    <tr>\n",
       "      <th>5</th>\n",
       "      <td>0</td>\n",
       "      <td>1730000</td>\n",
       "      <td>990000</td>\n",
       "      <td>1490000</td>\n",
       "      <td>2800000</td>\n",
       "      <td>1150000</td>\n",
       "      <td>1300000</td>\n",
       "      <td>0</td>\n",
       "      <td>3</td>\n",
       "      <td>47</td>\n",
       "      <td>40</td>\n",
       "      <td>1</td>\n",
       "      <td>1</td>\n",
       "      <td>92</td>\n",
       "    </tr>\n",
       "    <tr>\n",
       "      <th>6</th>\n",
       "      <td>0</td>\n",
       "      <td>0</td>\n",
       "      <td>1090000</td>\n",
       "      <td>2150000</td>\n",
       "      <td>1777500</td>\n",
       "      <td>0</td>\n",
       "      <td>1430000</td>\n",
       "      <td>0</td>\n",
       "      <td>0</td>\n",
       "      <td>4</td>\n",
       "      <td>7</td>\n",
       "      <td>2</td>\n",
       "      <td>0</td>\n",
       "      <td>13</td>\n",
       "    </tr>\n",
       "    <tr>\n",
       "      <th>7</th>\n",
       "      <td>0</td>\n",
       "      <td>0</td>\n",
       "      <td>1300000</td>\n",
       "      <td>2000000</td>\n",
       "      <td>0</td>\n",
       "      <td>0</td>\n",
       "      <td>1650000</td>\n",
       "      <td>0</td>\n",
       "      <td>0</td>\n",
       "      <td>1</td>\n",
       "      <td>1</td>\n",
       "      <td>0</td>\n",
       "      <td>0</td>\n",
       "      <td>2</td>\n",
       "    </tr>\n",
       "    <tr>\n",
       "      <th>8</th>\n",
       "      <td>0</td>\n",
       "      <td>0</td>\n",
       "      <td>881000</td>\n",
       "      <td>0</td>\n",
       "      <td>0</td>\n",
       "      <td>0</td>\n",
       "      <td>881000</td>\n",
       "      <td>0</td>\n",
       "      <td>0</td>\n",
       "      <td>1</td>\n",
       "      <td>0</td>\n",
       "      <td>0</td>\n",
       "      <td>0</td>\n",
       "      <td>1</td>\n",
       "    </tr>\n",
       "    <tr>\n",
       "      <th>All</th>\n",
       "      <td>610000</td>\n",
       "      <td>725000</td>\n",
       "      <td>837000</td>\n",
       "      <td>1225000</td>\n",
       "      <td>2400000</td>\n",
       "      <td>1175000</td>\n",
       "      <td>795500</td>\n",
       "      <td>3</td>\n",
       "      <td>1541</td>\n",
       "      <td>949</td>\n",
       "      <td>166</td>\n",
       "      <td>7</td>\n",
       "      <td>2</td>\n",
       "      <td>2668</td>\n",
       "    </tr>\n",
       "  </tbody>\n",
       "</table>\n",
       "</div>"
      ],
      "text/plain": [
       "          median                                                      count  \\\n",
       "Bathroom       0        1        2        3        4        5     All     0   \n",
       "Rooms                                                                         \n",
       "1              0   310000  1720000        0        0        0  310000     0   \n",
       "2         510000   600000   575000        0        0        0  597500     2   \n",
       "3         702000   805000   820000   935000   485000        0  815000     1   \n",
       "4              0   950000   935000  1185000  2400000  1200000  970000     0   \n",
       "5              0  1730000   990000  1490000  2800000  1150000 1300000     0   \n",
       "6              0        0  1090000  2150000  1777500        0 1430000     0   \n",
       "7              0        0  1300000  2000000        0        0 1650000     0   \n",
       "8              0        0   881000        0        0        0  881000     0   \n",
       "All       610000   725000   837000  1225000  2400000  1175000  795500     3   \n",
       "\n",
       "                                      \n",
       "Bathroom     1    2    3  4  5   All  \n",
       "Rooms                                 \n",
       "1           81    1    0  0  0    82  \n",
       "2          530   55    0  0  0   587  \n",
       "3          818  519   44  1  0  1383  \n",
       "4          109  321   74  3  1   508  \n",
       "5            3   47   40  1  1    92  \n",
       "6            0    4    7  2  0    13  \n",
       "7            0    1    1  0  0     2  \n",
       "8            0    1    0  0  0     1  \n",
       "All       1541  949  166  7  2  2668  "
      ]
     },
     "execution_count": 42,
     "metadata": {},
     "output_type": "execute_result"
    }
   ],
   "source": [
    "wmetro_room_pivot = pd.pivot_table(melbourne_data_df_wmetro, values='Price', index='Rooms', columns='Bathroom', \n",
    "                            aggfunc=['median', 'count'], fill_value=0, dropna=True, margins=True)\n",
    "wmetro_room_pivot.style.set_properties(**{'border-color': 'black','border-style' :'solid',\n",
    "                                          'border-width': '1px','border-collapse':'collapse'})\n",
    "wmetro_room_pivot"
   ]
  },
  {
   "cell_type": "code",
   "execution_count": 43,
   "id": "4d5b64b4",
   "metadata": {},
   "outputs": [
    {
     "data": {
      "text/plain": [
       "Text(0.5, 1.0, 'Boxplots of Price Analysis by Number of Rooms across Western Metropolitan')"
      ]
     },
     "execution_count": 43,
     "metadata": {},
     "output_type": "execute_result"
    },
    {
     "data": {
      "image/png": "[encoded data removed]",
      "text/plain": [
       "<Figure size 1080x360 with 1 Axes>"
      ]
     },
     "metadata": {
      "needs_background": "light"
     },
     "output_type": "display_data"
    }
   ],
   "source": [
    "plt.figure(figsize=(15,5))\n",
    "sns.boxplot(x=melbourne_data_df_wmetro['Rooms'],y=melbourne_data_df_wmetro['Price'])\n",
    "plt.title(\"Boxplots of Price Analysis by Number of Rooms across Western Metropolitan\")"
   ]
  },
  {
   "cell_type": "code",
   "execution_count": 44,
   "id": "e9636756",
   "metadata": {
    "scrolled": true
   },
   "outputs": [
    {
     "data": {
      "text/plain": [
       "Text(0.5, 1.0, 'Countplots by Number of Rooms across Western Metropolitan')"
      ]
     },
     "execution_count": 44,
     "metadata": {},
     "output_type": "execute_result"
    },
    {
     "data": {
      "image/png": "[encoded data removed]",
      "text/plain": [
       "<Figure size 1080x360 with 1 Axes>"
      ]
     },
     "metadata": {
      "needs_background": "light"
     },
     "output_type": "display_data"
    }
   ],
   "source": [
    "plt.figure(figsize=(15,5))\n",
    "sns.countplot(data=melbourne_data_df_wmetro,y=melbourne_data_df_wmetro['Rooms'])\n",
    "plt.title(\"Countplots by Number of Rooms across Western Metropolitan\")"
   ]
  },
  {
   "cell_type": "markdown",
   "id": "77439f58",
   "metadata": {},
   "source": [
    "Observations: <br>\n",
    "1. The highest frequency is from 3 room which has a median price of approx 800K. <br>\n",
    "2. The lowest frequency is from 6 room which has a median price around 2.35M. <br>\n",
    "3. Properties with 7 rooms has a high proportion in the upper quartile beyond the median price. <br>"
   ]
  },
  {
   "cell_type": "markdown",
   "id": "e8216254",
   "metadata": {},
   "source": [
    "### b) Analysis by Price and Bathroom in West Metropolitan"
   ]
  },
  {
   "cell_type": "code",
   "execution_count": 45,
   "id": "355e4cd5",
   "metadata": {},
   "outputs": [
    {
     "data": {
      "text/plain": [
       "Text(0.5, 1.0, 'Boxplots of Price Analysis by Number of Bathroom across Western Metropolitan')"
      ]
     },
     "execution_count": 45,
     "metadata": {},
     "output_type": "execute_result"
    },
    {
     "data": {
      "image/png": "[encoded data removed]",
      "text/plain": [
       "<Figure size 1080x360 with 1 Axes>"
      ]
     },
     "metadata": {
      "needs_background": "light"
     },
     "output_type": "display_data"
    }
   ],
   "source": [
    "# Further Analysis on Western Metropolitan\n",
    "plt.figure(figsize=(15,5))\n",
    "sns.boxplot(x=melbourne_data_df_wmetro['Bathroom'],y=melbourne_data_df_wmetro['Price'])\n",
    "plt.title(\"Boxplots of Price Analysis by Number of Bathroom across Western Metropolitan\")"
   ]
  },
  {
   "cell_type": "code",
   "execution_count": 46,
   "id": "9b22fd54",
   "metadata": {
    "scrolled": true
   },
   "outputs": [
    {
     "data": {
      "text/plain": [
       "Text(0.5, 1.0, 'Countplots by Number of Bathrooms across Western Metropolitan')"
      ]
     },
     "execution_count": 46,
     "metadata": {},
     "output_type": "execute_result"
    },
    {
     "data": {
      "image/png": "[encoded data removed]",
      "text/plain": [
       "<Figure size 1080x360 with 1 Axes>"
      ]
     },
     "metadata": {
      "needs_background": "light"
     },
     "output_type": "display_data"
    }
   ],
   "source": [
    "plt.figure(figsize=(15,5))\n",
    "sns.countplot(data=melbourne_data_df_wmetro,y=melbourne_data_df_wmetro['Bathroom'])\n",
    "plt.title(\"Countplots by Number of Bathrooms across Western Metropolitan\")"
   ]
  },
  {
   "cell_type": "markdown",
   "id": "d3f8afdd",
   "metadata": {},
   "source": [
    "Observations: <br>\n",
    "The highest frequency is from 1 bath which has a median price of 725K. <br> \n",
    "The lowest frequency is from 5 bath which has a median price around 1.2M <br> \n",
    "Properties with 4 bath has a high IQR from its median price of 2.4M."
   ]
  },
  {
   "cell_type": "markdown",
   "id": "35b13caf",
   "metadata": {},
   "source": [
    "### 1d) Property Transactions in West Metropolitan"
   ]
  },
  {
   "cell_type": "code",
   "execution_count": 47,
   "id": "e9a18b8b",
   "metadata": {},
   "outputs": [
    {
     "data": {
      "text/html": [
       "<div style=\"width:100%;\"><div style=\"position:relative;width:100%;height:0;padding-bottom:60%;\"><span style=\"color:#565656\">Make this Notebook Trusted to load map: File -> Trust Notebook</span><iframe srcdoc=\"&lt;!DOCTYPE html&gt;\n",
       "&lt;head&gt;    \n",
       "    &lt;meta http-equiv=&quot;content-type&quot; content=&quot;text/html; charset=UTF-8&quot; /&gt;\n",
       "    \n",
       "        &lt;script&gt;\n",
       "            L_NO_TOUCH = false;\n",
       "            L_DISABLE_3D = false;\n",
       "        &lt;/script&gt;\n",
       "    \n",
       "    &lt;style&gt;html, body {width: 100%;height: 100%;margin: 0;padding: 0;}&lt;/style&gt;\n",
       "    &lt;style&gt;#map {position:absolute;top:0;bottom:0;right:0;left:0;}&lt;/style&gt;\n",
       "    &lt;script src=&quot;https://cdn.jsdelivr.net/npm/leaflet@1.6.0/dist/leaflet.js&quot;&gt;&lt;/script&gt;\n",
       "    &lt;script src=&quot;https://code.jquery.com/jquery-1.12.4.min.js&quot;&gt;&lt;/script&gt;\n",
       "    &lt;script src=&quot;https://maxcdn.bootstrapcdn.com/bootstrap/3.2.0/js/bootstrap.min.js&quot;&gt;&lt;/script&gt;\n",
       "    &lt;script src=&quot;https://cdnjs.cloudflare.com/ajax/libs/Leaflet.awesome-markers/2.0.2/leaflet.awesome-markers.js&quot;&gt;&lt;/script&gt;\n",
       "    &lt;link rel=&quot;stylesheet&quot; href=&quot;https://cdn.jsdelivr.net/npm/leaflet@1.6.0/dist/leaflet.css&quot;/&gt;\n",
       "    &lt;link rel=&quot;stylesheet&quot; href=&quot;https://maxcdn.bootstrapcdn.com/bootstrap/3.2.0/css/bootstrap.min.css&quot;/&gt;\n",
       "    &lt;link rel=&quot;stylesheet&quot; href=&quot;https://maxcdn.bootstrapcdn.com/bootstrap/3.2.0/css/bootstrap-theme.min.css&quot;/&gt;\n",
       "    &lt;link rel=&quot;stylesheet&quot; href=&quot;https://maxcdn.bootstrapcdn.com/font-awesome/4.6.3/css/font-awesome.min.css&quot;/&gt;\n",
       "    &lt;link rel=&quot;stylesheet&quot; href=&quot;https://cdnjs.cloudflare.com/ajax/libs/Leaflet.awesome-markers/2.0.2/leaflet.awesome-markers.css&quot;/&gt;\n",
       "    &lt;link rel=&quot;stylesheet&quot; href=&quot;https://cdn.jsdelivr.net/gh/python-visualization/folium/folium/templates/leaflet.awesome.rotate.min.css&quot;/&gt;\n",
       "    \n",
       "            &lt;meta name=&quot;viewport&quot; content=&quot;width=device-width,\n",
       "                initial-scale=1.0, maximum-scale=1.0, user-scalable=no&quot; /&gt;\n",
       "            &lt;style&gt;\n",
       "                #map_fbf90aef547bf682a1ad05d014651d61 {\n",
       "                    position: relative;\n",
       "                    width: 100.0%;\n",
       "                    height: 100.0%;\n",
       "                    left: 0.0%;\n",
       "                    top: 0.0%;\n",
       "                }\n",
       "            &lt;/style&gt;\n",
       "        \n",
       "    &lt;script src=&quot;https://cdn.jsdelivr.net/gh/python-visualization/folium@master/folium/templates/leaflet_heat.min.js&quot;&gt;&lt;/script&gt;\n",
       "&lt;/head&gt;\n",
       "&lt;body&gt;    \n",
       "    \n",
       "            &lt;div class=&quot;folium-map&quot; id=&quot;map_fbf90aef547bf682a1ad05d014651d61&quot; &gt;&lt;/div&gt;\n",
       "        \n",
       "&lt;/body&gt;\n",
       "&lt;script&gt;    \n",
       "    \n",
       "            var map_fbf90aef547bf682a1ad05d014651d61 = L.map(\n",
       "                &quot;map_fbf90aef547bf682a1ad05d014651d61&quot;,\n",
       "                {\n",
       "                    center: [-37.8, 145.03],\n",
       "                    crs: L.CRS.EPSG3857,\n",
       "                    zoom: 12,\n",
       "                    zoomControl: true,\n",
       "                    preferCanvas: false,\n",
       "                }\n",
       "            );\n",
       "\n",
       "            \n",
       "\n",
       "        \n",
       "    \n",
       "            var tile_layer_6b90fb461df02250411ca3bb3334bb9d = L.tileLayer(\n",
       "                &quot;https://{s}.tile.openstreetmap.org/{z}/{x}/{y}.png&quot;,\n",
       "                {&quot;attribution&quot;: &quot;Data by \\u0026copy; \\u003ca href=\\&quot;http://openstreetmap.org\\&quot;\\u003eOpenStreetMap\\u003c/a\\u003e, under \\u003ca href=\\&quot;http://www.openstreetmap.org/copyright\\&quot;\\u003eODbL\\u003c/a\\u003e.&quot;, &quot;detectRetina&quot;: false, &quot;maxNativeZoom&quot;: 18, &quot;maxZoom&quot;: 18, &quot;minZoom&quot;: 0, &quot;noWrap&quot;: false, &quot;opacity&quot;: 1, &quot;subdomains&quot;: &quot;abc&quot;, &quot;tms&quot;: false}\n",
       "            ).addTo(map_fbf90aef547bf682a1ad05d014651d61);\n",
       "        \n",
       "    \n",
       "            var heat_map_639051c7c1e52e4753810ae45c87e421 = L.heatLayer(\n",
       "                [[-37.718, 144.878], [-37.7203, 144.8755], [-37.7203, 144.8755], [-37.7294, 144.888], [-37.7218, 144.8837], [-37.7273, 144.8744], [-37.7215, 144.8864], [-37.7173, 144.8872], [-37.7259, 144.8792], [-37.7239, 144.8735], [-37.7216, 144.871], [-37.7298, 144.8883], [-37.7234, 144.8792], [-37.7249, 144.8728], [-37.7217, 144.8783], [-37.7302, 144.8855], [-37.7177, 144.8787], [-37.7248, 144.8699], [-37.727, 144.887], [-37.7186, 144.876], [-37.7218, 144.8863], [-37.7269, 144.8742], [-37.7187, 144.8765], [-37.7173, 144.8796], [-37.7231, 144.8835], [-37.7263, 144.8679], [-37.7285, 144.8694], [-37.7164, 144.8792], [-37.7194, 144.8827], [-37.7231, 144.8802], [-37.72, 144.8776], [-37.7226, 144.8733], [-37.7184, 144.882], [-37.7202, 144.8797], [-37.7181, 144.8824], [-37.7169, 144.8815], [-37.7263, 144.869], [-37.72, 144.878], [-37.7261, 144.8785], [-37.7256, 144.8739], [-37.87, 144.825], [-37.8721, 144.8105], [-37.8687, 144.8197], [-37.8693, 144.8375], [-37.868, 144.8154], [-37.8681, 144.819], [-37.8702, 144.8143], [-37.8693, 144.8171], [-37.8616, 144.8116], [-37.8594, 144.817], [-37.8696, 144.827], [-37.8697, 144.8249], [-37.8734, 144.8143], [-37.8686, 144.8182], [-37.8733, 144.8147], [-37.871, 144.8185], [-37.8646, 144.827], [-37.8579, 144.8181], [-37.8678, 144.8384], [-37.8659, 144.831], [-37.8658, 144.8155], [-37.8698, 144.816], [-37.868, 144.8286], [-37.8611, 144.8114], [-37.8676, 144.8202], [-37.8655, 144.8299], [-37.868, 144.8287], [-37.8608, 144.8124], [-37.8687, 144.8268], [-37.8674, 144.8375], [-37.86, 144.8245], [-37.8672, 144.817], [-37.8583, 144.8172], [-37.8699, 144.8235], [-37.8684, 144.815], [-37.8663, 144.8387], [-37.8659, 144.822], [-37.8612, 144.8247], [-37.8653, 144.8129], [-37.8651, 144.832], [-37.868, 144.8285], [-37.871, 144.8075], [-37.8631, 144.8195], [-37.8637, 144.8365], [-37.8646, 144.8272], [-37.8388, 144.8567], [-37.8291, 144.835], [-37.8449, 144.85], [-37.8351, 144.8529], [-37.8338, 144.8562], [-37.8284, 144.8355], [-37.8267, 144.8368], [-37.8379, 144.8583], [-37.838, 144.8555], [-37.8294, 144.8378], [-37.8448, 144.8529], [-37.8449, 144.85], [-37.8397, 144.8602], [-37.8451, 144.8529], [-37.8337, 144.8554], [-37.8258, 144.8523], [-37.8345, 144.8444], [-37.8254, 144.8514], [-37.8327, 144.8451], [-37.8269, 144.8455], [-37.8391, 144.8467], [-37.8262, 144.8443], [-37.8277, 144.8385], [-37.8382, 144.8649], [-37.8423, 144.8632], [-37.8444, 144.8491], [-37.834, 144.8553], [-37.8318, 144.8388], [-37.833, 144.8494], [-37.8262, 144.8439], [-37.8393, 144.8568], [-37.8375, 144.8541], [-37.8441, 144.8505], [-37.8285, 144.8351], [-37.8332, 144.8649], [-37.7756, 144.9165], [-37.7777, 144.9195], [-37.7761, 144.9201], [-37.7777, 144.9221], [-37.7736, 144.9015], [-37.7729, 144.9179], [-37.7758, 144.9089], [-37.775, 144.9091], [-37.7776, 144.9142], [-37.7721, 144.9184], [-37.7745, 144.9093], [-37.7748, 144.929], [-37.7756, 144.9208], [-37.7759, 144.91], [-37.773, 144.9049], [-37.7807, 144.9288], [-37.7731, 144.9206], [-37.7718, 144.9066], [-37.7819, 144.9064], [-37.7738, 144.9345], [-37.7746, 144.9112], [-37.7774, 144.9186], [-37.7778, 144.9065], [-37.7766, 144.9143], [-37.7732, 144.9206], [-37.7725, 144.9146], [-37.7825, 144.9208], [-37.7731, 144.9074], [-37.781, 144.9207], [-37.7746, 144.9031], [-37.7737, 144.904], [-37.7723, 144.9094], [-37.7821, 144.9055], [-37.775, 144.932], [-37.7753, 144.9116], [-37.7791, 144.9136], [-37.7759, 144.9338], [-37.773, 144.9303], [-37.782, 144.903], [-37.78, 144.9295], [-37.7791, 144.914], [-37.7727, 144.9136], [-37.7765, 144.9114], [-37.7742, 144.906], [-37.7757, 144.9088], [-37.7734, 144.9191], [-37.7828, 144.9049], [-37.7778, 144.9261], [-37.7713, 144.9038], [-37.7712, 144.9088], [-37.7733, 144.9219], [-37.7786, 144.9141], [-37.7779, 144.9133], [-37.7744, 144.9035], [-37.7749, 144.9137], [-37.7722, 144.9117], [-37.7766, 144.9187], [-37.7779, 144.9137], [-37.7728, 144.9169], [-37.7766, 144.9185], [-37.7774, 144.928], [-37.777, 144.9176], [-37.7778, 144.9131], [-37.7722, 144.9163], [-37.7731, 144.9074], [-37.7769, 144.9138], [-37.7727, 144.9055], [-37.7778, 144.9061], [-37.7778, 144.9042], [-37.7728, 144.9076], [-37.7816, 144.9217], [-37.7825, 144.9206], [-37.7807, 144.9285], [-37.7723, 144.9094], [-37.7766, 144.9277], [-37.7775, 144.913], [-37.7765, 144.9132], [-37.7767, 144.9125], [-37.7767, 144.9124], [-37.7768, 144.9223], [-37.7738, 144.9215], [-37.7792, 144.9297], [-37.7762, 144.9174], [-37.7772, 144.9118], [-37.7774, 144.9104], [-37.7756, 144.921], [-37.7756, 144.9105], [-37.7677, 144.8674], [-37.7634, 144.8611], [-37.77, 144.8572], [-37.7706, 144.8629], [-37.7676, 144.859], [-37.7654, 144.8655], [-37.7593, 144.871], [-37.7545, 144.8736], [-37.7605, 144.8581], [-37.7591, 144.8542], [-37.7537, 144.8729], [-37.7721, 144.8576], [-37.7632, 144.8622], [-37.7519, 144.8534], [-37.7524, 144.8714], [-37.7532, 144.8766], [-37.7623, 144.8613], [-37.7627, 144.857], [-37.752, 144.854], [-37.7644, 144.8657], [-37.7664, 144.8583], [-37.758, 144.86], [-37.7681, 144.8592], [-37.7686, 144.8576], [-37.7697, 144.8657], [-37.7522, 144.8518], [-37.7639, 144.8615], [-37.7691, 144.8575], [-37.7609, 144.8639], [-37.7642, 144.8603], [-37.771, 144.8586], [-37.756, 144.8641], [-37.7649, 144.8633], [-37.7507, 144.8576], [-37.7592, 144.8681], [-37.766, 144.8596], [-37.765, 144.8578], [-37.751, 144.8571], [-37.7568, 144.8572], [-37.7573, 144.8534], [-37.7608, 144.863], [-37.7513, 144.859], [-37.7563, 144.8601], [-37.7607, 144.8581], [-37.757, 144.8566], [-37.7644, 144.8575], [-37.7584, 144.8568], [-37.7567, 144.8572], [-37.7546, 144.8585], [-37.7546, 144.857], [-37.7824, 144.8469], [-37.7839, 144.8524], [-37.785, 144.8561], [-37.7851, 144.8517], [-37.7804, 144.8481], [-37.7814, 144.847], [-37.7908, 144.8485], [-37.7865, 144.8605], [-37.788, 144.862], [-37.7924, 144.8523], [-37.7923, 144.852], [-37.7763, 144.8543], [-37.7815, 144.855], [-37.7825, 144.8545], [-37.7934, 144.8467], [-37.7799, 144.8473], [-37.7908, 144.8485], [-37.7899, 144.8515], [-37.7908, 144.8522], [-37.7827, 144.8625], [-37.7896, 144.8559], [-37.7843, 144.8472], [-37.7905, 144.8485], [-37.7948, 144.854], [-37.7775, 144.855], [-37.7761, 144.8557], [-37.7889, 144.8465], [-37.7885, 144.859], [-37.7844, 144.8523], [-37.7929, 144.8462], [-37.7585, 144.9317], [-37.7418, 144.8977], [-37.7575, 144.9298], [-37.7505, 144.8934], [-37.7578, 144.9317], [-37.7587, 144.91], [-37.7553, 144.9302], [-37.7454, 144.8987], [-37.7562, 144.9286], [-37.7495, 144.9205], [-37.7509, 144.9219], [-37.7491, 144.8917], [-37.758, 144.9311], [-37.7479, 144.8931], [-37.7544, 144.9325], [-37.7558, 144.9073], [-37.7493, 144.9112], [-37.7507, 144.8911], [-37.7528, 144.8967], [-37.7502, 144.8923], [-37.7569, 144.9256], [-37.7532, 144.9178], [-37.7406, 144.894], [-37.7534, 144.9154], [-37.7543, 144.9249], [-37.7557, 144.9222], [-37.7491, 144.9002], [-37.7447, 144.9184], [-37.7504, 144.9051], [-37.7531, 144.9059], [-37.7527, 144.8957], [-37.7502, 144.9065], [-37.7484, 144.9025], [-37.7462, 144.8953], [-37.7499, 144.9127], [-37.7508, 144.8937], [-37.7393, 144.8931], [-37.7456, 144.9059], [-37.7415, 144.8987], [-37.7484, 144.8907], [-37.7551, 144.9047], [-37.7547, 144.9107], [-37.7513, 144.8925], [-37.7527, 144.9237], [-37.7418, 144.8938], [-37.7598, 144.9128], [-37.7543, 144.9318], [-37.7403, 144.8989], [-37.7545, 144.8964], [-37.7499, 144.8927], [-37.7545, 144.9332], [-37.7486, 144.9072], [-37.7421, 144.8995], [-37.7465, 144.8983], [-37.7418, 144.8918], [-37.7515, 144.9084], [-37.7523, 144.9052], [-37.7504, 144.9138], [-37.7463, 144.8934], [-37.7468, 144.9051], [-37.7543, 144.9307], [-37.7546, 144.9134], [-37.7498, 144.9048], [-37.7461, 144.9173], [-37.7475, 144.9194], [-37.7439, 144.9195], [-37.754, 144.926], [-37.7534, 144.9242], [-37.7445, 144.9133], [-37.7555, 144.9118], [-37.7442, 144.8934], [-37.74, 144.8941], [-37.7571, 144.9335], [-37.7501, 144.9048], [-37.7547, 144.9107], [-37.746, 144.9153], [-37.7503, 144.911], [-37.7426, 144.9], [-37.7434, 144.9256], [-37.7432, 144.8947], [-37.7548, 144.9113], [-37.755, 144.9233], [-37.7461, 144.9058], [-37.7497, 144.9089], [-37.7441, 144.9041], [-37.7442, 144.9045], [-37.7393, 144.894], [-37.7444, 144.9116], [-37.7508, 144.9163], [-37.7397, 144.898], [-37.7554, 144.9127], [-37.7494, 144.921], [-37.7465, 144.91], [-37.7517, 144.9086], [-37.7523, 144.9052], [-37.7565, 144.9241], [-37.7461, 144.9079], [-37.7534, 144.9242], [-37.7546, 144.9042], [-37.7412, 144.8974], [-37.7401, 144.8923], [-37.745, 144.915], [-37.7457, 144.9061], [-37.7454, 144.928], [-37.7558, 144.9233], [-37.7582, 144.9128], [-37.7488, 144.9165], [-37.7452, 144.8941], [-37.7585, 144.9316], [-37.7417, 144.8961], [-37.7548, 144.9315], [-37.7525, 144.9232], [-37.7517, 144.9018], [-37.754, 144.9209], [-37.7475, 144.8959], [-37.7523, 144.9221], [-37.7579, 144.9114], [-37.753, 144.891], [-37.7399, 144.8964], [-37.7462, 144.8949], [-37.7543, 144.9066], [-37.7556, 144.9132], [-37.7548, 144.9098], [-37.7524, 144.9074], [-37.7541, 144.9265], [-37.7453, 144.9183], [-37.7442, 144.9249], [-37.7466, 144.8941], [-37.7566, 144.9155], [-37.752, 144.9079], [-37.757, 144.9251], [-37.7542, 144.9117], [-37.7509, 144.8922], [-37.7482, 144.908], [-37.7489, 144.9073], [-37.7451, 144.9145], [-37.7428, 144.9086], [-37.7401, 144.9013], [-37.7396, 144.902], [-37.7428, 144.9086], [-37.7388, 144.9006], [-37.7389, 144.8998], [-37.7379, 144.9022], [-37.7433, 144.9074], [-37.7364, 144.8977], [-37.7371, 144.8973], [-37.7374, 144.9006], [-37.7376, 144.8954], [-37.7955, 144.9063], [-37.7911, 144.89], [-37.7943, 144.8875], [-37.7963, 144.8853], [-37.797, 144.9051], [-37.7959, 144.8863], [-37.7958, 144.9024], [-37.7983, 144.8911], [-37.7907, 144.8924], [-37.8012, 144.8921], [-37.7907, 144.8924], [-37.7959, 144.8989], [-37.8044, 144.9064], [-37.8014, 144.8959], [-37.7919, 144.8854], [-37.7964, 144.9027], [-37.7913, 144.8879], [-37.7978, 144.8918], [-37.7906, 144.8856], [-37.7922, 144.891], [-37.7941, 144.8924], [-37.7931, 144.893], [-37.8006, 144.881], [-37.7962, 144.8851], [-37.7969, 144.9049], [-37.7949, 144.9007], [-37.7901, 144.8883], [-37.7969, 144.883], [-37.7891, 144.8912], [-37.7923, 144.8848], [-37.7948, 144.8868], [-37.8021, 144.8924], [-37.7909, 144.8884], [-37.8016, 144.9082], [-37.7975, 144.8894], [-37.8042, 144.9049], [-37.7969, 144.8852], [-37.796, 144.899], [-37.802, 144.889], [-37.8023, 144.8915], [-37.7935, 144.8893], [-37.7903, 144.891], [-37.8017, 144.8957], [-37.7881, 144.8838], [-37.7988, 144.902], [-37.8006, 144.881], [-37.7975, 144.8855], [-37.8012, 144.8924], [-37.8053, 144.9029], [-37.7976, 144.8976], [-37.7956, 144.8848], [-37.8025, 144.9073], [-37.7878, 144.8919], [-37.7903, 144.8899], [-37.7963, 144.8862], [-37.8021, 144.8976], [-37.7878, 144.8904], [-37.8022, 144.8924], [-37.7992, 144.8961], [-37.7968, 144.8887], [-37.8016, 144.9082], [-37.7903, 144.8879], [-37.7964, 144.8871], [-37.7966, 144.9016], [-37.7905, 144.8882], [-37.7962, 144.8844], [-37.7946, 144.8903], [-37.7959, 144.8901], [-37.7949, 144.9007], [-37.7922, 144.8831], [-37.795, 144.883], [-37.7899, 144.893], [-37.8059, 144.901], [-37.8012, 144.8964], [-37.7987, 144.9034], [-37.7952, 144.909], [-37.789, 144.8932], [-37.7969, 144.9042], [-37.7988, 144.9045], [-37.8001, 144.8797], [-37.7946, 144.8944], [-37.7943, 144.8875], [-37.789, 144.8932], [-37.7942, 144.8933], [-37.7942, 144.8832], [-37.8006, 144.9053], [-37.7914, 144.8957], [-37.7987, 144.8807], [-37.7958, 144.9001], [-37.7931, 144.8938], [-37.7939, 144.8846], [-37.709, 144.8925], [-37.7068, 144.8963], [-37.7071, 144.8959], [-37.709, 144.8964], [-37.7087, 144.8962], [-37.705, 144.9004], [-37.7016, 144.8974], [-37.7089, 144.8927], [-37.7076, 144.8961], [-37.704, 144.8989], [-37.7091, 144.8958], [-37.7062, 144.8978], [-37.704, 144.8984], [-37.7016, 144.8974], [-37.7311, 144.8257], [-37.7359, 144.8251], [-37.7367, 144.824], [-37.7369, 144.8252], [-37.7392, 144.8241], [-37.7392, 144.8299], [-37.7375, 144.8282], [-37.7367, 144.8246], [-37.7294, 144.8216], [-37.7382, 144.8292], [-37.7336, 144.8226], [-37.7378, 144.8264], [-37.7328, 144.8194], [-37.7334, 144.8254], [-37.7402, 144.8591], [-37.7441, 144.8503], [-37.7325, 144.8621], [-37.7424, 144.8639], [-37.7455, 144.8484], [-37.7506, 144.8689], [-37.738, 144.869], [-37.7514, 144.8731], [-37.7496, 144.8589], [-37.7482, 144.877], [-37.7425, 144.8683], [-37.7411, 144.8638], [-37.7465, 144.876], [-37.747, 144.8663], [-37.7295, 144.8644], [-37.7469, 144.8526], [-37.7504, 144.8645], [-37.7459, 144.8643], [-37.7323, 144.8683], [-37.7435, 144.8798], [-37.7434, 144.881], [-37.7293, 144.8659], [-37.7467, 144.8683], [-37.7479, 144.8805], [-37.7452, 144.8511], [-37.7338, 144.8662], [-37.7445, 144.8511], [-37.7359, 144.868], [-37.7459, 144.8788], [-37.7384, 144.8768], [-37.7453, 144.8721], [-37.7301, 144.8671], [-37.7337, 144.8617], [-37.7497, 144.8746], [-37.748, 144.863], [-37.748, 144.8696], [-37.7459, 144.8673], [-37.7502, 144.8745], [-37.7426, 144.8599], [-37.7504, 144.8594], [-37.7452, 144.8652], [-37.7517, 144.8776], [-37.749, 144.8599], [-37.7361, 144.8691], [-37.748, 144.8552], [-37.7505, 144.8657], [-37.7311, 144.8663], [-37.734, 144.8593], [-37.7393, 144.8648], [-37.7346, 144.8646], [-37.7428, 144.8536], [-37.7423, 144.869], [-37.7408, 144.8553], [-37.7394, 144.8628], [-37.7498, 144.8585], [-37.7378, 144.8705], [-37.742, 144.8523], [-37.7334, 144.8638], [-37.7381, 144.8554], [-37.7362, 144.8643], [-37.7303, 144.8636], [-37.7483, 144.85], [-37.7305, 144.8646], [-37.7444, 144.8763], [-37.7432, 144.8816], [-37.7312, 144.8685], [-37.7486, 144.8778], [-37.7368, 144.8689], [-37.7449, 144.8533], [-37.7415, 144.8668], [-37.7479, 144.8763], [-37.7487, 144.8526], [-37.7832, 144.8745], [-37.7773, 144.8725], [-37.7808, 144.8678], [-37.7833, 144.8817], [-37.7863, 144.8769], [-37.789, 144.8813], [-37.7806, 144.8714], [-37.7863, 144.881], [-37.779, 144.8832], [-37.7898, 144.8722], [-37.786, 144.871], [-37.7844, 144.8791], [-37.7838, 144.8724], [-37.7858, 144.8834], [-37.7905, 144.8762], [-37.7895, 144.8667], [-37.7882, 144.8784], [-37.79, 144.8815], [-37.7868, 144.8772], [-37.7861, 144.8791], [-37.7817, 144.8685], [-37.7885, 144.8771], [-37.7776, 144.8723], [-37.779, 144.8829], [-37.7896, 144.8752], [-37.7871, 144.8791], [-37.7813, 144.8678], [-37.7895, 144.8723], [-37.7859, 144.8787], [-37.7798, 144.8661], [-37.7905, 144.8812], [-37.7795, 144.8729], [-37.7869, 144.8749], [-37.781, 144.8813], [-37.7784, 144.8708], [-37.7795, 144.8729], [-37.787, 144.8654], [-37.7798, 144.8659], [-37.7746, 144.8727], [-37.7909, 144.8777], [-37.787, 144.8748], [-37.7831, 144.8825], [-37.7877, 144.8772], [-37.7829, 144.8684], [-37.7776, 144.8723], [-37.7824, 144.8704], [-37.7905, 144.8739], [-37.7889, 144.8787], [-37.7887, 144.8788], [-37.7844, 144.8665], [-37.7846, 144.87], [-37.7898, 144.8817], [-37.7817, 144.868], [-37.7874, 144.8763], [-37.7801, 144.869], [-37.7893, 144.8818], [-37.782, 144.8828], [-37.774, 144.8744], [-37.7865, 144.9008], [-37.763, 144.8877], [-37.7746, 144.8798], [-37.7719, 144.8815], [-37.7716, 144.882], [-37.7743, 144.8797], [-37.773, 144.8806], [-37.7679, 144.8935], [-37.7839, 144.8853], [-37.7707, 144.8924], [-37.7861, 144.8897], [-37.7818, 144.8859], [-37.768, 144.8894], [-37.7798, 144.8872], [-37.7736, 144.8798], [-37.7859, 144.8898], [-37.7823, 144.887], [-37.7662, 144.8971], [-37.7712, 144.8763], [-37.7699, 144.8791], [-37.7742, 144.8755], [-37.7665, 144.9004], [-37.7867, 144.8906], [-37.7697, 144.878], [-37.7706, 144.8805], [-37.7648, 144.8881], [-37.7833, 144.888], [-37.7691, 144.8905], [-37.7692, 144.8905], [-37.7693, 144.8905], [-37.7855, 144.8958], [-37.7752, 144.8925], [-37.7822, 144.892], [-37.7677, 144.8925], [-37.7681, 144.8979], [-37.7682, 144.8971], [-37.7732, 144.8927], [-37.7752, 144.8925], [-37.7719, 144.8767], [-37.7737, 144.8816], [-37.7853, 144.8944], [-37.7732, 144.8927], [-37.7858, 144.8937], [-37.7853, 144.8999], [-37.769, 144.8909], [-37.773, 144.8947], [-37.7732, 144.879], [-37.774, 144.8797], [-37.774, 144.877], [-37.774, 144.8797], [-37.7799, 144.8879], [-37.7713, 144.8937], [-37.7822, 144.8922], [-37.7678, 144.8899], [-37.7843, 144.8939], [-37.7817, 144.8916], [-37.7832, 144.8864], [-37.7819, 144.8901], [-37.769, 144.8935], [-37.7853, 144.8944], [-37.7853, 144.8972], [-37.7825, 144.886], [-37.7844, 144.8876], [-37.7676, 144.9009], [-37.7847, 144.8962], [-37.772, 144.8801], [-37.7848, 144.8969], [-37.7804, 144.8878], [-37.7837, 144.8888], [-37.7837, 144.8887], [-37.7689, 144.8981], [-37.7672, 144.9209], [-37.7633, 144.908], [-37.7688, 144.9054], [-37.7677, 144.9221], [-37.7617, 144.9052], [-37.77, 144.9189], [-37.7696, 144.9229], [-37.7698, 144.9214], [-37.7692, 144.9057], [-37.7617, 144.9272], [-37.7658, 144.9077], [-37.761, 144.9296], [-37.7661, 144.9076], [-37.7585, 144.928], [-37.7659, 144.9116], [-37.7694, 144.9059], [-37.769, 144.9057], [-37.7702, 144.9268], [-37.7704, 144.9199], [-37.7709, 144.9334], [-37.7701, 144.9079], [-37.7629, 144.9157], [-37.7672, 144.9209], [-37.7617, 144.9367], [-37.7632, 144.9292], [-37.7696, 144.9227], [-37.7692, 144.917], [-37.77, 144.913], [-37.7674, 144.9084], [-37.7593, 144.9276], [-37.7698, 144.9336], [-37.7639, 144.9093], [-37.7652, 144.9116], [-37.7695, 144.9092], [-37.7708, 144.9234], [-37.7701, 144.9287], [-37.7609, 144.9296], [-37.7677, 144.9221], [-37.7683, 144.9325], [-37.7715, 144.916], [-37.7615, 144.9076], [-37.7696, 144.929], [-37.7685, 144.9183], [-37.7686, 144.9068], [-37.769, 144.919], [-37.7704, 144.9083], [-37.7709, 144.9151], [-37.7625, 144.9074], [-37.7631, 144.9073], [-37.7691, 144.9321], [-37.7702, 144.9266], [-37.7699, 144.9149], [-37.7609, 144.9285], [-37.7682, 144.9151], [-37.7641, 144.9112], [-37.7711, 144.9122], [-37.7601, 144.9228], [-37.7704, 144.9292], [-37.7595, 144.9317], [-37.7597, 144.9188], [-37.7615, 144.9333], [-37.7642, 144.9195], [-37.7715, 144.9155], [-37.7608, 144.9322], [-37.7649, 144.9091], [-37.7607, 144.9314], [-37.7709, 144.9288], [-37.758, 144.9237], [-37.773, 144.9335], [-37.7701, 144.9172], [-37.7639, 144.9126], [-37.7654, 144.9094], [-37.761, 144.9262], [-37.7638, 144.9175], [-37.7631, 144.9357], [-37.7712, 144.9254], [-37.7609, 144.905], [-37.7623, 144.9211], [-37.7606, 144.9236], [-37.7624, 144.9365], [-37.7627, 144.9278], [-37.7682, 144.9058], [-37.758, 144.9237], [-37.7692, 144.9042], [-37.7613, 144.9177], [-37.7688, 144.9291], [-37.7666, 144.9184], [-37.7677, 144.92], [-37.7704, 144.9162], [-37.7609, 144.9308], [-37.7685, 144.9186], [-37.7702, 144.9091], [-37.7687, 144.9203], [-37.7693, 144.9299], [-37.7651, 144.9078], [-37.7627, 144.9141], [-37.7641, 144.9265], [-37.7652, 144.9116], [-37.7708, 144.9093], [-37.842, 144.8902], [-37.8457, 144.8651], [-37.8395, 144.8787], [-37.8477, 144.8753], [-37.846, 144.8729], [-37.8447, 144.8654], [-37.847, 144.8788], [-37.8395, 144.8825], [-37.8408, 144.8893], [-37.8416, 144.8651], [-37.841, 144.8874], [-37.8414, 144.892], [-37.834, 144.8668], [-37.8413, 144.8741], [-37.8411, 144.889], [-37.8462, 144.8944], [-37.849, 144.8907], [-37.839, 144.8765], [-37.85, 144.8914], [-37.8447, 144.8734], [-37.8446, 144.8796], [-37.8344, 144.8764], [-37.8426, 144.8731], [-37.8389, 144.8779], [-37.8432, 144.8764], [-37.8352, 144.8661], [-37.8459, 144.8877], [-37.8472, 144.8707], [-37.8421, 144.8821], [-37.8364, 144.8769], [-37.8469, 144.8872], [-37.847, 144.8734], [-37.8476, 144.8673], [-37.8356, 144.8785], [-37.8481, 144.8666], [-37.8414, 144.8922], [-37.8431, 144.8845], [-37.8456, 144.8741], [-37.8415, 144.8852], [-37.8471, 144.8769], [-37.8446, 144.8861], [-37.8472, 144.8754], [-37.8441, 144.8805], [-37.839, 144.8854], [-37.8436, 144.8691], [-37.8349, 144.8714], [-37.8413, 144.8741], [-37.8414, 144.8707], [-37.8427, 144.879], [-37.8477, 144.8706], [-37.8472, 144.8907], [-37.8463, 144.8935], [-37.8423, 144.8795], [-37.8468, 144.8912], [-37.8466, 144.8636], [-37.8366, 144.8758], [-37.8414, 144.8752], [-37.8439, 144.8715], [-37.8424, 144.8653], [-37.8426, 144.89], [-37.8435, 144.8788], [-37.8378, 144.8657], [-37.8491, 144.8903], [-37.8424, 144.8754], [-37.849, 144.8947], [-37.8422, 144.8784], [-37.8368, 144.8768], [-37.8424, 144.8653], [-37.845, 144.8873], [-37.84, 144.887], [-37.8413, 144.8741], [-37.8409, 144.8663], [-37.8501, 144.8931], [-37.8475, 144.8897], [-37.841, 144.8878], [-37.8446, 144.8859], [-37.8366, 144.8769], [-37.8468, 144.874], [-37.8417, 144.8896], [-37.8413, 144.8741], [-37.8433, 144.8725], [-37.8394, 144.8669], [-37.8366, 144.8773], [-37.8465, 144.8714], [-37.8438, 144.8806], [-37.8491, 144.8903], [-37.8469, 144.8766], [-37.8385, 144.8824], [-37.835, 144.8814], [-37.742, 144.8885], [-37.7353, 144.8907], [-37.7423, 144.8905], [-37.7467, 144.8872], [-37.7429, 144.888], [-37.7473, 144.8897], [-37.7467, 144.8906], [-37.7465, 144.8868], [-37.7335, 144.8788], [-37.7413, 144.8871], [-37.7387, 144.8827], [-37.7462, 144.8873], [-37.74, 144.8851], [-37.7415, 144.8914], [-37.7452, 144.8895], [-37.7368, 144.8856], [-37.7377, 144.888], [-37.7343, 144.8783], [-37.7449, 144.8869], [-37.7484, 144.8892], [-37.7379, 144.8854], [-37.7479, 144.8868], [-37.7424, 144.8851], [-37.7321, 144.8771], [-37.7445, 144.8834], [-37.7412, 144.8888], [-37.7317, 144.8751], [-37.7391, 144.8875], [-37.7444, 144.8847], [-37.734, 144.8785], [-37.7324, 144.8765], [-37.7389, 144.887], [-37.7357, 144.8908], [-37.7378, 144.8893], [-37.736, 144.8839], [-37.738, 144.8816], [-37.7352, 144.8845], [-37.7383, 144.8898], [-37.7328, 144.8764], [-37.7459, 144.8906], [-37.7433, 144.891], [-37.7386, 144.8902], [-37.7396, 144.8887], [-37.741, 144.8901], [-37.748, 144.8873], [-37.7449, 144.8899], [-37.74, 144.8851], [-37.736, 144.8809], [-37.7465, 144.8867], [-37.8094, 144.8869], [-37.8078, 144.8972], [-37.8033, 144.8897], [-37.8087, 144.8978], [-37.8066, 144.887], [-37.8038, 144.8896], [-37.8097, 144.8987], [-37.8033, 144.8897], [-37.8087, 144.8952], [-37.8066, 144.8853], [-37.8045, 144.8898], [-37.8052, 144.8883], [-37.8052, 144.8941], [-37.8057, 144.8857], [-37.8093, 144.8941], [-37.8037, 144.8874], [-37.807, 144.898], [-37.8086, 144.8927], [-37.8044, 144.8941], [-37.8065, 144.8866], [-37.8034, 144.8855], [-37.8037, 144.8893], [-37.8051, 144.8858], [-37.8103, 144.8962], [-37.8083, 144.8896], [-37.8078, 144.8846], [-37.8075, 144.8909], [-37.8084, 144.8907], [-37.809, 144.8865], [-37.8087, 144.8978], [-37.8042, 144.892], [-37.8057, 144.8882], [-37.8047, 144.8948], [-37.8066, 144.8971], [-37.8067, 144.8934], [-37.8082, 144.8928], [-37.8064, 144.8944], [-37.8039, 144.8929], [-37.8059, 144.8899], [-37.8032, 144.8892], [-37.81, 144.8896], [-37.8078, 144.8979], [-37.8272, 144.8789], [-37.831, 144.8884], [-37.8333, 144.8868], [-37.8263, 144.8775], [-37.8302, 144.8885], [-37.8279, 144.874], [-37.8282, 144.8856], [-37.8284, 144.8861], [-37.8309, 144.889], [-37.8255, 144.8709], [-37.8261, 144.8718], [-37.829, 144.8807], [-37.8261, 144.872], [-37.8248, 144.8707], [-37.8279, 144.873], [-37.8277, 144.8841], [-37.8248, 144.8717], [-37.8267, 144.8779], [-37.8284, 144.8861], [-37.7356, 144.9242], [-37.7207, 144.9073], [-37.7196, 144.9062], [-37.7367, 144.9204], [-37.7369, 144.9251], [-37.7411, 144.9262], [-37.7378, 144.9168], [-37.7439, 144.9331], [-37.7346, 144.9204], [-37.7354, 144.9128], [-37.7436, 144.9308], [-37.7386, 144.917], [-37.7337, 144.9184], [-37.7189, 144.9036], [-37.7261, 144.9171], [-37.7217, 144.9074], [-37.7376, 144.9154], [-37.7298, 144.9162], [-37.7302, 144.9167], [-37.7427, 144.9226], [-37.7319, 144.9195], [-37.7345, 144.9196], [-37.7317, 144.9177], [-37.734, 144.9145], [-37.7363, 144.9208], [-37.7417, 144.9133], [-37.7245, 144.9097], [-37.736, 144.9202], [-37.7296, 144.9234], [-37.7303, 144.9198], [-37.7273, 144.917], [-37.7373, 144.9217], [-37.7413, 144.9163], [-37.7225, 144.9055], [-37.7416, 144.9204], [-37.735, 144.9203], [-37.7234, 144.9077], [-37.7225, 144.9055], [-37.7373, 144.9155], [-37.7952, 144.8262], [-37.7809, 144.8424], [-37.7933, 144.8411], [-37.7853, 144.843], [-37.7878, 144.8369], [-37.7877, 144.8398], [-37.7796, 144.8426], [-37.7886, 144.8438], [-37.7794, 144.8395], [-37.7864, 144.8353], [-37.7802, 144.8374], [-37.7876, 144.8342], [-37.7966, 144.8252], [-37.7933, 144.8408], [-37.7796, 144.8372], [-37.7932, 144.8434], [-37.7939, 144.8261], [-37.7801, 144.8412], [-37.7831, 144.842], [-37.7807, 144.842], [-37.7895, 144.8385], [-37.7918, 144.8419], [-37.7949, 144.8303], [-37.7923, 144.8289], [-37.7793, 144.8427], [-37.7796, 144.845], [-37.7821, 144.8456], [-37.7795, 144.8432], [-37.7807, 144.8341], [-37.7906, 144.8387], [-37.7818, 144.8393], [-37.7933, 144.8409], [-37.7912, 144.8439], [-37.7877, 144.838], [-37.7851, 144.8434], [-37.7892, 144.8432], [-37.8005, 144.822], [-37.7796, 144.8455], [-37.7892, 144.827], [-37.7938, 144.8322], [-37.7804, 144.8425], [-37.7953, 144.8332], [-37.7952, 144.8302], [-37.7824, 144.8414], [-37.7938, 144.8321], [-37.7809, 144.8467], [-37.7918, 144.8268], [-37.7866, 144.841], [-37.7945, 144.8267], [-37.7919, 144.8394], [-37.7883, 144.8439], [-37.7798, 144.8352], [-37.7893, 144.8437], [-37.7881, 144.8354], [-37.7969, 144.8276], [-37.7952, 144.8325], [-37.7922, 144.8283], [-37.7905, 144.8359], [-37.7956, 144.8292], [-37.7817, 144.8448], [-37.7856, 144.8177], [-37.7905, 144.836], [-37.7813, 144.8394], [-37.7842, 144.843], [-37.793, 144.8283], [-37.7943, 144.8319], [-37.7815, 144.8423], [-37.7956, 144.826], [-37.7843, 144.8392], [-37.7863, 144.8401], [-37.7939, 144.8283], [-37.7903, 144.8387], [-37.783, 144.8405], [-37.7982, 144.823], [-37.7889, 144.8362], [-37.7896, 144.8369], [-37.7836, 144.8408], [-37.7794, 144.8347], [-37.7867, 144.8437], [-37.7796, 144.8384], [-37.7905, 144.8414], [-37.7925, 144.8282], [-37.7694, 144.8321], [-37.7692, 144.8348], [-37.7781, 144.8451], [-37.7669, 144.8308], [-37.7754, 144.846], [-37.7555, 144.8295], [-37.7689, 144.8402], [-37.7748, 144.833], [-37.7667, 144.8445], [-37.7683, 144.8316], [-37.7712, 144.8336], [-37.7749, 144.8313], [-37.758, 144.8256], [-37.7756, 144.8345], [-37.7695, 144.8347], [-37.7751, 144.8342], [-37.774, 144.8443], [-37.7651, 144.8241], [-37.771, 144.8428], [-37.7727, 144.8417], [-37.7692, 144.8246], [-37.7705, 144.8307], [-37.7661, 144.8396], [-37.7675, 144.8414], [-37.7683, 144.8314], [-37.7724, 144.8413], [-37.7661, 144.84], [-37.7674, 144.8362], [-37.7693, 144.8351], [-37.7696, 144.84], [-37.7602, 144.8316], [-37.7665, 144.8358], [-37.7652, 144.8376], [-37.7706, 144.8422], [-37.7704, 144.8384], [-37.769, 144.8441], [-37.7698, 144.8362], [-37.7623, 144.8272], [-37.7676, 144.8339], [-37.7719, 144.8414], [-37.7749, 144.8329], [-37.757, 144.8313], [-37.7708, 144.8401], [-37.7682, 144.8335], [-37.7743, 144.8425], [-37.7699, 144.8422], [-37.7741, 144.8354], [-37.8004, 144.8105], [-37.7952, 144.8126], [-37.7906, 144.7929], [-37.7969, 144.8086], [-37.7967, 144.8083], [-37.7939, 144.8091], [-37.7917, 144.8196], [-37.786, 144.815], [-37.7905, 144.8073], [-37.7905, 144.8033], [-37.7891, 144.8152], [-37.7981, 144.7936], [-37.7968, 144.8142], [-37.7942, 144.8112], [-37.7853, 144.8114], [-37.7897, 144.7964], [-37.7904, 144.8133], [-37.7871, 144.8083], [-37.7872, 144.7975], [-37.7928, 144.804], [-37.7913, 144.802], [-37.7836, 144.7988], [-37.7841, 144.8052], [-37.7902, 144.8102], [-37.7901, 144.8068], [-37.7916, 144.82], [-37.796, 144.8108], [-37.789, 144.8195], [-37.7968, 144.8086], [-37.7845, 144.8131], [-37.791, 144.7925], [-37.7891, 144.823], [-37.7896, 144.8018], [-37.7913, 144.7889], [-37.8003, 144.8097], [-37.7892, 144.8137], [-37.7968, 144.7991], [-37.7887, 144.8231], [-37.7847, 144.8146], [-37.7914, 144.7918], [-37.7921, 144.8234], [-37.7894, 144.8027], [-37.7886, 144.8138], [-37.7987, 144.8196], [-37.7843, 144.8052], [-37.8018, 144.8246], [-37.7951, 144.8213], [-37.7963, 144.8046], [-37.7904, 144.7999], [-37.8004, 144.8138], [-37.8023, 144.8227], [-37.7912, 144.8215], [-37.7907, 144.821], [-37.7913, 144.8122], [-37.7966, 144.7928], [-37.8022, 144.8235], [-37.855, 144.8905], [-37.8613, 144.8988], [-37.8681, 144.8994], [-37.8663, 144.8883], [-37.8517, 144.8923], [-37.8652, 144.9019], [-37.8615, 144.8827], [-37.857, 144.8906], [-37.8633, 144.8963], [-37.8609, 144.8947], [-37.8671, 144.8875], [-37.8595, 144.8868], [-37.8679, 144.899], [-37.8661, 144.8973], [-37.8588, 144.8919], [-37.8578, 144.8799], [-37.8644, 144.9039], [-37.8613, 144.8939], [-37.8581, 144.9015], [-37.8581, 144.9011], [-37.8571, 144.8915], [-37.8623, 144.8884], [-37.8513, 144.8961], [-37.8647, 144.8867], [-37.8658, 144.8857], [-37.8643, 144.8935], [-37.8695, 144.9009], [-37.8623, 144.8884], [-37.8634, 144.8796], [-37.8667, 144.903], [-37.8571, 144.8767], [-37.8536, 144.899], [-37.8536, 144.8981], [-37.8544, 144.8922], [-37.857, 144.891], [-37.8608, 144.8803], [-37.8621, 144.8872], [-37.8525, 144.8945], [-37.8573, 144.8911], [-37.858, 144.9005], [-37.8504, 144.8924], [-37.8643, 144.9043], [-37.853, 144.8928], [-37.8587, 144.8871], [-37.8617, 144.8799], [-37.8516, 144.8949], [-37.8601, 144.8879], [-37.8593, 144.8881], [-37.8664, 144.9072], [-37.8519, 144.8968], [-37.8563, 144.8995], [-37.8612, 144.8971], [-37.8666, 144.9058], [-37.8551, 144.8959], [-37.86, 144.895], [-37.8586, 144.8937], [-37.8645, 144.8977], [-37.8555, 144.8952], [-37.8656, 144.9039], [-37.855, 144.8985], [-37.8605, 144.8998], [-37.8592, 144.888], [-37.8576, 144.8992], [-37.8621, 144.8999], [-37.8615, 144.9023], [-37.8671, 144.9001], [-37.8638, 144.8798], [-37.8586, 144.8933], [-37.8563, 144.8782], [-37.8564, 144.8864], [-37.8561, 144.8859], [-37.8571, 144.8841], [-37.8573, 144.8854], [-37.8559, 144.8785], [-37.8564, 144.8864], [-37.8536, 144.8734], [-37.8571, 144.8841], [-37.8546, 144.8762], [-37.8228, 144.8799], [-37.8149, 144.8707], [-37.8176, 144.8911], [-37.8175, 144.8879], [-37.8187, 144.8771], [-37.8108, 144.8899], [-37.8167, 144.8965], [-37.8175, 144.8964], [-37.8113, 144.8955], [-37.82, 144.891], [-37.8209, 144.8913], [-37.8159, 144.8626], [-37.8139, 144.8741], [-37.8228, 144.8833], [-37.8154, 144.8917], [-37.8115, 144.8875], [-37.8198, 144.8839], [-37.8217, 144.8842], [-37.8175, 144.8929], [-37.8156, 144.8943], [-37.8182, 144.8727], [-37.8197, 144.8875], [-37.8184, 144.8809], [-37.8157, 144.887], [-37.8186, 144.8736], [-37.819, 144.895], [-37.8128, 144.8695], [-37.8129, 144.8952], [-37.8197, 144.8957], [-37.8124, 144.8875], [-37.8102, 144.8857], [-37.822, 144.89], [-37.8126, 144.8905], [-37.8104, 144.8867], [-37.8133, 144.8865], [-37.8153, 144.8796], [-37.8143, 144.8865], [-37.8173, 144.894], [-37.8128, 144.8953], [-37.8164, 144.8869], [-37.8148, 144.8884], [-37.8201, 144.872], [-37.8173, 144.894], [-37.8193, 144.8753], [-37.8106, 144.8957], [-37.8151, 144.8638], [-37.8188, 144.8884], [-37.815, 144.8827], [-37.8134, 144.8745], [-37.8194, 144.8826], [-37.8212, 144.8887], [-37.8183, 144.8666], [-37.8111, 144.887], [-37.8202, 144.8896], [-37.8196, 144.8839], [-37.8152, 144.8703], [-37.824, 144.8805], [-37.8197, 144.8969], [-37.8177, 144.8711], [-37.8222, 144.8956], [-37.8184, 144.8904], [-37.815, 144.8968], [-37.8157, 144.8925], [-37.8099, 144.8859], [-37.8108, 144.888], [-37.8159, 144.8795], [-37.8224, 144.8818], [-37.8102, 144.8885], [-37.8225, 144.8814], [-37.8146, 144.8692], [-37.8202, 144.883], [-37.8195, 144.8973], [-37.8117, 144.8873], [-37.8198, 144.8904], [-37.8127, 144.8965], [-37.8171, 144.8753], [-37.8119, 144.868], [-37.8179, 144.8908], [-37.8214, 144.8796], [-37.8186, 144.8764], [-37.8209, 144.8896], [-37.811, 144.8844], [-37.816, 144.8936], [-37.8172, 144.8919], [-37.8177, 144.8839], [-37.8172, 144.8676], [-37.8223, 144.8779], [-37.8137, 144.8636], [-37.8191, 144.8909], [-37.815, 144.8928], [-37.823, 144.8768], [-37.8182, 144.8846], [-37.8123, 144.8888], [-37.8234, 144.8742], [-37.8131, 144.8778], [-37.8185, 144.8812], [-37.8122, 144.8965], [-37.8172, 144.8924], [-37.822, 144.8904], [-37.8145, 144.8804], [-37.8196, 144.8836], [-37.8124, 144.8957], [-37.7561, 144.9028], [-37.7606, 144.8909], [-37.7589, 144.897], [-37.7557, 144.9037], [-37.757, 144.896], [-37.7614, 144.8925], [-37.7617, 144.8987], [-37.7591, 144.8923], [-37.7637, 144.8931], [-37.7642, 144.895], [-37.7614, 144.8953], [-37.7632, 144.898], [-37.7587, 144.9015], [-37.7626, 144.8954], [-37.7557, 144.8966], [-37.7604, 144.9062], [-37.759, 144.9015], [-37.7603, 144.8921], [-37.7559, 144.8991], [-37.7614, 144.8953], [-37.7606, 144.8973], [-37.7617, 144.8956], [-37.7584, 144.8968], [-37.7553, 144.8996], [-37.76, 144.9002], [-37.7548, 144.8915], [-37.7609, 144.8905], [-37.7552, 144.8882], [-37.7518, 144.8897], [-37.7494, 144.8848], [-37.755, 144.8848], [-37.7517, 144.8873], [-37.7535, 144.8868], [-37.7537, 144.8856], [-37.7535, 144.8836], [-37.7527, 144.8824], [-37.7497, 144.8867], [-37.7576, 144.889], [-37.7532, 144.8848], [-37.7513, 144.8845], [-37.75, 144.8858], [-37.7527, 144.8851], [-37.7493, 144.8901], [-37.7522, 144.883], [-37.7577, 144.8892], [-37.7519, 144.883], [-37.8115, 144.8763], [-37.8108, 144.8819], [-37.8046, 144.8831], [-37.8118, 144.8801], [-37.8083, 144.8841], [-37.8118, 144.8783], [-37.8123, 144.8805], [-37.8058, 144.8846], [-37.8086, 144.8824], [-37.8083, 144.8775], [-37.8068, 144.8782], [-37.812, 144.8804], [-37.81, 144.8786], [-37.8079, 144.8825], [-37.8039, 144.8849], [-37.8096, 144.874], [-37.8078, 144.8825], [-37.8085, 144.8802], [-37.8066, 144.8811], [-37.8089, 144.8788], [-37.7955, 144.8784], [-37.8053, 144.8681], [-37.7933, 144.876], [-37.7914, 144.8742], [-37.7917, 144.8688], [-37.7958, 144.8645], [-37.7906, 144.8687], [-37.7926, 144.8639], [-37.7916, 144.8673], [-37.7903, 144.8639], [-37.809, 144.8686], [-37.7964, 144.8672], [-37.7992, 144.8772], [-37.7952, 144.8749], [-37.8095, 144.869], [-37.7926, 144.8809], [-37.806, 144.8674], [-37.8066, 144.8666], [-37.809, 144.8686], [-37.8067, 144.8761], [-37.7914, 144.8812], [-37.8067, 144.8678], [-37.7941, 144.881], [-37.7968, 144.8735], [-37.7937, 144.8732], [-37.7915, 144.8733], [-37.791, 144.8658], [-37.8001, 144.877], [-37.8038, 144.8679], [-37.7913, 144.8689], [-37.7995, 144.8794], [-37.7956, 144.8641], [-37.7908, 144.8793], [-37.7919, 144.8793], [-37.7991, 144.879], [-37.8004, 144.8647], [-37.8008, 144.8665], [-37.7958, 144.8774], [-37.7911, 144.8821], [-37.8009, 144.8653], [-37.7908, 144.8717], [-37.79, 144.867], [-37.7923, 144.8814], [-37.8058, 144.875], [-37.8021, 144.8629], [-37.7905, 144.8714], [-37.7936, 144.8639], [-37.8067, 144.8707], [-37.7991, 144.8768], [-37.7993, 144.8794], [-37.7978, 144.8743], [-37.7912, 144.868], [-37.796, 144.8728], [-37.796, 144.8634], [-37.7956, 144.8762], [-37.8019, 144.8663], [-37.8107, 144.8666], [-37.7966, 144.8716], [-37.7943, 144.8741], [-37.8079, 144.8684], [-37.7937, 144.8782], [-37.7908, 144.8711], [-37.7901, 144.8682], [-37.7812, 144.8121], [-37.7801, 144.8121], [-37.7778, 144.818], [-37.7792, 144.8117], [-37.7825, 144.8221], [-37.7801, 144.8229], [-37.7836, 144.8256], [-37.7835, 144.8176], [-37.7765, 144.8175], [-37.7795, 144.8204], [-37.7842, 144.8175], [-37.7852, 144.8272], [-37.7761, 144.8164], [-37.7796, 144.8252], [-37.7795, 144.8196], [-37.7848, 144.8231], [-37.7808, 144.8186], [-37.7817, 144.8159], [-37.7806, 144.8159], [-37.7789, 144.8209], [-37.7809, 144.8228], [-37.7833, 144.8266], [-37.7813, 144.8234], [-37.7839, 144.8239], [-37.8203, 144.8386], [-37.8226, 144.8392], [-37.8239, 144.8431], [-37.8305, 144.8736], [-37.8289, 144.8671], [-37.8321, 144.8736], [-37.8307, 144.8725], [-37.834, 144.8757], [-37.8303, 144.8705], [-37.8298, 144.8679], [-37.8331, 144.8715], [-37.8268, 144.8675], [-37.8262, 144.8677], [-37.8315, 144.8693], [-37.8288, 144.8681], [-37.8337, 144.8739], [-37.8317, 144.8713], [-37.7141, 144.8995], [-37.7137, 144.8987], [-37.715, 144.8966], [-37.7156, 144.8975], [-37.7115, 144.8966], [-37.7822, 144.9342], [-37.7813, 144.9371], [-37.7778, 144.9346], [-37.7818, 144.9374], [-37.7796, 144.935], [-37.7847, 144.9383], [-37.8628, 144.8468], [-37.864, 144.8437], [-37.8664, 144.8416], [-37.725, 144.8586], [-37.7251, 144.8621], [-37.7216, 144.8605], [-37.7243, 144.8533], [-37.7221, 144.8578], [-37.7259, 144.8579], [-37.7231, 144.8602], [-37.7226, 144.8569], [-37.7169, 144.8582], [-37.7263, 144.8584], [-37.7212, 144.8545], [-37.7212, 144.8598], [-37.7574, 144.8959], [-37.762, 144.8916], [-37.7564, 144.9043], [-37.7595, 144.8993], [-37.8326, 144.8594], [-37.8367, 144.8425], [-37.8322, 144.8399], [-37.7822, 144.9065], [-37.7756, 144.9148], [-37.7761, 144.9165], [-37.7774, 144.904], [-37.7715, 144.9088], [-37.7721, 144.9184], [-37.7831, 144.9209], [-37.781, 144.9095], [-37.7808, 144.9083], [-37.7721, 144.9113], [-37.7737, 144.9166], [-37.7804, 144.9284], [-37.7593, 144.8561], [-37.7532, 144.8548], [-37.7678, 144.8568], [-37.7522, 144.8659], [-37.7565, 144.8652], [-37.7574, 144.8574], [-37.7619, 144.866], [-37.7854, 144.8463], [-37.7888, 144.8511], [-37.782, 144.8528], [-37.7904, 144.8514], [-37.7894, 144.8463], [-37.7759, 144.8552], [-37.783, 144.855], [-37.749, 144.9067], [-37.7573, 144.9221], [-37.7445, 144.9054], [-37.7459, 144.8962], [-37.7558, 144.9106], [-37.7427, 144.898], [-37.7485, 144.9036], [-37.7537, 144.917], [-37.7526, 144.9089], [-37.7491, 144.8968], [-37.7459, 144.9159], [-37.755, 144.9272], [-37.7577, 144.9267], [-37.7552, 144.9211], [-37.7469, 144.9206], [-37.7495, 144.9157], [-37.7471, 144.9157], [-37.7457, 144.8912], [-37.7478, 144.912], [-37.7547, 144.9239], [-37.7514, 144.8966], [-37.7496, 144.892], [-37.7465, 144.91], [-37.7504, 144.8957], [-37.7544, 144.8986], [-37.7515, 144.9125], [-37.7578, 144.9134], [-37.7949, 144.9007], [-37.7951, 144.8861], [-37.7961, 144.89], [-37.7883, 144.884], [-37.796, 144.8819], [-37.7942, 144.8934], [-37.7939, 144.8936], [-37.7951, 144.8901], [-37.7953, 144.8957], [-37.7971, 144.8883], [-37.7947, 144.8871], [-37.7936, 144.8905], [-37.7977, 144.904], [-37.7358, 144.8217], [-37.7279, 144.8224], [-37.7473, 144.8555], [-37.7322, 144.8722], [-37.7308, 144.8664], [-37.7346, 144.8584], [-37.7475, 144.852], [-37.746, 144.8651], [-37.7486, 144.8565], [-37.7466, 144.8707], [-37.7426, 144.868], [-37.7388, 144.8767], [-37.7317, 144.8619], [-37.8082, 144.8828], [-37.8105, 144.8803], [-37.8083, 144.8754], [-37.7858, 144.8757], [-37.7876, 144.8752], [-37.7887, 144.8828], [-37.7794, 144.872], [-37.7825, 144.8833], [-37.7835, 144.8723], [-37.785, 144.8673], [-37.7794, 144.872], [-37.7844, 144.8758], [-37.7851, 144.8654], [-37.7722, 144.8807], [-37.7637, 144.8843], [-37.7641, 144.8885], [-37.7605, 144.9071], [-37.7709, 144.9338], [-37.7679, 144.9245], [-37.7663, 144.9098], [-37.7627, 144.9047], [-37.7686, 144.912], [-37.7675, 144.92], [-37.773, 144.9332], [-37.7644, 144.9061], [-37.7595, 144.9255], [-37.7589, 144.9184], [-37.7611, 144.9095], [-37.7692, 144.9353], [-37.7619, 144.9083], [-37.7641, 144.9073], [-37.7616, 144.9284], [-37.7679, 144.9245], [-37.767, 144.9108], [-37.7615, 144.9094], [-37.7685, 144.9294], [-37.8433, 144.8774], [-37.8439, 144.8733], [-37.836, 144.8784], [-37.8425, 144.8766], [-37.8485, 144.8909], [-37.8457, 144.8924], [-37.8437, 144.8809], [-37.844, 144.889], [-37.8415, 144.884], [-37.8334, 144.8673], [-37.8437, 144.865], [-37.8389, 144.8666], [-37.8496, 144.8868], [-37.8497, 144.8903], [-37.8339, 144.8716], [-37.8358, 144.8803], [-37.8415, 144.8698], [-37.837, 144.8772], [-37.8477, 144.8903], [-37.8481, 144.8721], [-37.8431, 144.8919], [-37.8402, 144.8886], [-37.8464, 144.865], [-37.7375, 144.8885], [-37.7421, 144.8851], [-37.7356, 144.8859], [-37.738, 144.8865], [-37.7436, 144.8856], [-37.736, 144.8771], [-37.7473, 144.8905], [-37.7343, 144.8824], [-37.7355, 144.8874], [-37.7418, 144.8833], [-37.7368, 144.8886], [-37.736, 144.8886], [-37.7356, 144.8799], [-37.8026, 144.8882], [-37.8077, 144.8883], [-37.8052, 144.8879], [-37.8053, 144.8967], [-37.8046, 144.891], [-37.7199, 144.9044], [-37.7229, 144.9055], [-37.7345, 144.9228], [-37.7189, 144.9044], [-37.7192, 144.9045], [-37.7296, 144.9225], [-37.7253, 144.9146], [-37.7966, 144.8256], [-37.7866, 144.8458], [-37.7918, 144.8419], [-37.7867, 144.8437], [-37.7803, 144.8415], [-37.7988, 144.822], [-37.785, 144.8383], [-37.7811, 144.8373], [-37.7875, 144.8456], [-37.7894, 144.8383], [-37.7954, 144.8246], [-37.7868, 144.8428], [-37.7743, 144.8446], [-37.7549, 144.8304], [-37.771, 144.8389], [-37.7662, 144.8383], [-37.7676, 144.8307], [-37.7886, 144.821], [-37.7997, 144.7968], [-37.7962, 144.8064], [-37.8017, 144.8258], [-37.7912, 144.7979], [-37.7889, 144.8047], [-37.79, 144.7886], [-37.7845, 144.8088], [-37.7928, 144.8068], [-37.798, 144.8728], [-37.8088, 144.8715], [-37.8109, 144.8684], [-37.7968, 144.8708], [-37.7971, 144.8703], [-37.804, 144.8772], [-37.7928, 144.8811], [-37.7969, 144.8647], [-37.7994, 144.8763], [-37.7916, 144.8762], [-37.7963, 144.8801], [-37.8062, 144.8665], [-37.7916, 144.8715], [-37.7903, 144.8703], [-37.7961, 144.8815], [-37.7968, 144.8735], [-37.7922, 144.8818], [-37.7955, 144.8713], [-37.798, 144.8672], [-37.861, 144.8985], [-37.8575, 144.8922], [-37.8622, 144.8884], [-37.8536, 144.8981], [-37.8526, 144.895], [-37.8651, 144.8986], [-37.8602, 144.8997], [-37.8629, 144.8781], [-37.8579, 144.8786], [-37.8589, 144.8921], [-37.8546, 144.8883], [-37.8685, 144.9058], [-37.8588, 144.8919], [-37.8566, 144.8737], [-37.8629, 144.8896], [-37.8617, 144.8786], [-37.8657, 144.8942], [-37.8143, 144.8883], [-37.8227, 144.8827], [-37.8167, 144.888], [-37.8178, 144.8752], [-37.8226, 144.8842], [-37.8157, 144.8925], [-37.8128, 144.8905], [-37.8194, 144.8914], [-37.8195, 144.8766], [-37.8228, 144.8769], [-37.8161, 144.8967], [-37.813, 144.8703], [-37.8128, 144.8953], [-37.8184, 144.872], [-37.8181, 144.8882], [-37.8122, 144.8671], [-37.812, 144.8865], [-37.8227, 144.8955], [-37.8167, 144.8936], [-37.8212, 144.8937], [-37.8158, 144.8707], [-37.811, 144.8889], [-37.8149, 144.8942], [-37.8145, 144.8808], [-37.8097, 144.8906], [-37.8105, 144.8952], [-37.8233, 144.8825], [-37.7203, 144.8757], [-37.7284, 144.8874], [-37.7251, 144.8785], [-37.7191, 144.8857], [-37.7216, 144.8837], [-37.7776, 144.8167], [-37.7832, 144.8275], [-37.7841, 144.8169], [-37.7798, 144.8156], [-37.7849, 144.8272], [-37.7765, 144.8123], [-37.7815, 144.8128], [-37.864, 144.8161], [-37.8712, 144.8107], [-37.8718, 144.819], [-37.8701, 144.8209], [-37.8707, 144.8076], [-37.8678, 144.816], [-37.8241, 144.8419], [-37.7372, 144.9022], [-37.7417, 144.9079], [-37.743, 144.9084], [-37.7039, 144.8986], [-37.7055, 144.8943], [-37.7071, 144.8989], [-37.7088, 144.8938], [-37.721, 144.8584], [-37.724, 144.8514], [-37.8287, 144.8705], [-37.8288, 144.8711], [-37.8303, 144.8679], [-37.8289, 144.8718], [-37.8288, 144.8711], [-37.826, 144.8769], [-37.8291, 144.8848], [-37.8312, 144.8893], [-37.8297, 144.8752], [-37.8573, 144.8854], [-37.857, 144.8846], [-37.8538, 144.8722], [-37.8565, 144.8865], [-37.8559, 144.8764], [-37.857, 144.8846], [-37.855, 144.8742], [-37.7506, 144.8891], [-37.7523, 144.8862], [-37.7847, 144.9383], [-37.71655, 144.88155], [-37.72274, 144.88002], [-37.77917, 144.82223], [-37.8265, 144.84386], [-37.76215, 144.85986], [-37.76616, 144.8575], [-37.7331, 144.76282], [-37.75107, 144.78415], [-37.74397, 144.73472], [-37.74664, 144.92285], [-37.75515, 144.92114], [-37.7401, 144.89674], [-37.75121, 144.91326], [-37.75403, 144.8867], [-37.75148, 144.88519], [-37.80141, 144.89587], [-37.68541, 144.88471], [-37.68455, 144.73272], [-37.71424, 144.7958], [-37.72321, 144.80882], [-37.73893, 144.87661], [-37.70115, 144.80144], [-37.73341, 144.77161], [-37.731, 144.77387], [-37.80781, 144.88083], [-37.80893, 144.87878], [-37.77757, 144.87232], [-37.78775, 144.87446], [-37.78284, 144.88098], [-37.769, 144.89934], [-37.77019, 144.92691], [-37.75782, 144.92088], [-37.76121, 144.92525], [-37.84026, 144.86667], [-37.84522, 144.86516], [-37.89467, 144.72018], [-37.73289, 144.66615], [-37.80601, 144.89663], [-37.80697, 144.8928], [-37.73074, 144.78925], [-37.7627, 144.81107], [-37.7404, 144.90835], [-37.59501, 144.70069], [-37.57282, 144.70553], [-37.58689, 144.72865], [-37.79408, 144.82614], [-37.77176, 144.84062], [-37.7875, 144.80984], [-37.84123, 144.69649], [-37.83867, 144.7034], [-37.71071, 144.74962], [-37.70308, 144.79954], [-37.84219, 144.71155], [-37.70367, 144.88081], [-37.69048, 144.87312], [-37.88688, 144.67244], [-37.8967, 144.65264], [-37.91165, 144.67241], [-37.79644, 144.86388], [-37.79205, 144.87142], [-37.8543, 144.74437], [-37.89757, 144.63041], [-37.81789, 144.86744], [-37.81381, 144.87438], [-37.82004, 144.87174], [-37.75571, 144.90366], [-37.72207, 144.87905], [-37.72265, 144.8793], [-37.72623, 144.86773], [-37.72649, 144.88489], [-37.77917, 144.81407], [-37.86444, 144.82304], [-37.83012, 144.84818], [-37.77206, 144.90397], [-37.77222, 144.85412], [-37.76848, 144.86294], [-37.76189, 144.78517], [-37.72484, 144.74296], [-37.74125, 144.89502], [-37.75582, 144.91061], [-37.75472, 144.92723], [-37.7525, 144.90417], [-37.75126, 144.89558], [-37.75284, 144.90975], [-37.75511, 144.90935], [-37.78895, 144.89014], [-37.8021, 144.9075], [-37.68811, 144.74999], [-37.86515, 144.66671], [-37.86852, 144.68039], [-37.84931, 144.6942], [-37.87498, 144.69617], [-37.72188, 144.81489], [-37.72544, 144.85259], [-37.80742, 144.88297], [-37.77518, 144.89254], [-37.7833, 144.89717], [-37.76086, 144.90497], [-37.76919, 144.91186], [-37.76856, 144.90577], [-37.74103, 144.88496], [-37.87793, 144.75626], [-37.8642, 144.84257], [-37.80779, 144.88887], [-37.83137, 144.86731], [-37.7377, 144.91896], [-37.73519, 144.92374], [-37.57456, 144.71548], [-37.57686, 144.71023], [-37.79067, 144.83804], [-37.7756, 144.84235], [-37.79414, 144.81855], [-37.71594, 144.7415], [-37.6943, 144.78187], [-37.69408, 144.77861], [-37.69403, 144.79418], [-37.68837, 144.87122], [-37.89568, 144.65733], [-37.90811, 144.64373], [-37.89363, 144.65693], [-37.89347, 144.66679], [-37.88275, 144.66661], [-37.89407, 144.67724], [-37.90111, 144.63302], [-37.79369, 144.87511], [-37.80029, 144.87859], [-37.79194, 144.87144], [-37.8649, 144.89524], [-37.86253, 144.88748], [-37.86148, 144.88303], [-37.86409, 144.88224], [-37.8561, 144.90028], [-37.81956, 144.89054], [-37.81493, 144.88974], [-37.72893, 144.88859], [-37.77967, 144.81275], [-37.86494, 144.8157], [-37.86066, 144.82013], [-37.86837, 144.81502], [-37.88893, 144.7866], [-37.8399, 144.86228], [-37.77459, 144.92993], [-37.77352, 144.92188], [-37.77279, 144.91732], [-37.76654, 144.86469], [-37.75986, 144.85886], [-37.74904, 144.90668], [-37.74541, 144.89844], [-37.7468, 144.92033], [-37.76, 144.91439], [-37.7545, 144.91194], [-37.75728, 144.90723], [-37.73566, 144.89368], [-37.73746, 144.90079], [-37.78778, 144.89037], [-37.80443, 144.90642], [-37.80376, 144.89862], [-37.79592, 144.88595], [-37.68329, 144.89302], [-37.68302, 144.89327], [-37.6852, 144.89853], [-37.70626, 144.89551], [-37.68178, 144.73779], [-37.86659, 144.69959], [-37.8688, 144.68768], [-37.72343, 144.81411], [-37.73514, 144.87144], [-37.73137, 144.86882], [-37.72529, 144.85682], [-37.80635, 144.8845], [-37.77824, 144.87427], [-37.76878, 144.89197], [-37.76086, 144.90497], [-37.77154, 144.91597], [-37.84283, 144.87959], [-37.7415, 144.88923], [-37.73666, 144.87725], [-37.90545, 144.76077], [-37.86781, 144.84275], [-37.8041, 144.8916], [-37.80504, 144.88685], [-37.80552, 144.88889], [-37.73915, 144.80289], [-37.74538, 144.79216], [-37.75098, 144.80331], [-37.73163, 144.80697], [-37.56291, 144.72848], [-37.78579, 144.83597], [-37.78519, 144.83651], [-37.78956, 144.84526], [-37.78874, 144.82399], [-37.705, 144.75759], [-37.7209, 144.75053], [-37.69496, 144.79511], [-37.68903, 144.77226], [-37.88547, 144.65529], [-37.90188, 144.65138], [-37.81869, 144.8726], [-37.75418, 144.89017], [-37.72967, 144.88835], [-37.72908, 144.88327], [-37.7438, 144.77059], [-37.87028, 144.80749], [-37.86677, 144.83722], [-37.83344, 144.85586], [-37.77639, 144.91666], [-37.7719, 144.91565], [-37.77552, 144.92022], [-37.7771, 144.92793], [-37.7777, 144.92512], [-37.77263, 144.92045], [-37.75861, 144.86687], [-37.78261, 144.84954], [-37.7877, 144.84757], [-37.74281, 144.72513], [-37.76336, 144.7725], [-37.77371, 144.76919], [-37.7728, 144.76941], [-37.75225, 144.90462], [-37.74999, 144.91447], [-37.75122, 144.91805], [-37.74566, 144.89346], [-37.75344, 144.92616], [-37.74944, 144.88479], [-37.6953, 144.89837], [-37.70377, 144.90217], [-37.68381, 144.73331], [-37.70338, 144.74854], [-37.72302, 144.83434], [-37.72305, 144.81074], [-37.72545, 144.80397], [-37.78707, 144.87608], [-37.78667, 144.88834], [-37.78446, 144.88781], [-37.76911, 144.92472], [-37.77106, 144.91162], [-37.84502, 144.88612], [-37.8363, 144.87588], [-37.83529, 144.87893], [-37.74549, 144.88666], [-37.80828, 144.8856], [-37.83187, 144.88966], [-37.76454, 144.80611], [-37.719, 144.90634], [-37.74246, 144.92074], [-37.58419, 144.73188], [-37.78647, 144.81319], [-37.79209, 144.82024], [-37.69274, 144.76971], [-37.78281, 144.93567], [-37.79221, 144.86408], [-37.76181, 144.89327], [-37.71811, 144.87693], [-37.71917, 144.87819], [-37.77976, 144.81559], [-37.8732, 144.81331], [-37.86715, 144.80612], [-37.77727, 144.92655], [-37.77391, 144.92151], [-37.7801, 144.90976], [-37.77549, 144.90865], [-37.76272, 144.85569], [-37.82017, 144.84904], [-37.73321, 144.75752], [-37.76203, 144.77764], [-37.7613, 144.75988], [-37.7572, 144.76093], [-37.78774, 144.76019], [-37.6204, 144.71138], [-37.74022, 144.89557], [-37.74936, 144.89669], [-37.75382, 144.89167], [-37.75209, 144.92255], [-37.74487, 144.91194], [-37.7388, 144.89984], [-37.75228, 144.88429], [-37.79977, 144.88887], [-37.78822, 144.88361], [-37.69744, 144.89073], [-37.68368, 144.88976], [-37.69655, 144.75538], [-37.68175, 144.74087], [-37.86713, 144.71086], [-37.8765, 144.69638], [-37.86767, 144.68409], [-37.86658, 144.71221], [-37.87711, 144.68825], [-37.87051, 144.7141], [-37.85146, 144.67109], [-37.87016, 144.70606], [-37.7143, 144.8315], [-37.72394, 144.8147], [-37.7444, 144.86124], [-37.74761, 144.8521], [-37.74083, 144.85545], [-37.72203, 144.85994], [-37.7323, 144.77861], [-37.78867, 144.87397], [-37.77323, 144.89268], [-37.77296, 144.88057], [-37.7839, 144.89431], [-37.77367, 144.88161], [-37.74731, 144.88826], [-37.73327, 144.87482], [-37.73521, 144.87709], [-37.80401, 144.89519], [-37.80697, 144.8928], [-37.8071, 144.88912], [-37.82984, 144.873], [-37.8257, 144.87552], [-37.82673, 144.87495], [-37.75836, 144.80279], [-37.73385, 144.80535], [-37.58089, 144.72183], [-37.77972, 144.83809], [-37.79127, 144.83713], [-37.79501, 144.8262], [-37.77049, 144.83167], [-37.76951, 144.83309], [-37.77004, 144.84254], [-37.72199, 144.74578], [-37.68166, 144.77422], [-37.84169, 144.72333], [-37.69728, 144.87455], [-37.69636, 144.88265], [-37.90908, 144.65774], [-37.88831, 144.63942], [-37.80962, 144.86877], [-37.85569, 144.89374], [-37.86682, 144.90003], [-37.85432, 144.88214], [-37.81611, 144.87945], [-37.81133, 144.89553], [-37.72752, 144.88358], [-37.83794, 144.84231], [-37.82726, 144.83533], [-37.77182, 144.90524], [-37.77178, 144.85397], [-37.75718, 144.85357], [-37.76063, 144.8603], [-37.75962, 144.86675], [-37.79382, 144.85107], [-37.78207, 144.85342], [-37.78341, 144.85574], [-37.82073, 144.8447], [-37.75777, 144.77974], [-37.7253, 144.7484], [-37.70624, 144.74042], [-37.7277, 144.73422], [-37.76545, 144.76458], [-37.77396, 144.77229], [-37.79571, 144.76656], [-37.74635, 144.9229], [-37.75515, 144.92114], [-37.75621, 144.93401], [-37.80196, 144.90783], [-37.68269, 144.88601], [-37.6869, 144.7485], [-37.71796, 144.827], [-37.71368, 144.82082], [-37.72659, 144.79668], [-37.71575, 144.80598], [-37.7305, 144.86863], [-37.74165, 144.86279], [-37.7219, 144.85239], [-37.72012, 144.86149], [-37.78502, 144.86733], [-37.77813, 144.87287], [-37.77915, 144.88137], [-37.78352, 144.88981], [-37.76075, 144.91927], [-37.7693, 144.93415], [-37.76421, 144.90571], [-37.84346, 144.88947], [-37.87899, 144.75625], [-37.83162, 144.88742], [-37.75424, 144.80816], [-37.73593, 144.8101], [-37.73615, 144.81445], [-37.73704, 144.79108], [-37.73106, 144.80665], [-37.73831, 144.91114], [-37.73415, 144.91852], [-37.58025, 144.71759], [-37.58231, 144.69962], [-37.57355, 144.70854], [-37.7807, 144.83648], [-37.76941, 144.82385], [-37.80046, 144.82676], [-37.79703, 144.81228], [-37.85162, 144.66522], [-37.84688, 144.68182], [-37.83963, 144.71487], [-37.84253, 144.7227], [-37.70598, 144.87616], [-37.70695, 144.88514], [-37.8723, 144.661], [-37.88421, 144.67869], [-37.88996, 144.65526], [-37.85843, 144.89976], [-37.86155, 144.89081], [-37.87047, 144.59864], [-37.81335, 144.89471], [-37.82356, 144.88191], [-37.75595, 144.90551], [-37.73351, 144.88749], [-37.72572, 144.86848], [-37.74839, 144.7735], [-37.87256, 144.8078], [-37.86473, 144.81507], [-37.871, 144.81153], [-37.88413, 144.79033], [-37.77659, 144.9338], [-37.75314, 144.77878], [-37.73531, 144.74335], [-37.77538, 144.76933], [-37.7145, 144.77132], [-37.62856, 144.71825], [-37.74997, 144.90752], [-37.74121, 144.89273], [-37.74652, 144.89178], [-37.74351, 144.92174], [-37.75178, 144.89876], [-37.79975, 144.88368], [-37.78872, 144.88891], [-37.68641, 144.89826], [-37.6974, 144.8916], [-37.6844, 144.75595], [-37.85954, 144.71456], [-37.86833, 144.7035], [-37.73574, 144.87014], [-37.73305, 144.86526], [-37.74182, 144.85498], [-37.80857, 144.87682], [-37.81167, 144.88346], [-37.78458, 144.88106], [-37.78974, 144.88143], [-37.78966, 144.87821], [-37.78559, 144.86483], [-37.77413, 144.87533], [-37.7816, 144.88999], [-37.76218, 144.92886], [-37.76389, 144.9185], [-37.84147, 144.88494], [-37.85134, 144.88636], [-37.84586, 144.88948], [-37.83859, 144.88128], [-37.84608, 144.86525], [-37.7431, 144.88722], [-37.89273, 144.72559], [-37.89807, 144.73925], [-37.80803, 144.89601], [-37.73084, 144.78348], [-37.72945, 144.79592], [-37.73681, 144.90587], [-37.73154, 144.92243], [-37.74057, 144.92172], [-37.73456, 144.91521], [-37.78703, 144.84569], [-37.79595, 144.83206], [-37.78825, 144.80099], [-37.69969, 144.7685], [-37.84267, 144.65407], [-37.83851, 144.6887], [-37.70847, 144.78413], [-37.77784, 144.93482], [-37.88496, 144.66332], [-37.89118, 144.65368], [-37.88632, 144.67582], [-37.79429, 144.87412], [-37.85925, 144.88761], [-37.87959, 144.60977], [-37.81961, 144.88132], [-37.82252, 144.87718], [-37.81481, 144.88013], [-37.81249, 144.89531], [-37.81352, 144.88311], [-37.74373, 144.77567], [-37.86639, 144.82625], [-37.86027, 144.82073], [-37.86472, 144.82929], [-37.88995, 144.78505], [-37.83648, 144.86296], [-37.78258, 144.91694], [-37.77341, 144.9013], [-37.78052, 144.93002], [-37.77261, 144.92276], [-37.77561, 144.91695], [-37.77226, 144.90942], [-37.76421, 144.85594], [-37.82212, 144.84477], [-37.74254, 144.74572], [-37.76496, 144.77289], [-37.7143, 144.77096], [-37.79215, 144.76285], [-37.7494, 144.92096], [-37.74253, 144.91753], [-37.74444, 144.92084], [-37.73993, 144.90271], [-37.75374, 144.88932], [-37.80069, 144.88199], [-37.79633, 144.88526], [-37.79711, 144.88825], [-37.79529, 144.88453], [-37.69787, 144.75082], [-37.87326, 144.69103], [-37.87386, 144.69317], [-37.88505, 144.69423], [-37.72286, 144.83252], [-37.71757, 144.81328], [-37.72483, 144.8143], [-37.74214, 144.86965], [-37.73573, 144.87531], [-37.74316, 144.87894], [-37.7465, 144.8613], [-37.78493, 144.87968], [-37.78571, 144.87346], [-37.78799, 144.87515], [-37.78606, 144.87205], [-37.76703, 144.88915], [-37.77117, 144.88041], [-37.7638, 144.9089], [-37.7685, 144.91103], [-37.84234, 144.86622], [-37.84417, 144.87544], [-37.73834, 144.88197], [-37.90715, 144.76527], [-37.89279, 144.73158], [-37.8914, 144.72014], [-37.7398, 144.80348], [-37.73789, 144.78734], [-37.73986, 144.81105], [-37.79354, 144.8328], [-37.7864, 144.8402], [-37.79352, 144.84318], [-37.80099, 144.81178], [-37.7944, 144.79413], [-37.70941, 144.7873], [-37.71128, 144.80686], [-37.78466, 144.93829], [-37.70586, 144.87947], [-37.87975, 144.66459], [-37.89074, 144.65677], [-37.87628, 144.66481], [-37.90423, 144.67008], [-37.80728, 144.86702], [-37.79433, 144.88001], [-37.80735, 144.87361], [-37.86159, 144.89926], [-37.81662, 144.866], [-37.81381, 144.87438], [-37.82116, 144.89181], [-37.81183, 144.88569], [-37.81796, 144.8681], [-37.76027, 144.88954], [-37.76316, 144.89799], [-37.75875, 144.9027], [-37.75882, 144.9027], [-37.76111, 144.89845], [-37.72158, 144.8801], [-37.86317, 144.83927], [-37.87171, 144.81273], [-37.87057, 144.83623], [-37.87115, 144.8189], [-37.87019, 144.7843], [-37.84107, 144.84179], [-37.82787, 144.84364], [-37.84384, 144.84637], [-37.83658, 144.86199], [-37.78104, 144.80357], [-37.78329, 144.91842], [-37.77266, 144.9131], [-37.77255, 144.91213], [-37.76518, 144.85621], [-37.7528, 144.85585], [-37.75261, 144.85631], [-37.78893, 144.84652], [-37.75637, 144.77983], [-37.75907, 144.75924], [-37.719, 144.76699], [-37.72589, 144.77991], [-37.75769, 144.91051], [-37.75547, 144.91327], [-37.7384, 144.90485], [-37.79919, 144.89607], [-37.79334, 144.89128], [-37.79686, 144.908], [-37.79221, 144.89076], [-37.69584, 144.89379], [-37.69148, 144.89873], [-37.68974, 144.75225], [-37.86991, 144.68607], [-37.86821, 144.69566], [-37.87185, 144.68931], [-37.7364, 144.82556], [-37.73936, 144.85874], [-37.73421, 144.86832], [-37.74807, 144.86927], [-37.72765, 144.78107], [-37.78242, 144.86955], [-37.78639, 144.88214], [-37.78353, 144.87233], [-37.78891, 144.87114], [-37.77449, 144.88011], [-37.77117, 144.88041], [-37.77149, 144.91552], [-37.84769, 144.87667], [-37.73435, 144.8768], [-37.74266, 144.88577], [-37.80618, 144.89057], [-37.73348, 144.79564], [-37.73051, 144.91731], [-37.56935, 144.7241], [-37.57532, 144.71058], [-37.79337, 144.8418], [-37.76508, 144.83629], [-37.76812, 144.82528], [-37.78666, 144.8109], [-37.79573, 144.79311], [-37.78945, 144.80062], [-37.69106, 144.75854], [-37.70686, 144.76989], [-37.867, 144.65618], [-37.83353, 144.67324], [-37.85037, 144.66179], [-37.71364, 144.76031], [-37.7117, 144.75204], [-37.71152, 144.75283], [-37.70841, 144.79699], [-37.70894, 144.80205], [-37.6899, 144.78346], [-37.69394, 144.7795], [-37.69503, 144.77869], [-37.70321, 144.87972], [-37.8889, 144.65744], [-37.91807, 144.63816], [-37.89415, 144.64143], [-37.88702, 144.66101], [-37.88666, 144.66149], [-37.91859, 144.64143], [-37.89444, 144.65591], [-37.89556, 144.64268], [-37.79638, 144.87911], [-37.792, 144.86856], [-37.85414, 144.89561], [-37.82333, 144.87955], [-37.81845, 144.87464], [-37.81736, 144.89133], [-37.7325, 144.88272], [-37.74306, 144.76679], [-37.78141, 144.82462], [-37.77956, 144.82519], [-37.77856, 144.82443], [-37.77713, 144.79746], [-37.7783, 144.90876], [-37.78062, 144.84803], [-37.82001, 144.84245], [-37.76048, 144.78847], [-37.73868, 144.7325], [-37.75465, 144.9107], [-37.74093, 144.89279], [-37.75485, 144.9119], [-37.7498, 144.91228], [-37.74473, 144.90238], [-37.80474, 144.9021], [-37.79462, 144.89385], [-37.70606, 144.89412], [-37.70428, 144.74705], [-37.68104, 144.74608], [-37.87447, 144.66771], [-37.75166, 144.87552], [-37.72224, 144.85739], [-37.72285, 144.86073], [-37.80893, 144.87878], [-37.78502, 144.86733], [-37.78133, 144.86768], [-37.76261, 144.93249], [-37.76321, 144.91958], [-37.83712, 144.86686], [-37.84212, 144.88211], [-37.91269, 144.73946], [-37.90622, 144.74946], [-37.87896, 144.75473], [-37.86007, 144.84578], [-37.80473, 144.89095], [-37.83172, 144.86683], [-37.57063, 144.70693], [-37.57816, 144.73431], [-37.58442, 144.75565], [-37.57499, 144.75329], [-37.78871, 144.81369], [-37.79135, 144.79948], [-37.80118, 144.80996], [-37.70525, 144.75699], [-37.70892, 144.80087], [-37.70458, 144.79505], [-37.70322, 144.88236], [-37.69815, 144.88019], [-37.90379, 144.66165], [-37.89359, 144.66911], [-37.89337, 144.64003], [-37.87895, 144.6707], [-37.89402, 144.66276], [-37.79458, 144.87271], [-37.86558, 144.90474], [-37.85588, 144.89936], [-37.86335, 144.89487], [-37.81649, 144.86731], [-37.81038, 144.89389]],\n",
       "                {&quot;blur&quot;: 15, &quot;maxZoom&quot;: 18, &quot;minOpacity&quot;: 0.5, &quot;radius&quot;: 25}\n",
       "            ).addTo(map_fbf90aef547bf682a1ad05d014651d61);\n",
       "        \n",
       "&lt;/script&gt;\" style=\"position:absolute;width:100%;height:100%;left:0;top:0;border:none !important;\" allowfullscreen webkitallowfullscreen mozallowfullscreen></iframe></div></div>"
      ],
      "text/plain": [
       "<folium.folium.Map at 0x2813fafa6d0>"
      ]
     },
     "execution_count": 47,
     "metadata": {},
     "output_type": "execute_result"
    }
   ],
   "source": [
    "import folium\n",
    "from folium.plugins import HeatMap\n",
    "\n",
    "# Melbourne latitude and longitude values\n",
    "latitude = -37.8\n",
    "longitude = 145.03\n",
    "\n",
    "# create map and display it\n",
    "\n",
    "mel_map2 = folium.Map(location=[latitude, longitude], zoom_start=12)\n",
    "\n",
    "# List comprehension to make out list of lists\n",
    "heat_data = [[row['Lattitude'],row['Longtitude']] for index, row in melbourne_data_df_wmetro.iterrows()]\n",
    "\n",
    "# Plot it on the map\n",
    "HeatMap(heat_data).add_to(mel_map2)\n",
    "\n",
    "# Display the map\n",
    "mel_map2"
   ]
  },
  {
   "cell_type": "code",
   "execution_count": null,
   "id": "e2d489eb",
   "metadata": {},
   "outputs": [],
   "source": []
  }
 ],
 "metadata": {
  "kernelspec": {
   "display_name": "Python 3 (ipykernel)",
   "language": "python",
   "name": "python3"
  },
  "language_info": {
   "codemirror_mode": {
    "name": "ipython",
    "version": 3
   },
   "file_extension": ".py",
   "mimetype": "text/x-python",
   "name": "python",
   "nbconvert_exporter": "python",
   "pygments_lexer": "ipython3",
   "version": "3.9.12"
  },
  "varInspector": {
   "cols": {
    "lenName": 16,
    "lenType": 16,
    "lenVar": 40
   },
   "kernels_config": {
    "python": {
     "delete_cmd_postfix": "",
     "delete_cmd_prefix": "del ",
     "library": "var_list.py",
     "varRefreshCmd": "print(var_dic_list())"
    },
    "r": {
     "delete_cmd_postfix": ") ",
     "delete_cmd_prefix": "rm(",
     "library": "var_list.r",
     "varRefreshCmd": "cat(var_dic_list()) "
    }
   },
   "types_to_exclude": [
    "module",
    "function",
    "builtin_function_or_method",
    "instance",
    "_Feature"
   ],
   "window_display": false
  }
 },
 "nbformat": 4,
 "nbformat_minor": 5
}
